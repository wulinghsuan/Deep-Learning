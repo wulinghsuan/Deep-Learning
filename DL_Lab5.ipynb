{
  "nbformat": 4,
  "nbformat_minor": 0,
  "metadata": {
    "kernelspec": {
      "name": "python3",
      "display_name": "Python 3"
    },
    "language_info": {
      "codemirror_mode": {
        "name": "ipython",
        "version": 3
      },
      "file_extension": ".py",
      "mimetype": "text/x-python",
      "name": "python",
      "nbconvert_exporter": "python",
      "pygments_lexer": "ipython3",
      "version": "3.7.3"
    },
    "colab": {
      "name": "DSTI_DL_Lab5_March2020.ipynb",
      "provenance": [],
      "collapsed_sections": [],
      "toc_visible": true
    }
  },
  "cells": [
    {
      "cell_type": "markdown",
      "metadata": {
        "id": "BPbtmfqMqsVj",
        "colab_type": "text"
      },
      "source": [
        "# Function approximation with a deep neural network"
      ]
    },
    {
      "cell_type": "markdown",
      "metadata": {
        "id": "lA-dG5TvNT9U",
        "colab_type": "text"
      },
      "source": [
        "## Quartic function and training dataset"
      ]
    },
    {
      "cell_type": "markdown",
      "metadata": {
        "id": "Ze4-03KGq2Gx",
        "colab_type": "text"
      },
      "source": [
        "In algebra, a quartic function is a function of the form\n",
        "$$\n",
        "f(t)=at^{4}+bt^{3}+ct^{2}+dt+e,\n",
        "$$\n",
        "where $a$ is nonzero, which is defined by a polynomial of degree four, called a quartic polynomial."
      ]
    },
    {
      "cell_type": "code",
      "metadata": {
        "id": "XSxuWuabouDj",
        "colab_type": "code",
        "colab": {}
      },
      "source": [
        "%matplotlib inline\n",
        "import numpy as np\n",
        "import matplotlib.pyplot as plt\n",
        "import torch\n"
      ],
      "execution_count": 0,
      "outputs": []
    },
    {
      "cell_type": "markdown",
      "metadata": {
        "id": "uYRSPAtGouDo",
        "colab_type": "text"
      },
      "source": [
        "Define and plot a quartic function"
      ]
    },
    {
      "cell_type": "code",
      "metadata": {
        "id": "JhCmQNviouDu",
        "colab_type": "code",
        "colab": {}
      },
      "source": [
        "D_in = 1\n",
        "D_out = 1\n",
        "\n",
        "# Create random Tensors to hold inputs and outputs\n",
        "x = torch.arange(-9,3.5,0.1).view(-1,1) #(-5,3.5,0.1)\n",
        "y = x**4 + 2*x**3 - 12*x**2 -2*x + 6\n",
        "y = torch.where(x < -5, torch.zeros_like(x), y)\n",
        "N = x.shape[0]"
      ],
      "execution_count": 0,
      "outputs": []
    },
    {
      "cell_type": "code",
      "metadata": {
        "id": "8Upa4fCuouD5",
        "colab_type": "code",
        "outputId": "ca98f61d-7551-440e-dd99-268521f1f20f",
        "colab": {
          "base_uri": "https://localhost:8080/",
          "height": 51
        }
      },
      "source": [
        "print(x.size())\n",
        "print(y.size())\n"
      ],
      "execution_count": 3,
      "outputs": [
        {
          "output_type": "stream",
          "text": [
            "torch.Size([125, 1])\n",
            "torch.Size([125, 1])\n"
          ],
          "name": "stdout"
        }
      ]
    },
    {
      "cell_type": "markdown",
      "metadata": {
        "id": "IY7bxmOpsRYq",
        "colab_type": "text"
      },
      "source": [
        "Converting Torch Tensor to NumPy Array for plotting the function"
      ]
    },
    {
      "cell_type": "code",
      "metadata": {
        "id": "L80Arv5FuLj-",
        "colab_type": "code",
        "outputId": "c8efbc66-9684-493e-a421-842c6b2d6449",
        "colab": {
          "base_uri": "https://localhost:8080/",
          "height": 279
        }
      },
      "source": [
        "fig, ax = plt.subplots()\n",
        "plt.plot(x.numpy(), y.numpy(),'r-',label='Quartic function')\n",
        "plt.xlabel('$x$')\n",
        "plt.ylabel('$f(x)$')\n",
        "plt.show()\n",
        "ax.legend()\n",
        "plt.show()"
      ],
      "execution_count": 4,
      "outputs": [
        {
          "output_type": "display_data",
          "data": {
            "image/png": "[encoded data removed]",
            "text/plain": [
              "<Figure size 432x288 with 1 Axes>"
            ]
          },
          "metadata": {
            "tags": [],
            "needs_background": "light"
          }
        }
      ]
    },
    {
      "cell_type": "markdown",
      "metadata": {
        "id": "vI35l73mNZ0w",
        "colab_type": "text"
      },
      "source": [
        "## Approximation with a deep neural network"
      ]
    },
    {
      "cell_type": "markdown",
      "metadata": {
        "id": "8tJWe_-W1khM",
        "colab_type": "text"
      },
      "source": [
        "### Question: code a deep neural network to approximate the function. The network will have 3 full-connected layers (followed by a ReLU activation function) and a final full-connected layer without any activation function. You will use the Adam optimizer. Choose the most appropriate loss function. You must compute the loss at each epoch."
      ]
    },
    {
      "cell_type": "code",
      "metadata": {
        "id": "IWija8I3ouDy",
        "colab_type": "code",
        "colab": {
          "base_uri": "https://localhost:8080/",
          "height": 119
        },
        "outputId": "521d0e06-2854-4923-b542-59d142ca8f81"
      },
      "source": [
        "import torch\n",
        "\n",
        "H1, H2, H3 = 40, 20, 20 # number of hidden neurons\n",
        "\n",
        "Niter = 5*10**3+1\n",
        "\n",
        "# Create an array for detaching loss\n",
        "import numpy as np\n",
        "saveLoss = np.zeros(Niter)\n",
        "\n",
        "model = torch.nn.Sequential(\n",
        "    torch.nn.Linear(D_in, H1),\n",
        "    torch.nn.ReLU(),\n",
        "    torch.nn.Linear(H1, H2),\n",
        "    torch.nn.ReLU(),\n",
        "    torch.nn.Linear(H2, H3),\n",
        "    torch.nn.ReLU(),\n",
        "    torch.nn.Linear(H3, D_out),\n",
        ")\n",
        "\n",
        "loss_fn = torch.nn.MSELoss(reduction='mean')\n",
        "\n",
        "learning_rate = 1e-2\n",
        "optimizer = torch.optim.Adam(model.parameters(), lr=learning_rate)\n",
        "\n",
        "for t in range(Niter):\n",
        "  # Forward pass: compute predicted y by passing x to the model.\n",
        "  y_pred = model(x)\n",
        "\n",
        "  # Compute and print loss. Save loss in saveLoss\n",
        "  loss = loss_fn(y_pred, y)\n",
        "  saveLoss[t] = loss.detach().numpy()\n",
        "  if t % 1000 == 0:\n",
        "        print(t, loss.item())\n",
        "\n",
        "  # Zero the gradients and the optimizer object before running the backward pass.\n",
        "  model.zero_grad()\n",
        "  optimizer.zero_grad()\n",
        "\n",
        "  # Backward pass: compute gradient of the loss with respect to model parameters.\n",
        "  loss.backward()\n",
        "\n",
        "  # Calling the step function on an Optimizer makes an update to its parameters.\n",
        "  optimizer.step()   \n"
      ],
      "execution_count": 5,
      "outputs": [
        {
          "output_type": "stream",
          "text": [
            "0 941.2618408203125\n",
            "1000 23.885025024414062\n",
            "2000 6.591931343078613\n",
            "3000 0.47247686982154846\n",
            "4000 0.12438037246465683\n",
            "5000 0.0346173532307148\n"
          ],
          "name": "stdout"
        }
      ]
    },
    {
      "cell_type": "markdown",
      "metadata": {
        "id": "VW-RbXaP2OrE",
        "colab_type": "text"
      },
      "source": [
        "Plot the training error as a function of the epoch"
      ]
    },
    {
      "cell_type": "code",
      "metadata": {
        "id": "aam3YN7VouD-",
        "colab_type": "code",
        "colab": {
          "base_uri": "https://localhost:8080/",
          "height": 279
        },
        "outputId": "247273e1-0502-4f3b-8ce8-ddf9bfbfb037"
      },
      "source": [
        "fig, ax = plt.subplots()\n",
        "plt.plot(range(Niter),saveLoss,'b-',label='Training error')\n",
        "plt.xlabel('Epoch')\n",
        "plt.ylabel('MSE')\n",
        "ax.legend()\n",
        "plt.show()"
      ],
      "execution_count": 6,
      "outputs": [
        {
          "output_type": "display_data",
          "data": {
            "image/png": "[encoded data removed]",
            "text/plain": [
              "<Figure size 432x288 with 1 Axes>"
            ]
          },
          "metadata": {
            "tags": [],
            "needs_background": "light"
          }
        }
      ]
    },
    {
      "cell_type": "markdown",
      "metadata": {
        "id": "FnjcbWrJ0CV3",
        "colab_type": "text"
      },
      "source": [
        "### Question: plot on the same graph the quartic function and its approximation"
      ]
    },
    {
      "cell_type": "code",
      "metadata": {
        "scrolled": true,
        "id": "AnvnNn-touEB",
        "colab_type": "code",
        "colab": {
          "base_uri": "https://localhost:8080/",
          "height": 279
        },
        "outputId": "22b4b9f0-c815-422a-f583-516efd8fac54"
      },
      "source": [
        "fig, ax = plt.subplots()\n",
        "plt.plot(x.numpy(), y.numpy(),'r-',label='Quartic function')\n",
        "plt.plot(x.numpy(), y_pred.detach().numpy(),'bo-', label='Deep approximation')\n",
        "plt.xlabel('$x$')\n",
        "plt.ylabel('$f(x)$')\n",
        "plt.show()\n",
        "ax.legend()\n",
        "plt.show()"
      ],
      "execution_count": 7,
      "outputs": [
        {
          "output_type": "display_data",
          "data": {
            "image/png": "[encoded data removed]",
            "text/plain": [
              "<Figure size 432x288 with 1 Axes>"
            ]
          },
          "metadata": {
            "tags": [],
            "needs_background": "light"
          }
        }
      ]
    },
    {
      "cell_type": "markdown",
      "metadata": {
        "id": "_MpXhTY1rwGE",
        "colab_type": "text"
      },
      "source": [
        "How many parameters?"
      ]
    },
    {
      "cell_type": "code",
      "metadata": {
        "id": "OhpZsJxeouD1",
        "colab_type": "code",
        "colab": {}
      },
      "source": [
        "# Function to count the number of parameters\n",
        "def count_parameters(model):\n",
        "    return sum(p.numel() for p in model.parameters() if p.requires_grad) \n",
        "    # only for parameters related to gradient, but update by gradient\n"
      ],
      "execution_count": 0,
      "outputs": []
    },
    {
      "cell_type": "code",
      "metadata": {
        "id": "xsEJhkeUr107",
        "colab_type": "code",
        "colab": {
          "base_uri": "https://localhost:8080/",
          "height": 221
        },
        "outputId": "89c60aaa-b970-49cb-e3fc-80a00a82aee3"
      },
      "source": [
        "print(model.parameters)\n",
        "print(\"\\nTotal number of parameters {}\\n\".format(count_parameters(model)))"
      ],
      "execution_count": 9,
      "outputs": [
        {
          "output_type": "stream",
          "text": [
            "<bound method Module.parameters of Sequential(\n",
            "  (0): Linear(in_features=1, out_features=40, bias=True)\n",
            "  (1): ReLU()\n",
            "  (2): Linear(in_features=40, out_features=20, bias=True)\n",
            "  (3): ReLU()\n",
            "  (4): Linear(in_features=20, out_features=20, bias=True)\n",
            "  (5): ReLU()\n",
            "  (6): Linear(in_features=20, out_features=1, bias=True)\n",
            ")>\n",
            "\n",
            "Total number of parameters 1341\n",
            "\n"
          ],
          "name": "stdout"
        }
      ]
    },
    {
      "cell_type": "markdown",
      "metadata": {
        "id": "25qDBAThPq2Q",
        "colab_type": "text"
      },
      "source": [
        "125 inputs and come out with 1341 parameters. It's overfitting."
      ]
    },
    {
      "cell_type": "markdown",
      "metadata": {
        "id": "uRKKUiGMMAGL",
        "colab_type": "text"
      },
      "source": [
        "Print all the parameters (just for seeing them)"
      ]
    },
    {
      "cell_type": "code",
      "metadata": {
        "id": "hstPktpFLuYl",
        "colab_type": "code",
        "colab": {
          "base_uri": "https://localhost:8080/",
          "height": 1000
        },
        "outputId": "96022d63-9cd6-4251-921f-6d4dc21f429e"
      },
      "source": [
        "for parameter in model.parameters():\n",
        "    print(parameter)"
      ],
      "execution_count": 10,
      "outputs": [
        {
          "output_type": "stream",
          "text": [
            "Parameter containing:\n",
            "tensor([[ 1.0112],\n",
            "        [ 1.1334],\n",
            "        [ 0.5459],\n",
            "        [-0.4164],\n",
            "        [ 0.3380],\n",
            "        [ 0.0676],\n",
            "        [ 0.4245],\n",
            "        [ 0.5918],\n",
            "        [ 1.2489],\n",
            "        [ 0.0124],\n",
            "        [ 0.0698],\n",
            "        [-0.7628],\n",
            "        [-0.5079],\n",
            "        [-0.8941],\n",
            "        [ 0.2913],\n",
            "        [-0.6539],\n",
            "        [-0.9526],\n",
            "        [ 0.3378],\n",
            "        [-0.2296],\n",
            "        [ 0.3027],\n",
            "        [ 0.3325],\n",
            "        [-0.0152],\n",
            "        [-0.0573],\n",
            "        [-0.9365],\n",
            "        [ 0.6987],\n",
            "        [ 0.0188],\n",
            "        [-0.8520],\n",
            "        [ 0.4929],\n",
            "        [-0.4236],\n",
            "        [-0.6542],\n",
            "        [-0.0826],\n",
            "        [ 0.5101],\n",
            "        [ 0.4126],\n",
            "        [ 0.5472],\n",
            "        [-0.9526],\n",
            "        [ 0.2202],\n",
            "        [ 0.8299],\n",
            "        [ 0.5584],\n",
            "        [ 0.0030],\n",
            "        [ 0.4649]], requires_grad=True)\n",
            "Parameter containing:\n",
            "tensor([-1.4408,  0.3970,  0.0654,  1.2453,  1.7238,  0.5210,  2.1648, -1.5467,\n",
            "        -0.6653,  1.9895,  1.4248, -2.1043, -2.4843, -2.9814,  2.5556, -1.0302,\n",
            "        -3.1562,  1.0129,  1.6056,  1.5442,  0.9706, -0.2255, -0.7522, -4.2245,\n",
            "        -1.4735, -0.9750, -4.1323,  0.5218,  1.0588, -2.4984, -0.8965, -1.3874,\n",
            "         2.1252,  1.1023, -1.0198,  0.6566, -1.9474, -0.9843,  2.0094,  1.2983],\n",
            "       requires_grad=True)\n",
            "Parameter containing:\n",
            "tensor([[ 1.9833e-02,  3.3551e-02, -7.0159e-02, -1.1069e-01, -1.7683e-01,\n",
            "         -2.0608e-01, -2.0367e-01,  2.7652e-02, -9.0212e-02, -1.7295e-01,\n",
            "         -1.5202e-01, -7.9024e-02,  9.3949e-02,  3.3718e-02, -3.2466e-02,\n",
            "         -2.1728e-01,  4.0120e-02, -1.1978e-01,  2.9607e-02,  7.3350e-03,\n",
            "          4.6747e-03,  7.4483e-02, -1.4150e-01, -1.9289e-01, -1.4200e-01,\n",
            "         -9.1216e-02,  7.2241e-02, -1.2918e-01,  6.3567e-02, -1.0886e-01,\n",
            "         -2.3047e-02, -1.0417e-01, -2.1696e-01,  3.0618e-02,  8.6832e-02,\n",
            "         -1.0675e-01, -3.2389e-03,  1.5336e-01,  1.7150e-02, -7.7499e-02],\n",
            "        [-4.8456e-01,  5.4872e-03, -9.5803e-02,  2.8812e-01,  1.0418e+00,\n",
            "          2.7346e-01,  9.9641e-01, -1.0161e+00, -2.1476e-01,  4.1256e-01,\n",
            "          2.9433e-01, -4.9897e-01, -9.3314e-01, -1.4203e+00,  7.8588e-01,\n",
            "         -7.7982e-02, -4.5277e-01,  1.7490e-01,  1.8619e-01,  1.3593e-01,\n",
            "          1.1046e-01,  5.4081e-02,  1.0125e-01, -8.7217e-01, -9.6306e-01,\n",
            "          8.8542e-02, -1.2949e+00, -3.2166e-01,  1.6034e-01, -1.5721e+00,\n",
            "         -4.8645e-02, -7.1401e-01,  9.0777e-01,  4.0379e-02, -1.4629e-01,\n",
            "         -4.8439e-02, -7.8995e-01, -9.7465e-01,  6.4770e-01,  9.7299e-03],\n",
            "        [ 6.4464e-02,  1.4150e-01,  1.7632e-02,  6.4337e-02, -1.9272e-01,\n",
            "         -1.1698e-01, -9.1229e-02, -5.4931e-02,  3.1496e-02, -4.2891e-02,\n",
            "         -6.2098e-02, -1.3809e-01,  6.4774e-02, -2.9063e-02,  1.5303e-02,\n",
            "         -5.6717e-02,  2.5390e-02, -2.5231e-02, -1.1672e-01, -1.0808e-01,\n",
            "          6.0988e-02, -1.6195e-02,  7.4561e-02,  2.8453e-02,  8.5183e-03,\n",
            "         -4.1085e-02, -4.3552e-02, -3.1904e-02, -7.3240e-02, -1.2187e-01,\n",
            "          3.3015e-02, -5.1269e-02, -2.0057e-02, -1.3133e-01, -1.3836e-01,\n",
            "         -7.7618e-02,  2.8062e-02,  1.2780e-01, -7.7111e-02, -3.3532e-02],\n",
            "        [-1.5564e-01, -1.4896e-01, -3.5938e-02, -1.5226e-01, -9.4189e-02,\n",
            "          1.5377e-01,  6.7702e-02,  5.2560e-02,  7.4912e-02,  1.1071e-01,\n",
            "         -1.0145e-01, -8.0708e-02,  1.3600e-01, -3.6681e-03,  5.7501e-02,\n",
            "          6.2377e-02,  1.3792e-02, -1.0330e-01,  6.6418e-03, -2.9336e-02,\n",
            "         -4.9308e-02, -1.1153e-01, -1.2277e-01, -8.6669e-02, -7.0432e-02,\n",
            "          3.6539e-02, -1.2102e-01, -1.5161e-01,  1.3121e-01,  1.3131e-01,\n",
            "         -1.9467e-02, -7.7843e-02,  3.7506e-03, -2.4167e-02, -1.3349e-01,\n",
            "         -4.3554e-02,  1.4056e-01, -8.6897e-02, -1.1219e-01, -7.9730e-02],\n",
            "        [ 1.5274e-01,  3.9446e-02, -1.3759e-01, -1.0863e-01,  7.4942e-02,\n",
            "         -1.6150e-02, -4.5028e-03,  1.3231e-01,  6.8623e-02,  7.1119e-03,\n",
            "         -1.1395e-01,  3.9761e-03, -1.0706e-01,  4.1335e-02, -1.4666e-02,\n",
            "         -1.2379e-02,  5.8384e-02,  1.0569e-02,  2.4001e-02,  1.0234e-01,\n",
            "          2.1453e-02,  1.3018e-01, -7.2012e-02, -3.4208e-02, -1.3486e-01,\n",
            "         -1.0878e-01, -8.7924e-02, -1.4765e-01, -9.4336e-02, -2.3192e-02,\n",
            "         -2.9433e-02,  8.7328e-02, -1.5012e-01, -1.2975e-01,  1.2819e-01,\n",
            "         -1.5282e-01,  1.3970e-01,  9.1706e-03, -3.5356e-02,  5.2618e-02],\n",
            "        [ 2.4145e-02, -1.8862e-01, -4.0413e-04,  1.2976e-01,  1.2681e-01,\n",
            "          1.3509e-01, -1.9536e-01, -1.0324e-01, -2.0303e-01, -1.3538e-01,\n",
            "         -1.6769e-01, -1.2248e-01, -6.9244e-02,  1.8835e-02, -5.2768e-02,\n",
            "         -2.7926e-02, -1.0404e-01, -7.0614e-02,  2.1422e-02,  5.5234e-02,\n",
            "          6.5009e-02,  2.7802e-02, -1.5387e-01, -1.7112e-01, -7.3999e-02,\n",
            "         -1.5111e-01, -1.2461e-01, -8.0283e-02,  8.5512e-02, -2.0986e-01,\n",
            "         -9.2047e-02, -4.1169e-03,  2.2536e-02, -4.7698e-02, -7.5303e-02,\n",
            "         -6.3237e-02, -1.4317e-01,  4.3806e-02, -1.1436e-01, -5.8290e-02],\n",
            "        [-8.3199e-01, -7.1236e-01, -6.1056e-01,  4.3934e-01,  5.1839e-01,\n",
            "          3.0694e-01,  5.8403e-01, -9.6780e-01, -1.1300e+00,  4.6444e-01,\n",
            "         -4.4099e-02, -7.4092e-01, -4.1478e-01,  1.1668e-01,  5.4883e-01,\n",
            "         -5.5003e-01, -5.4892e-01,  4.8280e-01,  1.0495e-01, -4.4718e-02,\n",
            "          3.9410e-01,  1.3610e-01, -7.9098e-02, -6.9855e-01, -1.0045e+00,\n",
            "         -2.9648e-02, -6.8503e-01, -7.5283e-01,  3.1360e-01,  1.8335e-02,\n",
            "         -6.7726e-03, -8.0172e-01,  5.8581e-01, -3.4418e-01, -1.0212e+00,\n",
            "          3.6920e-01, -7.3071e-01, -9.8539e-01,  6.7405e-01,  5.2271e-01],\n",
            "        [ 6.6884e-01,  3.8044e-01,  2.3452e-01,  1.8797e-01,  1.1391e-01,\n",
            "          1.8373e-01,  6.4029e-01,  8.5802e-01,  5.4600e-01,  3.5697e-01,\n",
            "          5.5125e-02, -6.0763e-01, -9.9758e-02,  6.1238e-01,  6.7483e-01,\n",
            "         -5.9470e-01, -4.0175e-01,  7.8151e-01,  1.2532e-01,  1.1469e-01,\n",
            "          6.6049e-01, -4.9865e-02,  5.0144e-02, -5.1831e-01,  9.5569e-01,\n",
            "          4.0173e-02, -6.3722e-01,  2.6236e-01,  4.6086e-01,  2.9355e-01,\n",
            "          1.5596e-01,  8.1932e-01,  6.3947e-01,  5.5944e-01, -1.0779e+00,\n",
            "          5.1494e-01,  9.7050e-01,  9.6770e-01, -1.6654e-02,  6.8724e-01],\n",
            "        [ 1.3849e-01, -8.5049e-01, -7.4460e-01,  1.1960e-01, -1.0045e+00,\n",
            "          6.6800e-02, -8.8118e-01, -4.1169e-02, -9.2733e-02,  2.4273e-01,\n",
            "          9.7770e-02,  3.3459e-01,  5.4987e-01,  4.9506e-01, -7.7133e-01,\n",
            "          2.7859e-01,  2.0423e-01, -6.3536e-01, -2.1926e-03, -7.5679e-02,\n",
            "         -6.0187e-01, -7.7900e-02,  1.1096e-01,  5.0082e-01, -1.4918e-01,\n",
            "          3.4252e-02,  3.9748e-01, -5.9359e-01,  2.6736e-01,  5.0733e-01,\n",
            "          5.9592e-02,  1.2359e-01, -1.1355e+00, -8.3357e-01,  3.8201e-01,\n",
            "         -6.1457e-01, -1.0556e-01,  7.8463e-02, -1.0699e-01, -5.1426e-01],\n",
            "        [ 3.0824e-01,  2.9542e-01,  1.3083e-01,  2.8076e-01,  1.0723e+00,\n",
            "          3.0932e-01,  1.2694e+00, -2.9501e-01,  3.5653e-01,  4.8903e-01,\n",
            "          2.6470e-01, -4.2133e-01, -8.2367e-01, -2.1456e+00,  1.3750e+00,\n",
            "         -1.1633e-01, -7.5510e-01, -3.5856e-01,  3.7162e-01,  3.4249e-01,\n",
            "         -2.8902e-01, -1.2306e-01, -9.8677e-02, -1.1746e+00, -5.6695e-02,\n",
            "          9.4317e-02, -1.7878e+00,  3.6142e-02,  4.8517e-01, -2.2480e+00,\n",
            "          2.1746e-02, -1.6166e-01,  1.4946e+00, -3.0275e-03, -2.5640e-01,\n",
            "         -1.1313e-01, -1.3625e-01, -2.4444e-01,  6.6100e-01, -1.8334e-01],\n",
            "        [ 1.0078e-01, -3.3821e-01, -3.5012e-01, -3.4413e-01, -3.4690e-01,\n",
            "         -1.7965e-01, -1.9249e-01, -6.8570e-02, -9.2655e-02, -2.3682e-01,\n",
            "         -2.7207e-01, -3.1703e-01, -1.6773e-01, -1.5632e-01, -1.4013e-01,\n",
            "         -3.2081e-01, -1.5834e-01, -1.3148e-01, -1.3635e-01, -1.8940e-01,\n",
            "         -2.8801e-01,  9.4936e-02, -1.7468e-02, -2.3282e-01, -8.9813e-02,\n",
            "         -1.4708e-01, -3.2246e-01, -2.3280e-01, -7.1511e-02, -1.0261e-01,\n",
            "         -1.0286e-01,  1.2472e-01, -6.5017e-02, -3.0710e-01, -3.6205e-01,\n",
            "         -1.3995e-01, -1.2546e-01,  7.7845e-02, -2.1801e-01, -2.7910e-01],\n",
            "        [-2.3859e-01,  1.8794e-01, -1.6482e-02,  1.8206e-01,  8.9029e-01,\n",
            "          2.6717e-01,  1.0249e+00, -9.3139e-01, -3.0473e-01,  2.3972e-01,\n",
            "          7.0332e-02, -2.1085e-01, -5.8492e-01, -1.1283e+00,  9.3955e-01,\n",
            "         -2.7142e-02, -4.0794e-01, -2.7014e-01,  3.0412e-01,  6.6559e-01,\n",
            "         -4.0372e-01,  1.1839e-01, -3.5250e-03, -7.8306e-01, -6.4085e-01,\n",
            "          3.7602e-02, -8.8674e-01, -9.8376e-02,  2.7561e-01, -1.3357e+00,\n",
            "          1.1610e-01, -5.4051e-01,  1.4330e+00,  1.2318e-01, -3.4119e-01,\n",
            "         -2.8371e-01, -7.7411e-01, -9.0341e-01,  6.3876e-01, -3.0207e-01],\n",
            "        [-1.6915e-01, -4.4900e-02,  3.2467e-02,  2.8595e-01,  1.0545e+00,\n",
            "          5.1029e-01,  1.1149e+00, -6.8231e-01, -9.4112e-02,  6.4101e-01,\n",
            "          4.5979e-01, -4.8245e-01, -1.4493e+00, -1.7739e+00,  1.1181e+00,\n",
            "         -6.6250e-02, -6.3849e-01, -2.0920e-01,  3.5434e-01,  6.2745e-01,\n",
            "         -7.6110e-02, -9.3850e-02, -8.5055e-03, -1.1912e+00, -6.6991e-01,\n",
            "         -1.4407e-01, -2.0190e+00, -4.1233e-02,  4.0554e-01, -2.4036e+00,\n",
            "         -1.1955e-01, -7.2767e-01,  1.4012e+00,  1.1906e-04, -2.2015e-01,\n",
            "         -1.3166e-01, -7.1911e-01, -7.6229e-01,  8.5121e-01, -2.2380e-01],\n",
            "        [ 1.8518e-01,  2.1933e-01,  3.5208e-02,  1.1986e-01, -2.8253e-01,\n",
            "          2.6984e-01, -4.5140e-01, -7.9103e-01,  1.2794e-01,  2.8552e-01,\n",
            "          1.4647e-01,  4.8871e-01,  5.7477e-01,  3.3229e-01, -2.8560e-01,\n",
            "          5.3061e-01,  3.5099e-01, -3.3994e-01,  4.9974e-02,  4.6024e-02,\n",
            "         -3.1533e-01,  9.6450e-03, -6.2509e-02,  4.1272e-01, -7.2302e-01,\n",
            "          7.3934e-02,  3.6732e-01,  4.1246e-01,  1.6378e-01,  4.4331e-01,\n",
            "         -6.5890e-02, -5.2826e-01, -2.6028e-01,  5.8083e-02,  4.6089e-01,\n",
            "         -3.5235e-01, -4.7487e-01, -4.4600e-01,  1.7597e-01, -3.5083e-01],\n",
            "        [-2.9265e-01, -6.3713e-02,  1.8596e-02, -7.1106e-01,  3.8766e-01,\n",
            "         -4.5354e-01,  2.9037e-01, -7.3909e-01, -2.8011e-01, -4.4875e-01,\n",
            "         -7.1275e-01,  1.4021e-01, -2.5268e-01,  1.4218e-02,  4.1451e-01,\n",
            "         -4.2272e-01,  2.9950e-02,  7.3947e-02, -7.5960e-01, -2.9855e-01,\n",
            "          2.3361e-01,  9.1628e-02,  2.2881e-04, -1.4418e-01, -7.9168e-01,\n",
            "          4.7812e-02, -5.9392e-02,  7.7946e-02, -8.3943e-01,  1.1851e-01,\n",
            "          1.1139e-01, -7.0310e-01,  3.9610e-01, -1.3004e-02,  7.7228e-02,\n",
            "          1.3541e-01, -7.4833e-01, -8.4042e-01,  5.7186e-01,  2.7071e-01],\n",
            "        [-4.0875e-02, -5.8979e-01, -9.4542e-01,  1.3582e-01,  2.4683e-01,\n",
            "          3.5000e-01,  4.1144e-01,  5.4455e-03, -1.3440e-01,  2.6710e-01,\n",
            "          8.4720e-02, -2.7170e-01, -2.8767e-01, -7.4010e-01,  3.4698e-01,\n",
            "          7.7460e-02, -3.3320e-01, -1.1968e+00,  2.4828e-01,  3.4084e-01,\n",
            "         -1.1996e+00, -8.0496e-03, -6.4301e-02, -3.3654e-01,  5.0889e-02,\n",
            "          1.7171e-02, -6.0963e-01, -5.1874e+00,  2.0573e-01, -9.8663e-01,\n",
            "         -1.0269e-01,  1.0680e-01,  3.1743e-01, -1.4242e+00, -1.5015e-01,\n",
            "         -1.1210e+00, -6.7475e-02, -7.4674e-02,  3.0977e-01, -1.1496e+00],\n",
            "        [ 4.4874e-01,  3.2006e-01,  3.2654e-01,  3.4140e-01,  1.2006e+00,\n",
            "          1.7791e-01,  1.1402e+00,  5.5622e-01,  3.5454e-01,  4.5152e-01,\n",
            "          6.4529e-01,  7.9790e-02, -3.6886e-02, -9.7062e-01,  1.2197e+00,\n",
            "          2.0878e-01, -1.2453e-01,  3.0275e-01,  5.2036e-01,  7.0306e-01,\n",
            "          3.0551e-01,  1.0341e-02,  1.3560e-01, -2.7073e-01,  5.8112e-01,\n",
            "          8.8735e-02, -1.1510e-01,  2.9488e-01,  5.5188e-01, -1.1015e+00,\n",
            "          1.2328e-01,  4.4973e-01,  1.3592e+00,  2.7923e-01, -3.5141e-02,\n",
            "          3.9502e-01,  5.7336e-01,  6.8759e-01,  5.2642e-01,  5.1925e-01],\n",
            "        [ 5.0133e-01,  2.1161e-01,  1.9368e-01, -2.5237e-03, -4.7896e+00,\n",
            "         -3.5908e-02, -4.4877e+00,  9.7098e-01,  6.7359e-01, -2.9035e-01,\n",
            "         -1.5561e-02,  3.9133e-01,  3.0879e-01,  5.0972e-01, -1.1572e+00,\n",
            "          2.5569e-01,  4.5040e-01, -5.6008e-02,  6.8103e-02, -2.6314e+00,\n",
            "         -5.4382e-04, -8.2714e-02,  1.0767e-01,  5.2002e-01,  1.0223e+00,\n",
            "          1.0660e-01,  5.3385e-01,  1.9461e-01, -1.3052e-01,  5.3881e-01,\n",
            "         -3.8663e-03,  9.8408e-01, -5.8522e+00,  1.5464e-01,  2.9690e-01,\n",
            "          1.0568e-01,  7.9777e-01,  1.0536e+00, -5.8344e-01,  1.7078e-01],\n",
            "        [-4.1915e-02, -3.7145e-01,  5.0156e-02, -2.2342e-01, -3.2418e-01,\n",
            "         -3.5521e-01, -3.8935e-01,  3.2040e-02,  1.3862e-02, -3.4218e-01,\n",
            "         -1.0055e-01, -2.2224e-01,  1.6636e-02, -1.3435e-01, -3.7110e-01,\n",
            "         -1.6040e-01, -2.4995e-01, -2.7496e-01, -9.8621e-02, -4.5986e-01,\n",
            "         -3.9619e-01,  4.1151e-02,  8.3241e-02, -1.6411e-01, -1.4623e-01,\n",
            "          8.3038e-02, -1.5117e-01, -2.6699e-01, -1.5027e-01, -1.0801e-02,\n",
            "          1.0693e-01, -4.4801e-03, -1.6029e-01, -3.8084e-01, -1.4102e-01,\n",
            "         -2.2675e-01, -1.0943e-02, -9.4140e-02, -2.4346e-01, -3.7511e-01],\n",
            "        [ 1.4232e-01, -3.5133e-02,  9.9282e-02, -1.8375e-01, -1.9385e+00,\n",
            "         -2.7019e-02, -2.1098e+00, -8.7068e-02, -1.6848e-02, -1.5285e-01,\n",
            "         -1.1295e-01,  1.6367e-01,  4.4534e-01,  6.6142e-01, -1.6117e+00,\n",
            "          1.8656e-01,  1.9240e-01, -1.4668e-01, -1.7947e-01, -3.1849e-01,\n",
            "         -2.7138e-01,  4.2034e-03, -1.6820e-02,  4.7334e-01,  8.1896e-02,\n",
            "          4.3660e-02,  3.2452e-01, -1.0203e-01,  3.1381e-02,  7.2988e-01,\n",
            "          7.1567e-02,  7.0851e-02, -3.5617e+00,  6.6132e-02,  3.5531e-01,\n",
            "         -1.2183e-01, -1.3045e-01, -1.3522e-01, -2.4532e-01, -2.3876e-01]],\n",
            "       requires_grad=True)\n",
            "Parameter containing:\n",
            "tensor([-0.0435,  0.8178, -0.0624, -0.0835, -0.0805,  0.0649,  0.4825,  0.5752,\n",
            "        -0.2571,  1.0980, -0.3337,  0.7830,  1.0025,  0.1604,  0.4443,  0.3127,\n",
            "         0.9415, -0.4955, -0.0388, -0.7216], requires_grad=True)\n",
            "Parameter containing:\n",
            "tensor([[-1.5644e-01, -1.4955e-01, -1.8849e-01, -8.5303e-02, -6.2450e-02,\n",
            "         -2.3302e-01, -1.5346e-01, -2.5839e-01,  5.3792e-02, -2.9276e-01,\n",
            "          1.7023e-01, -5.5126e-02,  2.3956e-02, -3.4031e-01,  6.4591e-02,\n",
            "          6.8251e-03, -2.6273e-01,  8.4676e-02, -9.5995e-03, -1.0142e-01],\n",
            "        [-7.3086e-02, -1.6428e+00, -9.8914e-02,  2.2911e-02,  2.0850e-01,\n",
            "          5.6254e-02,  7.6809e-01,  9.6553e-01, -3.1459e-01, -7.6180e-01,\n",
            "          1.0830e-01,  4.4395e-01,  6.8021e-01, -1.5375e-01, -5.8389e-01,\n",
            "          1.3631e-01,  7.1432e-01, -2.9470e+00,  1.5169e-01,  1.1536e+00],\n",
            "        [ 1.9010e-01,  1.4554e+00,  1.6772e-01,  6.5815e-02,  4.6366e-03,\n",
            "          2.6763e-01, -4.7917e-01, -6.9784e-01,  6.3338e-01,  1.5272e+00,\n",
            "         -3.6948e-01, -4.8918e-02, -4.6913e-01,  5.4669e-01,  4.2402e-01,\n",
            "          4.8908e-01,  2.1017e-01,  5.8036e-01, -3.1448e-01, -1.5247e+00],\n",
            "        [-1.3913e-01, -1.5694e+00,  1.7759e-01,  5.1771e-02,  1.4359e-01,\n",
            "         -5.7451e-02,  6.6937e-01,  7.7994e-01, -1.9000e-01, -1.1401e+00,\n",
            "         -2.2090e-03,  2.7881e-01,  6.1718e-01, -2.0248e-02, -3.9191e-01,\n",
            "         -5.3846e-02,  6.1871e-01, -4.4876e-01,  1.7682e-01,  1.4508e+00],\n",
            "        [-1.2486e-01,  1.3820e+00,  1.2647e-01,  1.0677e-01,  9.9172e-02,\n",
            "         -4.0434e-03, -7.9479e-01, -3.7610e-01,  2.7472e-01,  1.1717e+00,\n",
            "         -5.8872e-02, -7.6760e-02, -3.0056e-01,  5.7923e-01,  4.1898e-01,\n",
            "          5.1191e-01,  4.8117e-02,  6.7243e-01, -9.3375e-02, -1.3909e+00],\n",
            "        [-2.1500e-01, -1.3168e+00, -3.2977e-02, -1.8392e-01,  1.1460e-01,\n",
            "          2.9991e-02,  6.2635e-01,  8.9864e-01, -1.2690e-01, -1.0428e+00,\n",
            "          1.1983e-01,  3.8499e-01,  1.1241e+00, -1.2729e-01, -6.0760e-01,\n",
            "          1.8437e-01,  4.0621e-01, -1.3466e+00,  3.3958e-01,  1.2610e+00],\n",
            "        [-2.0798e-02,  2.5994e-02,  1.3522e-02, -1.0347e-01,  5.0918e-02,\n",
            "          7.6441e-02,  6.5733e-03, -4.7204e-02, -1.0341e-01, -1.5410e-01,\n",
            "         -1.3297e-01,  2.0195e-01,  2.2125e-02,  1.3888e-02, -1.5054e-01,\n",
            "         -1.8091e-01, -1.4790e-01,  8.6406e-02, -5.3020e-02, -3.1871e-02],\n",
            "        [ 3.3819e-02, -3.1556e+00, -1.8225e-01,  2.0638e-02,  1.8910e-01,\n",
            "         -6.0255e-02, -7.8891e-02, -1.4034e+00, -1.8887e-02, -3.3655e+00,\n",
            "          1.1641e-01,  1.9898e+00,  3.1648e+00,  1.5571e-01, -2.1438e-01,\n",
            "          5.8806e-01,  5.6132e-01, -1.3426e+00,  3.4629e-01,  1.5380e+00],\n",
            "        [ 7.2761e-03, -4.1225e+00,  1.4990e-01, -1.3144e-01, -4.8714e-02,\n",
            "         -2.2049e-01, -5.6885e-01,  4.8530e-01, -1.7147e-01, -4.1607e+00,\n",
            "          1.0994e-01,  2.1816e+00,  4.0976e+00, -1.2410e-01,  9.1738e-02,\n",
            "          2.8554e-01,  6.3522e-01, -9.4833e-01,  1.0273e-01,  1.6194e+00],\n",
            "        [-3.8876e-02,  1.4050e+00,  8.1475e-02, -1.9944e-01, -1.5294e-01,\n",
            "          1.0628e-01, -7.9624e-01, -4.5223e-01,  4.2721e-01,  1.4854e+00,\n",
            "         -1.0239e-01, -1.9010e-01, -7.4492e-01,  5.4380e-01,  4.7459e-01,\n",
            "          2.2739e-01,  3.2537e-02,  8.2444e-01, -1.6718e-01, -1.3780e+00],\n",
            "        [ 1.6932e-02,  1.2968e+00, -4.6151e-02,  7.4867e-02, -8.9617e-03,\n",
            "         -1.0878e-01, -8.2212e-01, -4.1068e-01,  5.3198e-01,  1.0187e+00,\n",
            "         -4.2211e-01, -3.7754e-01, -5.5357e-01,  2.5374e-01,  5.7959e-01,\n",
            "          4.1096e-01,  2.5639e-01,  9.2269e-01, -2.1954e-01, -1.5203e+00],\n",
            "        [-1.6264e-01, -1.1436e-01, -4.1240e-02,  1.7336e-01, -1.9413e-01,\n",
            "         -2.0715e-01, -4.0477e+00,  4.7755e-01, -3.0917e-02,  6.1650e-02,\n",
            "         -8.8175e-02, -2.9815e-01, -2.8271e-01, -1.0280e-01,  1.2751e-01,\n",
            "         -9.4863e-02,  1.6269e-01, -1.0625e-01, -1.0359e-01,  1.6219e-01],\n",
            "        [ 9.0831e-03,  4.4781e-01, -6.4262e-02,  1.9324e-01,  1.8302e-01,\n",
            "          7.7821e-02,  2.1862e-01,  5.8814e-01,  9.2976e-02,  5.3474e-01,\n",
            "          4.2666e-01, -3.7891e-01, -3.2710e-01, -2.1373e-01,  9.0876e-02,\n",
            "         -6.8303e-01,  1.4736e-01,  3.7875e-02,  3.8180e-01, -2.0767e-01],\n",
            "        [ 9.9258e-02, -1.5823e+00, -1.8095e-02,  2.2015e-01,  1.2888e-01,\n",
            "          1.6397e-01,  5.0357e-01,  8.8136e-01, -4.2813e-02, -1.0484e+00,\n",
            "          2.7366e-01,  2.6054e-01,  9.4740e-01, -1.1020e-01, -6.1806e-01,\n",
            "         -1.3236e-01,  5.7095e-01, -7.3156e-01,  2.7456e-01,  1.7215e+00],\n",
            "        [-1.5456e-01,  1.3175e+00, -4.2985e-02, -1.2236e-01,  2.6384e-02,\n",
            "         -1.1322e-01, -9.3640e-01, -3.9058e-01,  6.1862e-01,  1.3208e+00,\n",
            "         -2.9058e-01, -1.5752e-01, -5.0027e-01,  5.6704e-01,  6.4321e-01,\n",
            "          1.7696e-01, -9.7174e-02,  9.1433e-01, -3.9058e-01, -1.6706e+00],\n",
            "        [ 1.3795e-01, -1.6013e+00, -9.8581e-02, -6.4977e-02,  1.0280e-02,\n",
            "          2.0948e-01,  6.3702e-01,  9.0966e-01, -2.3992e-01, -1.0496e+00,\n",
            "          3.8634e-01,  6.2209e-01,  7.0387e-01, -1.5418e-01, -3.9050e-01,\n",
            "         -5.4041e-02,  4.0148e-01, -7.8249e-01,  3.5264e-01,  1.7644e+00],\n",
            "        [ 1.0182e-01,  9.1358e-02,  1.5448e-02, -1.8724e-01, -2.0715e-03,\n",
            "          1.4672e-01, -1.3965e-01,  9.5423e-02, -1.9748e-01, -2.5403e-01,\n",
            "         -2.0836e-01, -4.1790e-02, -1.5998e-01, -2.0925e-01,  1.5659e-01,\n",
            "         -5.1267e-02, -1.5489e-02, -2.8360e-01,  1.6189e-01, -4.7518e-02],\n",
            "        [ 3.3489e-02, -1.5613e+00,  7.2437e-02,  5.3730e-02,  2.1518e-01,\n",
            "         -9.9504e-02,  9.3585e-01,  7.1236e-01, -1.3662e-01, -1.2255e+00,\n",
            "          2.3179e-01,  2.9478e-01,  7.1852e-01, -6.1693e-02, -4.4749e-01,\n",
            "         -1.0677e-01,  6.4393e-01, -5.5524e-01,  4.0463e-01,  1.5597e+00],\n",
            "        [-9.5750e-02,  2.0176e-01,  1.2468e-01,  1.4451e-01, -2.1200e-01,\n",
            "          2.9528e-02, -1.4278e-01, -1.8586e-01, -1.3220e-01,  4.3714e-02,\n",
            "          7.1096e-02,  1.0871e-01, -2.1738e-01, -1.9311e-01,  1.2920e-01,\n",
            "          1.4826e-01, -1.0968e-01,  9.7764e-02,  1.4034e-02,  1.2419e-01],\n",
            "        [-6.7233e-02,  1.6078e+00,  1.2807e-01,  6.7452e-02, -1.2586e-01,\n",
            "         -2.6274e-03, -7.0271e-01, -4.3171e-01,  3.5032e-01,  1.3840e+00,\n",
            "         -1.8833e-02, -1.0228e-01, -5.9263e-01,  4.6088e-01,  6.6505e-01,\n",
            "          4.3799e-01, -1.4425e-01,  9.2334e-01, -4.1962e-01, -1.6387e+00]],\n",
            "       requires_grad=True)\n",
            "Parameter containing:\n",
            "tensor([-0.1898,  0.6524,  0.0822,  0.4363,  0.0798,  0.0978, -0.1890,  0.5820,\n",
            "         0.1426,  0.0597,  0.1608, -0.1274, -0.0298,  0.3921,  0.0845,  0.4822,\n",
            "        -0.0222,  0.3421,  0.1166,  0.1862], requires_grad=True)\n",
            "Parameter containing:\n",
            "tensor([[-0.0321,  1.6549, -0.8293,  1.4851, -0.7057,  1.8450, -0.0241,  4.0096,\n",
            "          5.3994, -0.8980, -0.7977,  0.9103,  0.5832,  1.4571, -0.8519,  1.8301,\n",
            "         -0.0511,  1.3526, -0.0352, -0.9402]], requires_grad=True)\n",
            "Parameter containing:\n",
            "tensor([-0.3319], requires_grad=True)\n"
          ],
          "name": "stdout"
        }
      ]
    },
    {
      "cell_type": "markdown",
      "metadata": {
        "id": "tbEXUwJZNgX9",
        "colab_type": "text"
      },
      "source": [
        "## Approximation with a shallow neural network"
      ]
    },
    {
      "cell_type": "markdown",
      "metadata": {
        "id": "iwoSChjz2fuE",
        "colab_type": "text"
      },
      "source": [
        "### Question: code a one-hidden layer neural network with approximatively the same number of parameters than the multilayer neural network. What is the \"best\" architecture?"
      ]
    },
    {
      "cell_type": "code",
      "metadata": {
        "id": "Qw_JwF-42set",
        "colab_type": "code",
        "colab": {
          "base_uri": "https://localhost:8080/",
          "height": 119
        },
        "outputId": "4cd289d3-0c44-4b3e-a9b0-8d6f07ed74d2"
      },
      "source": [
        "import torch\n",
        "\n",
        "H = 5000 # number of hidden neurons\n",
        "\n",
        "Niter = 5*10**3+1\n",
        "\n",
        "# Create an array for detaching loss\n",
        "import numpy as np\n",
        "saveLoss = np.zeros(Niter)\n",
        "\n",
        "model = torch.nn.Sequential(\n",
        "    torch.nn.Linear(D_in, H),\n",
        "    torch.nn.ReLU(),\n",
        "    torch.nn.Linear(H, D_out),\n",
        ")\n",
        "\n",
        "loss_fn = torch.nn.MSELoss(reduction='mean')\n",
        "\n",
        "learning_rate = 1e-2\n",
        "optimizer = torch.optim.Adam(model.parameters(), lr=learning_rate)\n",
        "\n",
        "for t in range(Niter):\n",
        "  # Forward pass: compute predicted y by passing x to the model.\n",
        "  y_pred = model(x)\n",
        "\n",
        "  # Compute and print loss. Save loss in saveLoss\n",
        "  loss = loss_fn(y_pred, y)\n",
        "  saveLoss[t] = loss.detach().numpy()\n",
        "  if t % 1000 == 0:\n",
        "        print(t, loss.item())\n",
        "\n",
        "  # Zero the gradients and the optimizer object before running the backward pass.\n",
        "  model.zero_grad()\n",
        "  optimizer.zero_grad()\n",
        "\n",
        "  # Backward pass: compute gradient of the loss with respect to model parameters.\n",
        "  loss.backward()\n",
        "\n",
        "  # Calling the step function on an Optimizer makes an update to its parameters.\n",
        "  optimizer.step()   \n"
      ],
      "execution_count": 11,
      "outputs": [
        {
          "output_type": "stream",
          "text": [
            "0 926.7725830078125\n",
            "1000 89.93236541748047\n",
            "2000 67.66590118408203\n",
            "3000 57.1753044128418\n",
            "4000 51.87345886230469\n",
            "5000 48.741600036621094\n"
          ],
          "name": "stdout"
        }
      ]
    },
    {
      "cell_type": "code",
      "metadata": {
        "id": "fY4nUy-13H1e",
        "colab_type": "code",
        "colab": {
          "base_uri": "https://localhost:8080/",
          "height": 279
        },
        "outputId": "358f632e-31cc-4afb-ae05-8dbd08594f60"
      },
      "source": [
        "y_pred = model(x)\n",
        "fig, ax = plt.subplots()\n",
        "plt.plot(x.numpy(), y.numpy(),'r-',label='Quartic function')\n",
        "plt.plot(x.numpy(), y_pred.detach().numpy(),'bo-',label='Deep approximation')\n",
        "plt.xlabel('$x$')\n",
        "plt.ylabel('$f(x)$')\n",
        "ax.legend()\n",
        "plt.show()"
      ],
      "execution_count": 12,
      "outputs": [
        {
          "output_type": "display_data",
          "data": {
            "image/png": "[encoded data removed]",
            "text/plain": [
              "<Figure size 432x288 with 1 Axes>"
            ]
          },
          "metadata": {
            "tags": [],
            "needs_background": "light"
          }
        }
      ]
    },
    {
      "cell_type": "code",
      "metadata": {
        "id": "oaIZaCpV3Az9",
        "colab_type": "code",
        "colab": {
          "base_uri": "https://localhost:8080/",
          "height": 153
        },
        "outputId": "0adb2c40-d8a6-4390-d9cb-fc124acc821e"
      },
      "source": [
        "print(model.parameters)\n",
        "print(\"\\nTotal number of parameters {}\\n\".format(count_parameters(model)))"
      ],
      "execution_count": 13,
      "outputs": [
        {
          "output_type": "stream",
          "text": [
            "<bound method Module.parameters of Sequential(\n",
            "  (0): Linear(in_features=1, out_features=5000, bias=True)\n",
            "  (1): ReLU()\n",
            "  (2): Linear(in_features=5000, out_features=1, bias=True)\n",
            ")>\n",
            "\n",
            "Total number of parameters 15001\n",
            "\n"
          ],
          "name": "stdout"
        }
      ]
    }
  ]
}