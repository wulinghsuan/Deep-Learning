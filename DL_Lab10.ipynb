{
  "nbformat": 4,
  "nbformat_minor": 0,
  "metadata": {
    "kernelspec": {
      "name": "python3",
      "display_name": "Python 3"
    },
    "language_info": {
      "codemirror_mode": {
        "name": "ipython",
        "version": 3
      },
      "file_extension": ".py",
      "mimetype": "text/x-python",
      "name": "python",
      "nbconvert_exporter": "python",
      "pygments_lexer": "ipython3",
      "version": "3.7.3"
    },
    "colab": {
      "name": "DSTI_DL_Lab10_March2020.ipynb",
      "provenance": [],
      "collapsed_sections": [],
      "toc_visible": true
    },
    "accelerator": "GPU"
  },
  "cells": [
    {
      "cell_type": "markdown",
      "metadata": {
        "id": "r5YvnGc0h0b1",
        "colab_type": "text"
      },
      "source": [
        "# A LSTM for Part-of-Speech Tagging\n",
        "\n"
      ]
    },
    {
      "cell_type": "code",
      "metadata": {
        "id": "saX6EAx_uyiM",
        "colab_type": "code",
        "colab": {}
      },
      "source": [
        "%matplotlib inline"
      ],
      "execution_count": 0,
      "outputs": []
    },
    {
      "cell_type": "markdown",
      "metadata": {
        "id": "sT9CUaWtuyiT",
        "colab_type": "text"
      },
      "source": [
        "## Sequence Models and Long-Short Term Memory Networks\n",
        "\n",
        "\n",
        "At this point, we have seen various feed-forward networks. That is,\n",
        "there is no state maintained by the network at all. This might not be\n",
        "the behavior we want. Sequence models are central to NLP: they are\n",
        "models where there is some sort of dependence through time between your\n",
        "inputs. The classical example of a sequence model is the Hidden Markov\n",
        "Model for part-of-speech tagging. Another example is the conditional\n",
        "random field.\n",
        "\n",
        "A recurrent neural network is a network that maintains some kind of\n",
        "state. For example, its output could be used as part of the next input,\n",
        "so that information can propogate along as the network passes over the\n",
        "sequence. In the case of an LSTM, for each element in the sequence,\n",
        "there is a corresponding hidden state $h_t$, which in principle\n",
        "can contain information from arbitrary points earlier in the sequence.\n",
        "We can use the hidden state to predict words in a language model,\n",
        "part-of-speech tags, and a myriad of other things.\n",
        "\n",
        "\n",
        "\n",
        "\n"
      ]
    },
    {
      "cell_type": "markdown",
      "metadata": {
        "id": "-kgFcKPkhBF2",
        "colab_type": "text"
      },
      "source": [
        "## LSTM's in Pytorch\n",
        "\n",
        "\n",
        "Before getting to the example, note a few things. Pytorch's LSTM expects\n",
        "all of its inputs to be 3D tensors. The semantics of the axes of these\n",
        "tensors is important. The first axis is the sequence itself, the second\n",
        "indexes instances in the mini-batch, and the third indexes elements of\n",
        "the input. We haven't discussed mini-batching, so lets just ignore that\n",
        "and assume we will always have just 1 dimension on the second axis. If\n",
        "we want to run the sequence model over the sentence \"The cow jumped\",\n",
        "our input should look like\n",
        "\n",
        "\\begin{align}\\begin{bmatrix}\n",
        "   \\overbrace{q_\\text{The}}^\\text{row vector} \\\\\n",
        "   q_\\text{cow} \\\\\n",
        "   q_\\text{jumped}\n",
        "   \\end{bmatrix}\\end{align}\n",
        "\n",
        "Except remember there is an additional 2nd dimension with size 1.\n",
        "\n",
        "In addition, you could go through the sequence one at a time, in which\n",
        "case the 1st axis will have size 1 also.\n",
        "\n",
        "Let's see a quick example."
      ]
    },
    {
      "cell_type": "code",
      "metadata": {
        "id": "tv3qTm3yuyiV",
        "colab_type": "code",
        "outputId": "669b7b38-0085-4fda-f39f-3e21b333f495",
        "colab": {
          "base_uri": "https://localhost:8080/",
          "height": 34
        }
      },
      "source": [
        "# Author: Robert Guthrie\n",
        "\n",
        "import torch\n",
        "import torch.nn as nn\n",
        "import torch.nn.functional as F\n",
        "import torch.optim as optim\n",
        "\n",
        "torch.manual_seed(1)"
      ],
      "execution_count": 2,
      "outputs": [
        {
          "output_type": "execute_result",
          "data": {
            "text/plain": [
              "<torch._C.Generator at 0x7f5411aec150>"
            ]
          },
          "metadata": {
            "tags": []
          },
          "execution_count": 2
        }
      ]
    },
    {
      "cell_type": "markdown",
      "metadata": {
        "id": "6pVTtKkfuyib",
        "colab_type": "text"
      },
      "source": [
        "## Part-of-Speech Tagging\n",
        "\n",
        "\n",
        "In this section, we will use an LSTM to get part of speech tags.\n",
        "\n",
        "The model is as follows: let our input sentence be\n",
        "$w_1, \\dots, w_M$, where $w_i \\in V$, our vocabulary. Also, let\n",
        "$T$ be our tag set, and $y_i$ the tag of word $w_i$.\n",
        "Denote our prediction of the tag of word $w_i$ by\n",
        "$\\hat{y}_i$.\n",
        "\n",
        "This is a structure prediction, model, where our output is a sequence\n",
        "$\\hat{y}_1, \\dots, \\hat{y}_M$, where $\\hat{y}_i \\in T$.\n",
        "\n",
        "To do the prediction, pass an LSTM over the sentence. Denote the hidden\n",
        "state at timestep $i$ as $h_i$. Also, assign each tag a\n",
        "unique index (like how we had word\\_to\\_ix in the word embeddings\n",
        "section). Then our prediction rule for $\\hat{y}_i$ is\n",
        "\n",
        "\\begin{align}\\hat{y}_i = \\text{argmax}_j \\  (\\log \\text{Softmax}(Ah_i + b))_j\\end{align}\n",
        "\n",
        "That is, take the log softmax of the affine map of the hidden state,\n",
        "and the predicted tag is the tag that has the maximum value in this\n",
        "vector. Note this implies immediately that the dimensionality of the\n",
        "target space of $A$ is $|T|$.\n",
        "\n",
        "\n",
        "\n"
      ]
    },
    {
      "cell_type": "markdown",
      "metadata": {
        "id": "F2-nKqJkhptG",
        "colab_type": "text"
      },
      "source": [
        "## Prepare data:"
      ]
    },
    {
      "cell_type": "code",
      "metadata": {
        "id": "9ofc3ns4mSEN",
        "colab_type": "code",
        "colab": {}
      },
      "source": [
        "training_data = [\n",
        "    (\"The dog ate the apple\".split(), [\"DET\", \"NN\", \"V\", \"DET\", \"NN\"]),\n",
        "    (\"Everybody read that book\".split(), [\"NN\", \"V\", \"DET\", \"NN\"])\n",
        "]"
      ],
      "execution_count": 0,
      "outputs": []
    },
    {
      "cell_type": "markdown",
      "metadata": {
        "id": "zr8i5UO8q0nJ",
        "colab_type": "text"
      },
      "source": [
        "Print the structure of the training data"
      ]
    },
    {
      "cell_type": "code",
      "metadata": {
        "id": "2Kp89y7wqz_2",
        "colab_type": "code",
        "colab": {
          "base_uri": "https://localhost:8080/",
          "height": 88
        },
        "outputId": "4d415327-b951-4c19-9717-5d0d4dd5144c"
      },
      "source": [
        "print(training_data)\n",
        "print(training_data[0])\n",
        "print(training_data[0][0])"
      ],
      "execution_count": 4,
      "outputs": [
        {
          "output_type": "stream",
          "text": [
            "[(['The', 'dog', 'ate', 'the', 'apple'], ['DET', 'NN', 'V', 'DET', 'NN']), (['Everybody', 'read', 'that', 'book'], ['NN', 'V', 'DET', 'NN'])]\n",
            "(['The', 'dog', 'ate', 'the', 'apple'], ['DET', 'NN', 'V', 'DET', 'NN'])\n",
            "['The', 'dog', 'ate', 'the', 'apple']\n"
          ],
          "name": "stdout"
        }
      ]
    },
    {
      "cell_type": "code",
      "metadata": {
        "id": "jTYEDs5yuyic",
        "colab_type": "code",
        "outputId": "a71a5d05-94fc-436c-d0fa-1ccf4deb3a4e",
        "colab": {
          "base_uri": "https://localhost:8080/",
          "height": 34
        }
      },
      "source": [
        "def prepare_sequence(seq, to_ix):\n",
        "    idxs = [to_ix[w] for w in seq]\n",
        "    return torch.tensor(idxs, dtype=torch.long)\n",
        "\n",
        "word_to_ix = {}\n",
        "for sent, tags in training_data:\n",
        "    for word in sent:\n",
        "        if word not in word_to_ix:\n",
        "            word_to_ix[word] = len(word_to_ix)\n",
        "print(word_to_ix)"
      ],
      "execution_count": 5,
      "outputs": [
        {
          "output_type": "stream",
          "text": [
            "{'The': 0, 'dog': 1, 'ate': 2, 'the': 3, 'apple': 4, 'Everybody': 5, 'read': 6, 'that': 7, 'book': 8}\n"
          ],
          "name": "stdout"
        }
      ]
    },
    {
      "cell_type": "code",
      "metadata": {
        "id": "PsyjwG8lq_yI",
        "colab_type": "code",
        "outputId": "638b87ff-eab2-4187-ddc3-2c3c52372469",
        "colab": {
          "base_uri": "https://localhost:8080/",
          "height": 34
        }
      },
      "source": [
        "tag_to_ix = {\"DET\": 0, \"NN\": 1, \"V\": 2}\n",
        "ix_to_word = {}\n",
        "for i, word in enumerate(tag_to_ix):\n",
        "    ix_to_word[i] = word\n",
        "\n",
        "print(ix_to_word)"
      ],
      "execution_count": 6,
      "outputs": [
        {
          "output_type": "stream",
          "text": [
            "{0: 'DET', 1: 'NN', 2: 'V'}\n"
          ],
          "name": "stdout"
        }
      ]
    },
    {
      "cell_type": "code",
      "metadata": {
        "id": "SeVR1aPKtgUj",
        "colab_type": "code",
        "colab": {}
      },
      "source": [
        "# These will usually be more like 32 or 64 dimensional.\n",
        "# We will keep them small, so we can see how the weights change as we train.\n",
        "EMBEDDING_DIM = 6\n",
        "HIDDEN_DIM = 10"
      ],
      "execution_count": 0,
      "outputs": []
    },
    {
      "cell_type": "markdown",
      "metadata": {
        "id": "2I-62Zbruyif",
        "colab_type": "text"
      },
      "source": [
        "## Create the model:\n",
        "\n"
      ]
    },
    {
      "cell_type": "markdown",
      "metadata": {
        "id": "1K6oEgtNrUaj",
        "colab_type": "text"
      },
      "source": [
        "A few cells to understand and test LSTM"
      ]
    },
    {
      "cell_type": "code",
      "metadata": {
        "id": "TWEcZAtkridN",
        "colab_type": "code",
        "colab": {
          "base_uri": "https://localhost:8080/",
          "height": 34
        },
        "outputId": "11c97022-acb2-44ce-fd7e-c48b56e2f333"
      },
      "source": [
        "vocab_size = len(word_to_ix)\n",
        "print(vocab_size)"
      ],
      "execution_count": 8,
      "outputs": [
        {
          "output_type": "stream",
          "text": [
            "9\n"
          ],
          "name": "stdout"
        }
      ]
    },
    {
      "cell_type": "code",
      "metadata": {
        "id": "SoTjBZ6UruMC",
        "colab_type": "code",
        "colab": {
          "base_uri": "https://localhost:8080/",
          "height": 34
        },
        "outputId": "028a9881-e166-4847-8a99-880e69b83852"
      },
      "source": [
        "embedding_dim = EMBEDDING_DIM # 6\n",
        "hidden_dim = HIDDEN_DIM # 10\n",
        "word_embeddings = nn.Embedding(vocab_size, embedding_dim)\n",
        "print(word_embeddings)"
      ],
      "execution_count": 9,
      "outputs": [
        {
          "output_type": "stream",
          "text": [
            "Embedding(9, 6)\n"
          ],
          "name": "stdout"
        }
      ]
    },
    {
      "cell_type": "code",
      "metadata": {
        "id": "N3_8GMREsI1P",
        "colab_type": "code",
        "colab": {
          "base_uri": "https://localhost:8080/",
          "height": 51
        },
        "outputId": "5ef867f0-80b8-4b83-8727-de68bfd9d073"
      },
      "source": [
        "sentence = training_data[0][0]\n",
        "print(sentence)\n",
        "sentence_in = prepare_sequence(sentence, word_to_ix)\n",
        "print(sentence_in)"
      ],
      "execution_count": 10,
      "outputs": [
        {
          "output_type": "stream",
          "text": [
            "['The', 'dog', 'ate', 'the', 'apple']\n",
            "tensor([0, 1, 2, 3, 4])\n"
          ],
          "name": "stdout"
        }
      ]
    },
    {
      "cell_type": "code",
      "metadata": {
        "id": "yzOzIsZksUjI",
        "colab_type": "code",
        "colab": {
          "base_uri": "https://localhost:8080/",
          "height": 136
        },
        "outputId": "c3d0cf56-bb89-4e98-e2b2-ba76ab25089e"
      },
      "source": [
        "embeds = word_embeddings(sentence_in)\n",
        "print(embeds)\n",
        "print(embeds.shape)"
      ],
      "execution_count": 11,
      "outputs": [
        {
          "output_type": "stream",
          "text": [
            "tensor([[-1.5256, -0.7502, -0.6540, -1.6095, -0.1002, -0.6092],\n",
            "        [-0.9798, -1.6091, -0.7121,  0.3037, -0.7773, -0.2515],\n",
            "        [-0.2223,  1.6871,  0.2284,  0.4676, -0.6970, -1.1608],\n",
            "        [ 0.6995,  0.1991,  0.8657,  0.2444, -0.6629,  0.8073],\n",
            "        [ 1.1017, -0.1759, -2.2456, -1.4465,  0.0612, -0.6177]],\n",
            "       grad_fn=<EmbeddingBackward>)\n",
            "torch.Size([5, 6])\n"
          ],
          "name": "stdout"
        }
      ]
    },
    {
      "cell_type": "code",
      "metadata": {
        "id": "IpeZ1tnrtK8O",
        "colab_type": "code",
        "colab": {
          "base_uri": "https://localhost:8080/",
          "height": 204
        },
        "outputId": "9e8a43eb-e663-43c6-b417-6233340e7100"
      },
      "source": [
        "embeds_view = embeds.view(len(sentence), 1, -1)\n",
        "print(embeds_view)\n",
        "print(embeds_view.shape)"
      ],
      "execution_count": 12,
      "outputs": [
        {
          "output_type": "stream",
          "text": [
            "tensor([[[-1.5256, -0.7502, -0.6540, -1.6095, -0.1002, -0.6092]],\n",
            "\n",
            "        [[-0.9798, -1.6091, -0.7121,  0.3037, -0.7773, -0.2515]],\n",
            "\n",
            "        [[-0.2223,  1.6871,  0.2284,  0.4676, -0.6970, -1.1608]],\n",
            "\n",
            "        [[ 0.6995,  0.1991,  0.8657,  0.2444, -0.6629,  0.8073]],\n",
            "\n",
            "        [[ 1.1017, -0.1759, -2.2456, -1.4465,  0.0612, -0.6177]]],\n",
            "       grad_fn=<ViewBackward>)\n",
            "torch.Size([5, 1, 6])\n"
          ],
          "name": "stdout"
        }
      ]
    },
    {
      "cell_type": "code",
      "metadata": {
        "id": "w-mXgQybt5A-",
        "colab_type": "code",
        "colab": {
          "base_uri": "https://localhost:8080/",
          "height": 289
        },
        "outputId": "ba47c5ba-a9e4-4b9a-8c77-f018f3673d34"
      },
      "source": [
        "lstm = nn.LSTM(embedding_dim, hidden_dim)\n",
        "# Parameters of LSTM\n",
        "# input_size : The number of expected features in the output x\n",
        "# hidden_size : The number of features in the hidden state h\n",
        "\n",
        "lstm_out, _ = lstm(embeds_view) # (len(sentence), 1, -1)\n",
        "# LSTM input of shape (seq_len, batch, input_size):\n",
        "# tensor containing the features of the input sequence.\n",
        "\n",
        "# LSTM input of shape (seq_len, batch, num_directions * hidden_size):\n",
        "# tensor containing the output features (h_t) from the last layer of the LSTM\n",
        "\n",
        "print(lstm_out)\n",
        "print(lstm_out.shape)"
      ],
      "execution_count": 13,
      "outputs": [
        {
          "output_type": "stream",
          "text": [
            "tensor([[[ 1.9225e-02,  4.1500e-02, -2.4441e-01, -7.7552e-02, -1.7128e-02,\n",
            "           1.2690e-01, -5.9875e-02, -1.2850e-01, -1.1659e-03,  6.6426e-02]],\n",
            "\n",
            "        [[ 4.2322e-02, -5.6735e-02, -1.9042e-01, -4.6320e-02, -1.3861e-01,\n",
            "           6.1934e-02, -2.7061e-02, -1.1546e-01,  9.3254e-02,  2.6355e-02]],\n",
            "\n",
            "        [[-3.2475e-04,  1.2914e-01, -3.5927e-01,  2.2265e-02,  4.1101e-02,\n",
            "           2.6102e-01,  2.4373e-01, -2.1269e-01, -8.4736e-02, -4.4971e-02]],\n",
            "\n",
            "        [[-7.5424e-02,  1.6407e-01, -1.4608e-01,  1.2357e-01,  1.2083e-01,\n",
            "          -4.0878e-02,  1.6828e-01, -1.4338e-01, -8.0442e-02, -1.2277e-01]],\n",
            "\n",
            "        [[ 1.1725e-01,  1.9175e-01, -1.8829e-01, -6.5649e-02,  1.7355e-01,\n",
            "           1.0598e-01, -1.5585e-02, -4.9462e-02,  1.8246e-01, -1.8868e-03]]],\n",
            "       grad_fn=<StackBackward>)\n",
            "torch.Size([5, 1, 10])\n"
          ],
          "name": "stdout"
        }
      ]
    },
    {
      "cell_type": "markdown",
      "metadata": {
        "id": "Uq05ggenljEp",
        "colab_type": "text"
      },
      "source": [
        "### Question: add a LSTM layer in the following neural network."
      ]
    },
    {
      "cell_type": "markdown",
      "metadata": {
        "id": "2mIR3B2glNOT",
        "colab_type": "text"
      },
      "source": [
        "### Question: what is the role of the linear layer in the following neural network?"
      ]
    },
    {
      "cell_type": "markdown",
      "metadata": {
        "id": "ctPvIABFpKDq",
        "colab_type": "text"
      },
      "source": [
        "### Question: how to interpret the output of the \"forward\" function?"
      ]
    },
    {
      "cell_type": "code",
      "metadata": {
        "id": "OXaxLbWiuyif",
        "colab_type": "code",
        "colab": {}
      },
      "source": [
        "class LSTMTagger(nn.Module):\n",
        "\n",
        "    def __init__(self, embedding_dim, hidden_dim, vocab_size, tagset_size):\n",
        "        super(LSTMTagger, self).__init__()\n",
        "        self.hidden_dim = hidden_dim\n",
        "\n",
        "        self.word_embeddings = nn.Embedding(vocab_size, embedding_dim)\n",
        "\n",
        "        # Complete the following line\n",
        "        self.lstm = nn.LSTM(embedding_dim, hidden_dim)\n",
        "\n",
        "        # The linear layer that maps from hidden state space to tag space\n",
        "        self.hidden2tag = nn.Linear(hidden_dim, tagset_size)\n",
        "\n",
        "    def forward(self, sentence):\n",
        "        embeds = self.word_embeddings(sentence)\n",
        "        lstm_out, _ = self.lstm(embeds.view(len(sentence), 1, -1))\n",
        "        tag_space = self.hidden2tag(lstm_out.view(len(sentence), -1))\n",
        "        tag_scores = F.log_softmax(tag_space, dim=1)\n",
        "        return tag_scores"
      ],
      "execution_count": 0,
      "outputs": []
    },
    {
      "cell_type": "markdown",
      "metadata": {
        "id": "hjJCSilHuyih",
        "colab_type": "text"
      },
      "source": [
        "## Train the model:\n",
        "\n"
      ]
    },
    {
      "cell_type": "code",
      "metadata": {
        "id": "NLNN8YmjmtfY",
        "colab_type": "code",
        "colab": {}
      },
      "source": [
        "model = LSTMTagger(EMBEDDING_DIM, HIDDEN_DIM, len(word_to_ix), len(tag_to_ix))\n",
        "loss_function = nn.NLLLoss()\n",
        "optimizer = optim.SGD(model.parameters(), lr=0.1)"
      ],
      "execution_count": 0,
      "outputs": []
    },
    {
      "cell_type": "code",
      "metadata": {
        "id": "7M3aWiDVqgOw",
        "colab_type": "code",
        "colab": {}
      },
      "source": [
        "def get_index_of_max(input):\n",
        "    index = 0\n",
        "    for i in range(1, len(input)):\n",
        "        if input[i] > input[index]:\n",
        "            index = i \n",
        "    return index\n",
        "\n",
        "def get_max_prob_result(input, ix_to_word):\n",
        "    return ix_to_word[get_index_of_max(input)]"
      ],
      "execution_count": 0,
      "outputs": []
    },
    {
      "cell_type": "markdown",
      "metadata": {
        "id": "i7fuRulFnVbW",
        "colab_type": "text"
      },
      "source": [
        "### Question: compute and print the tags before the training."
      ]
    },
    {
      "cell_type": "code",
      "metadata": {
        "id": "whVby35_uyii",
        "colab_type": "code",
        "colab": {
          "base_uri": "https://localhost:8080/",
          "height": 221
        },
        "outputId": "eaf8f939-d86e-4698-849c-fe63783ba16b"
      },
      "source": [
        "# See what the scores are before training\n",
        "# Here we don't need to train, so the code is wrapped in torch.no_grad()\n",
        "with torch.no_grad():\n",
        "    inputs = prepare_sequence(training_data[0][0], word_to_ix)\n",
        "    tag_scores = model(inputs)\n",
        "    print(training_data[0][0])\n",
        "    print(inputs)\n",
        "    print(tag_scores)\n",
        "    for i, tags in enumerate(tag_scores):\n",
        "      print(\"Prediction: {}\".format(get_max_prob_result(tags, ix_to_word)))\n"
      ],
      "execution_count": 17,
      "outputs": [
        {
          "output_type": "stream",
          "text": [
            "['The', 'dog', 'ate', 'the', 'apple']\n",
            "tensor([0, 1, 2, 3, 4])\n",
            "tensor([[-0.7634, -1.2999, -1.3418],\n",
            "        [-0.7818, -1.2551, -1.3573],\n",
            "        [-0.8378, -1.2004, -1.3233],\n",
            "        [-0.8355, -1.2462, -1.2775],\n",
            "        [-0.8350, -1.2380, -1.2867]])\n",
            "Prediction: DET\n",
            "Prediction: DET\n",
            "Prediction: DET\n",
            "Prediction: DET\n",
            "Prediction: DET\n"
          ],
          "name": "stdout"
        }
      ]
    },
    {
      "cell_type": "code",
      "metadata": {
        "id": "TJlZsstvmytV",
        "colab_type": "code",
        "colab": {}
      },
      "source": [
        "for epoch in range(300):  # again, normally you would NOT do 300 epochs, it is toy data\n",
        "    for sentence, tags in training_data:\n",
        "        # Step 1. Remember that Pytorch accumulates gradients.\n",
        "        # We need to clear them out before each instance\n",
        "        model.zero_grad()\n",
        "\n",
        "        # Step 2. Get our inputs ready for the network, that is, turn them into\n",
        "        # Tensors of word indices.\n",
        "        sentence_in = prepare_sequence(sentence, word_to_ix)\n",
        "        targets = prepare_sequence(tags, tag_to_ix)\n",
        "\n",
        "        # Step 3. Run our forward pass.\n",
        "        tag_scores = model(sentence_in)\n",
        "\n",
        "        # Step 4. Compute the loss, gradients, and update the parameters by\n",
        "        #  calling optimizer.step()\n",
        "        loss = loss_function(tag_scores, targets)\n",
        "        loss.backward()\n",
        "        optimizer.step()"
      ],
      "execution_count": 0,
      "outputs": []
    },
    {
      "cell_type": "markdown",
      "metadata": {
        "id": "us2Pkt5Sw4H6",
        "colab_type": "text"
      },
      "source": [
        "### Question: compute and print the tags after the training."
      ]
    },
    {
      "cell_type": "code",
      "metadata": {
        "id": "aPECINfZjhxH",
        "colab_type": "code",
        "colab": {
          "base_uri": "https://localhost:8080/",
          "height": 187
        },
        "outputId": "8781e887-ec0b-4ab8-b025-e8a8f4320151"
      },
      "source": [
        "# See what the scores are after training\n",
        "with torch.no_grad():\n",
        "    inputs = prepare_sequence(training_data[0][0], word_to_ix)\n",
        "    tag_scores = model(inputs)\n",
        "\n",
        "    print(tag_scores)\n",
        "    for i, tags in enumerate(tag_scores):\n",
        "      print(\"Prediction: {}\".format(get_max_prob_result(tags, ix_to_word)))"
      ],
      "execution_count": 19,
      "outputs": [
        {
          "output_type": "stream",
          "text": [
            "tensor([[-0.0234, -3.8914, -5.9213],\n",
            "        [-4.5506, -0.0148, -5.4778],\n",
            "        [-4.7502, -4.7769, -0.0172],\n",
            "        [-0.0210, -4.4648, -4.6791],\n",
            "        [-4.6447, -0.0161, -5.0580]])\n",
            "Prediction: DET\n",
            "Prediction: NN\n",
            "Prediction: V\n",
            "Prediction: DET\n",
            "Prediction: NN\n"
          ],
          "name": "stdout"
        }
      ]
    }
  ]
}