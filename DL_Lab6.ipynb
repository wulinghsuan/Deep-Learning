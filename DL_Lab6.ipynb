{
  "nbformat": 4,
  "nbformat_minor": 0,
  "metadata": {
    "kernelspec": {
      "name": "python3",
      "display_name": "Python 3"
    },
    "language_info": {
      "codemirror_mode": {
        "name": "ipython",
        "version": 3
      },
      "file_extension": ".py",
      "mimetype": "text/x-python",
      "name": "python",
      "nbconvert_exporter": "python",
      "pygments_lexer": "ipython3",
      "version": "3.5.2"
    },
    "colab": {
      "name": "DSTI_DL_Lab6_March2020.ipynb",
      "provenance": [],
      "collapsed_sections": [],
      "toc_visible": true
    },
    "accelerator": "GPU"
  },
  "cells": [
    {
      "cell_type": "markdown",
      "metadata": {
        "id": "QYZjzA-LQ3yq",
        "colab_type": "text"
      },
      "source": [
        "# MNIST handwritten digits classification with regularized MLPs\n",
        "\n",
        "In this notebook, we'll train a multi-layer perceptron model to classify MNIST digits using **PyTorch**.\n",
        "\n",
        "The neural network will be regularized with\n",
        "\n",
        "\n",
        "1.   Dropout\n",
        "2.   Batchnormalization\n",
        "\n",
        "\n",
        "\n"
      ]
    },
    {
      "cell_type": "markdown",
      "metadata": {
        "id": "uEtfy2Y5KrXS",
        "colab_type": "text"
      },
      "source": [
        "First, the needed imports. "
      ]
    },
    {
      "cell_type": "code",
      "metadata": {
        "id": "qrZvRCTBQ3yt",
        "colab_type": "code",
        "outputId": "2eb18bea-c6f2-4c51-f6de-f3e3757fde32",
        "colab": {
          "base_uri": "https://localhost:8080/",
          "height": 34
        }
      },
      "source": [
        "%matplotlib inline\n",
        "\n",
        "import torch\n",
        "import torch.nn as nn\n",
        "import torch.nn.functional as F\n",
        "from torchvision import datasets, transforms\n",
        "#import seaborn as sns\n",
        "#sns.set()\n",
        "\n",
        "import numpy as np\n",
        "import matplotlib.pyplot as plt\n",
        "\n",
        "if torch.cuda.is_available():\n",
        "    device = torch.device('cuda')\n",
        "else:\n",
        "    device = torch.device('cpu')\n",
        "    \n",
        "print('Using PyTorch version:', torch.__version__, ' Device:', device)"
      ],
      "execution_count": 1,
      "outputs": [
        {
          "output_type": "stream",
          "text": [
            "Using PyTorch version: 1.5.0+cu101  Device: cuda\n"
          ],
          "name": "stdout"
        }
      ]
    },
    {
      "cell_type": "markdown",
      "metadata": {
        "id": "Y0chwSkbQ3yx",
        "colab_type": "text"
      },
      "source": [
        "## Data\n",
        "\n",
        "Next we'll load the MNIST data.  First time we may have to download the data, which can take a while.\n",
        "\n",
        "Note that we are here using the MNIST test data for *validation*, instead of for testing the final model."
      ]
    },
    {
      "cell_type": "code",
      "metadata": {
        "id": "CyqByXDlQ3yy",
        "colab_type": "code",
        "colab": {}
      },
      "source": [
        "batch_size = 32\n",
        "\n",
        "train_dataset = datasets.MNIST('./data', \n",
        "                               train=True, \n",
        "                               download=True, \n",
        "                               transform=transforms.ToTensor())\n",
        "\n",
        "validation_dataset = datasets.MNIST('./data', \n",
        "                                    train=False, \n",
        "                                    transform=transforms.ToTensor())\n",
        "\n",
        "train_loader = torch.utils.data.DataLoader(dataset=train_dataset, \n",
        "                                           batch_size=batch_size, \n",
        "                                           shuffle=True)\n",
        "\n",
        "validation_loader = torch.utils.data.DataLoader(dataset=validation_dataset, \n",
        "                                                batch_size=batch_size, \n",
        "                                                shuffle=False)"
      ],
      "execution_count": 0,
      "outputs": []
    },
    {
      "cell_type": "markdown",
      "metadata": {
        "id": "R5RUIpKiQ3y1",
        "colab_type": "text"
      },
      "source": [
        "The train and test data are provided via data loaders that provide iterators over the datasets. The first element of training data (`X_train`) is a 4th-order tensor of size (`batch_size`, 1, 28, 28), i.e. it consists of a batch of images of size 1x28x28 pixels. `y_train` is a vector containing the correct classes (\"0\", \"1\", ..., \"9\") for each training digit."
      ]
    },
    {
      "cell_type": "code",
      "metadata": {
        "id": "rpWAQsC5Q3y2",
        "colab_type": "code",
        "outputId": "8a2986d0-416b-405f-9e9d-e5561e42f4f5",
        "colab": {
          "base_uri": "https://localhost:8080/",
          "height": 51
        }
      },
      "source": [
        "for (X_train, y_train) in train_loader:\n",
        "    print('X_train:', X_train.size(), 'type:', X_train.type())\n",
        "    print('y_train:', y_train.size(), 'type:', y_train.type())\n",
        "    break"
      ],
      "execution_count": 3,
      "outputs": [
        {
          "output_type": "stream",
          "text": [
            "X_train: torch.Size([32, 1, 28, 28]) type: torch.FloatTensor\n",
            "y_train: torch.Size([32]) type: torch.LongTensor\n"
          ],
          "name": "stdout"
        }
      ]
    },
    {
      "cell_type": "markdown",
      "metadata": {
        "id": "l-HI9wwyQ3y4",
        "colab_type": "text"
      },
      "source": [
        "Here are the first 10 training digits:"
      ]
    },
    {
      "cell_type": "code",
      "metadata": {
        "id": "bEwHbv16Q3y6",
        "colab_type": "code",
        "outputId": "f22e3d71-c863-47c4-b4d5-64cedba51af7",
        "colab": {
          "base_uri": "https://localhost:8080/",
          "height": 94
        }
      },
      "source": [
        "pltsize=1\n",
        "plt.figure(figsize=(10*pltsize, pltsize))\n",
        "\n",
        "for i in range(10):\n",
        "    plt.subplot(1,10,i+1)\n",
        "    plt.axis('off')\n",
        "    plt.imshow(X_train[i,:,:,:].numpy().reshape(28,28), cmap=\"gray\")\n",
        "    plt.title('Class: '+str(y_train[i].item()))"
      ],
      "execution_count": 4,
      "outputs": [
        {
          "output_type": "display_data",
          "data": {
            "image/png": "[encoded data removed]",
            "text/plain": [
              "<Figure size 720x72 with 10 Axes>"
            ]
          },
          "metadata": {
            "tags": [],
            "needs_background": "light"
          }
        }
      ]
    },
    {
      "cell_type": "markdown",
      "metadata": {
        "id": "Lj0u1Y9uQ3y9",
        "colab_type": "text"
      },
      "source": [
        "## MLP network definition\n",
        "\n",
        "Let's define the network as a Python class.  We have to write the `__init__()` and `forward()` methods, and PyTorch will automatically generate a `backward()` method for computing the gradients for the backward pass.\n",
        "\n",
        "Finally, we define an optimizer to update the model parameters based on the computed gradients.  We select *stochastic gradient descent (with momentum)* as the optimization algorithm, and set *learning rate* to 0.01.  Note that there are [several different options](http://pytorch.org/docs/optim.html#algorithms) for the optimizer in PyTorch that we could use instead of *SGD*."
      ]
    },
    {
      "cell_type": "markdown",
      "metadata": {
        "id": "FB_060a0LkaB",
        "colab_type": "text"
      },
      "source": [
        "#### Question: Complete the missing blocks in the definition of the  convNet architecture \n",
        "\n",
        "The neural network should be composed as (FullyConnected 256 -> ReLU -> Fully Connected 256 -> ReLU -> Fully Connected 10 -> softmax)"
      ]
    },
    {
      "cell_type": "code",
      "metadata": {
        "id": "ERvvxFlPQ3y-",
        "colab_type": "code",
        "outputId": "e637d104-8966-4bbb-fb73-22386e7d30fc",
        "colab": {
          "base_uri": "https://localhost:8080/",
          "height": 102
        }
      },
      "source": [
        "H1 = 256\n",
        "H2 = 256 \n",
        "\n",
        "class Net(nn.Module):\n",
        "    def __init__(self):\n",
        "        super(Net, self).__init__()\n",
        "        self.fc1 = nn.Linear(28*28, H1)\n",
        "        self.fc2 = nn.Linear(H1, H2)\n",
        "        self.fc3 = nn.Linear(H2, 10)\n",
        "\n",
        "    def forward(self, x):\n",
        "        x = x.view(-1, 28*28)\n",
        "        x = F.relu(self.fc1(x))\n",
        "        x = F.relu(self.fc2(x))\n",
        "        x = self.fc3(x)\n",
        "        return F.log_softmax(x, dim=1)\n",
        "\n",
        "model = Net().to(device)\n",
        "optimizer = torch.optim.SGD(model.parameters(), lr=0.01, momentum=0.)\n",
        "criterion = nn.CrossEntropyLoss()\n",
        "\n",
        "print(model)"
      ],
      "execution_count": 5,
      "outputs": [
        {
          "output_type": "stream",
          "text": [
            "Net(\n",
            "  (fc1): Linear(in_features=784, out_features=256, bias=True)\n",
            "  (fc2): Linear(in_features=256, out_features=256, bias=True)\n",
            "  (fc3): Linear(in_features=256, out_features=10, bias=True)\n",
            ")\n"
          ],
          "name": "stdout"
        }
      ]
    },
    {
      "cell_type": "markdown",
      "metadata": {
        "id": "bbnPlkshVtS1",
        "colab_type": "text"
      },
      "source": [
        "### Question: Complete the missing blocks in the definition of the \"DropoutNet\" architecture\n",
        "\n",
        "The neural network should be composed as (FullyConnected 256 -> ReLU -> Dropout (0.2) -> Fully Connected 256 -> ReLU -> Dropout (0.5) -> Fully Connected 10 -> softmax)"
      ]
    },
    {
      "cell_type": "code",
      "metadata": {
        "id": "bEK5kptoSYfe",
        "colab_type": "code",
        "outputId": "c7516cf4-6424-4342-a869-1d29bbf989a8",
        "colab": {
          "base_uri": "https://localhost:8080/",
          "height": 136
        }
      },
      "source": [
        "class NetDrop(nn.Module):\n",
        "    def __init__(self):\n",
        "        super(NetDrop, self).__init__()\n",
        "        self.fc1 = nn.Linear(28*28, H1)\n",
        "        self.fc1_drop = nn.Dropout(p=0.2)\n",
        "        self.fc2 = nn.Linear(H1, H2)\n",
        "        self.fc2_drop = nn.Dropout(p=0.5)\n",
        "        self.fc3 = nn.Linear(H2, 10)\n",
        "\n",
        "    def forward(self, x):\n",
        "        x = x.view(-1, 28*28)\n",
        "        x = F.relu(self.fc1(x))\n",
        "        x = self.fc1_drop(x)\n",
        "        x = F.relu(self.fc2(x))\n",
        "        x = self.fc2_drop(x)\n",
        "        x = self.fc3(x)\n",
        "        return F.log_softmax(x, dim=1)\n",
        "\n",
        "modelDrop = NetDrop().to(device)\n",
        "optimizerDrop = torch.optim.SGD(modelDrop.parameters(), lr=0.01, momentum=0.)\n",
        "\n",
        "print(modelDrop)"
      ],
      "execution_count": 6,
      "outputs": [
        {
          "output_type": "stream",
          "text": [
            "NetDrop(\n",
            "  (fc1): Linear(in_features=784, out_features=256, bias=True)\n",
            "  (fc1_drop): Dropout(p=0.2, inplace=False)\n",
            "  (fc2): Linear(in_features=256, out_features=256, bias=True)\n",
            "  (fc2_drop): Dropout(p=0.5, inplace=False)\n",
            "  (fc3): Linear(in_features=256, out_features=10, bias=True)\n",
            ")\n"
          ],
          "name": "stdout"
        }
      ]
    },
    {
      "cell_type": "markdown",
      "metadata": {
        "id": "p1u8Y6ydL_L8",
        "colab_type": "text"
      },
      "source": [
        "### Question: Complete the missing blocks in the definition of the  \"Batchnormalization\" architecture\n",
        "\n",
        "The neural network should be composed as (FullyConnected 256 -> ReLU -> Batchnorm -> Fully Connected 256 -> ReLU -> Batchnorm -> Fully Connected 10 -> softmax)"
      ]
    },
    {
      "cell_type": "code",
      "metadata": {
        "id": "rcnP7ZRwMIu_",
        "colab_type": "code",
        "outputId": "221c8895-16c8-4ff8-b30a-7ee3bd045214",
        "colab": {
          "base_uri": "https://localhost:8080/",
          "height": 136
        }
      },
      "source": [
        "class NetBatchNorm(nn.Module):\n",
        "    def __init__(self):\n",
        "        super(NetBatchNorm, self).__init__()\n",
        "        self.fc1 = nn.Linear(28*28, H1)\n",
        "        self.bn1 = nn.BatchNorm1d(H1)\n",
        "        self.fc2 = nn.Linear(H1, H2)\n",
        "        self.bn2 = nn.BatchNorm1d(H2)\n",
        "        self.fc3 = nn.Linear(H2, 10)\n",
        "\n",
        "    def forward(self, x):\n",
        "        x = x.view(-1, 28*28)\n",
        "        x = F.relu(self.fc1(x))\n",
        "        x = self.bn1(x)\n",
        "        x = F.relu(self.fc2(x))\n",
        "        x = self.bn2(x)\n",
        "        x = self.fc3(x)\n",
        "        return F.log_softmax(x, dim=1)\n",
        "\n",
        "modelBatchNorm = NetBatchNorm().to(device)\n",
        "optimizerBatchNorm = torch.optim.SGD(modelBatchNorm.parameters(), lr=0.01, momentum=0.)\n",
        "\n",
        "print(modelBatchNorm)"
      ],
      "execution_count": 7,
      "outputs": [
        {
          "output_type": "stream",
          "text": [
            "NetBatchNorm(\n",
            "  (fc1): Linear(in_features=784, out_features=256, bias=True)\n",
            "  (bn1): BatchNorm1d(256, eps=1e-05, momentum=0.1, affine=True, track_running_stats=True)\n",
            "  (fc2): Linear(in_features=256, out_features=256, bias=True)\n",
            "  (bn2): BatchNorm1d(256, eps=1e-05, momentum=0.1, affine=True, track_running_stats=True)\n",
            "  (fc3): Linear(in_features=256, out_features=10, bias=True)\n",
            ")\n"
          ],
          "name": "stdout"
        }
      ]
    },
    {
      "cell_type": "markdown",
      "metadata": {
        "id": "jOwerJmYQ3zA",
        "colab_type": "text"
      },
      "source": [
        "## Learning\n",
        "\n",
        "Let's now define functions to `train()` and `test()` the model. "
      ]
    },
    {
      "cell_type": "code",
      "metadata": {
        "id": "eyA6cc6kQ3zB",
        "colab_type": "code",
        "colab": {}
      },
      "source": [
        "def train(model, optimizer, epoch, log_interval=200):\n",
        "    # Set model to training mode\n",
        "    model.train()\n",
        "    \n",
        "    # Loop over each batch from the training set\n",
        "    for batch_idx, (data, target) in enumerate(train_loader):\n",
        "        # Copy data to GPU if needed\n",
        "        data = data.to(device)\n",
        "        target = target.to(device)\n",
        "\n",
        "        # Zero gradient buffers\n",
        "        optimizer.zero_grad() \n",
        "        \n",
        "        # Pass data through the network\n",
        "        output = model(data)\n",
        "\n",
        "        # Calculate loss\n",
        "        loss = criterion(output, target)\n",
        "\n",
        "        # Backpropagate\n",
        "        loss.backward()\n",
        "        \n",
        "        # Update weights\n",
        "        optimizer.step()\n",
        "        \n",
        "        if batch_idx % log_interval == 0:\n",
        "            print('Train Epoch: {} [{}/{} ({:.0f}%)]\\tLoss: {:.6f}'.format(\n",
        "                epoch, batch_idx * len(data), len(train_loader.dataset),\n",
        "                100. * batch_idx / len(train_loader), loss.data.item()))"
      ],
      "execution_count": 0,
      "outputs": []
    },
    {
      "cell_type": "code",
      "metadata": {
        "id": "GZpI82dgQ3zE",
        "colab_type": "code",
        "colab": {}
      },
      "source": [
        "def validate(model, loss_vector, accuracy_vector):\n",
        "    model.eval()\n",
        "    val_loss, correct = 0, 0\n",
        "    for data, target in validation_loader:\n",
        "        data = data.to(device)\n",
        "        target = target.to(device)\n",
        "        output = model(data)\n",
        "        val_loss += criterion(output, target).data.item()\n",
        "        pred = output.data.max(1)[1] # get the index of the max log-probability\n",
        "        correct += pred.eq(target.data).cpu().sum()\n",
        "\n",
        "    val_loss /= len(validation_loader)\n",
        "    loss_vector.append(val_loss)\n",
        "\n",
        "    accuracy = 100. * correct.to(torch.float32) / len(validation_loader.dataset)\n",
        "    accuracy_vector.append(accuracy)\n",
        "    \n",
        "    print('\\nValidation set: Average loss: {:.4f}, Accuracy: {}/{} ({:.0f}%)\\n'.format(\n",
        "        val_loss, correct, len(validation_loader.dataset), accuracy))\n"
      ],
      "execution_count": 0,
      "outputs": []
    },
    {
      "cell_type": "markdown",
      "metadata": {
        "id": "RpE7EGviQ3zF",
        "colab_type": "text"
      },
      "source": [
        "Now we are ready to train our model using the `train()` function.  An *epoch* means one pass through the whole training data. After each epoch, we evaluate the model using `test()`. "
      ]
    },
    {
      "cell_type": "markdown",
      "metadata": {
        "id": "Ls0lR3WvVVZQ",
        "colab_type": "text"
      },
      "source": [
        "Training without Dropout"
      ]
    },
    {
      "cell_type": "code",
      "metadata": {
        "id": "uFPAF_CNQ3zG",
        "colab_type": "code",
        "outputId": "519421ea-73a2-47d0-83c0-7761ab1e80ff",
        "colab": {
          "base_uri": "https://localhost:8080/",
          "height": 697
        }
      },
      "source": [
        "%%time\n",
        "epochs = 3\n",
        "\n",
        "lossv, accv = [], []\n",
        "for epoch in range(1, epochs + 1):\n",
        "    train(model, optimizer, epoch)\n",
        "    validate(model, lossv, accv)"
      ],
      "execution_count": 10,
      "outputs": [
        {
          "output_type": "stream",
          "text": [
            "Train Epoch: 1 [0/60000 (0%)]\tLoss: 2.313427\n",
            "Train Epoch: 1 [6400/60000 (11%)]\tLoss: 2.214463\n",
            "Train Epoch: 1 [12800/60000 (21%)]\tLoss: 1.983702\n",
            "Train Epoch: 1 [19200/60000 (32%)]\tLoss: 1.291922\n",
            "Train Epoch: 1 [25600/60000 (43%)]\tLoss: 0.919053\n",
            "Train Epoch: 1 [32000/60000 (53%)]\tLoss: 0.673312\n",
            "Train Epoch: 1 [38400/60000 (64%)]\tLoss: 0.437465\n",
            "Train Epoch: 1 [44800/60000 (75%)]\tLoss: 0.442770\n",
            "Train Epoch: 1 [51200/60000 (85%)]\tLoss: 0.286706\n",
            "Train Epoch: 1 [57600/60000 (96%)]\tLoss: 0.359576\n",
            "\n",
            "Validation set: Average loss: 0.4050, Accuracy: 8888/10000 (89%)\n",
            "\n",
            "Train Epoch: 2 [0/60000 (0%)]\tLoss: 0.462304\n",
            "Train Epoch: 2 [6400/60000 (11%)]\tLoss: 0.527810\n",
            "Train Epoch: 2 [12800/60000 (21%)]\tLoss: 0.771539\n",
            "Train Epoch: 2 [19200/60000 (32%)]\tLoss: 0.338745\n",
            "Train Epoch: 2 [25600/60000 (43%)]\tLoss: 0.316264\n",
            "Train Epoch: 2 [32000/60000 (53%)]\tLoss: 0.549672\n",
            "Train Epoch: 2 [38400/60000 (64%)]\tLoss: 0.432946\n",
            "Train Epoch: 2 [44800/60000 (75%)]\tLoss: 0.248921\n",
            "Train Epoch: 2 [51200/60000 (85%)]\tLoss: 0.147662\n",
            "Train Epoch: 2 [57600/60000 (96%)]\tLoss: 0.585188\n",
            "\n",
            "Validation set: Average loss: 0.3102, Accuracy: 9137/10000 (91%)\n",
            "\n",
            "Train Epoch: 3 [0/60000 (0%)]\tLoss: 0.452066\n",
            "Train Epoch: 3 [6400/60000 (11%)]\tLoss: 0.148347\n",
            "Train Epoch: 3 [12800/60000 (21%)]\tLoss: 0.220450\n",
            "Train Epoch: 3 [19200/60000 (32%)]\tLoss: 0.254288\n",
            "Train Epoch: 3 [25600/60000 (43%)]\tLoss: 0.370611\n",
            "Train Epoch: 3 [32000/60000 (53%)]\tLoss: 0.306438\n",
            "Train Epoch: 3 [38400/60000 (64%)]\tLoss: 0.195800\n",
            "Train Epoch: 3 [51200/60000 (85%)]\tLoss: 0.435564\n",
            "Train Epoch: 3 [57600/60000 (96%)]\tLoss: 0.520471\n",
            "\n",
            "Validation set: Average loss: 0.2605, Accuracy: 9280/10000 (93%)\n",
            "\n",
            "CPU times: user 30.3 s, sys: 462 ms, total: 30.7 s\n",
            "Wall time: 31 s\n"
          ],
          "name": "stdout"
        }
      ]
    },
    {
      "cell_type": "markdown",
      "metadata": {
        "id": "fqI_dIneVR-o",
        "colab_type": "text"
      },
      "source": [
        "Training with Dropout"
      ]
    },
    {
      "cell_type": "code",
      "metadata": {
        "id": "RPiJfdeqTJqb",
        "colab_type": "code",
        "outputId": "09645be4-bb61-4d56-a6cf-eaf0adbaa249",
        "colab": {
          "base_uri": "https://localhost:8080/",
          "height": 714
        }
      },
      "source": [
        "%%time\n",
        "\n",
        "lossvDrop, accvDrop = [], []\n",
        "for epoch in range(1, epochs + 1):\n",
        "    train(modelDrop, optimizerDrop, epoch)\n",
        "    validate(modelDrop, lossvDrop, accvDrop)"
      ],
      "execution_count": 11,
      "outputs": [
        {
          "output_type": "stream",
          "text": [
            "Train Epoch: 1 [0/60000 (0%)]\tLoss: 2.304464\n",
            "Train Epoch: 1 [6400/60000 (11%)]\tLoss: 2.213566\n",
            "Train Epoch: 1 [12800/60000 (21%)]\tLoss: 1.950731\n",
            "Train Epoch: 1 [19200/60000 (32%)]\tLoss: 1.509052\n",
            "Train Epoch: 1 [25600/60000 (43%)]\tLoss: 1.106059\n",
            "Train Epoch: 1 [32000/60000 (53%)]\tLoss: 0.848302\n",
            "Train Epoch: 1 [38400/60000 (64%)]\tLoss: 0.955356\n",
            "Train Epoch: 1 [44800/60000 (75%)]\tLoss: 0.515874\n",
            "Train Epoch: 1 [51200/60000 (85%)]\tLoss: 0.426021\n",
            "Train Epoch: 1 [57600/60000 (96%)]\tLoss: 0.684985\n",
            "\n",
            "Validation set: Average loss: 0.4504, Accuracy: 8761/10000 (88%)\n",
            "\n",
            "Train Epoch: 2 [0/60000 (0%)]\tLoss: 0.730062\n",
            "Train Epoch: 2 [6400/60000 (11%)]\tLoss: 0.473702\n",
            "Train Epoch: 2 [12800/60000 (21%)]\tLoss: 0.657374\n",
            "Train Epoch: 2 [19200/60000 (32%)]\tLoss: 0.303268\n",
            "Train Epoch: 2 [25600/60000 (43%)]\tLoss: 0.774570\n",
            "Train Epoch: 2 [32000/60000 (53%)]\tLoss: 0.566976\n",
            "Train Epoch: 2 [38400/60000 (64%)]\tLoss: 0.748235\n",
            "Train Epoch: 2 [44800/60000 (75%)]\tLoss: 0.346535\n",
            "Train Epoch: 2 [51200/60000 (85%)]\tLoss: 0.487401\n",
            "Train Epoch: 2 [57600/60000 (96%)]\tLoss: 0.454070\n",
            "\n",
            "Validation set: Average loss: 0.3172, Accuracy: 9084/10000 (91%)\n",
            "\n",
            "Train Epoch: 3 [0/60000 (0%)]\tLoss: 0.164608\n",
            "Train Epoch: 3 [6400/60000 (11%)]\tLoss: 0.469454\n",
            "Train Epoch: 3 [12800/60000 (21%)]\tLoss: 0.526164\n",
            "Train Epoch: 3 [19200/60000 (32%)]\tLoss: 0.274389\n",
            "Train Epoch: 3 [25600/60000 (43%)]\tLoss: 0.424173\n",
            "Train Epoch: 3 [32000/60000 (53%)]\tLoss: 0.698642\n",
            "Train Epoch: 3 [38400/60000 (64%)]\tLoss: 0.408098\n",
            "Train Epoch: 3 [44800/60000 (75%)]\tLoss: 0.649907\n",
            "Train Epoch: 3 [51200/60000 (85%)]\tLoss: 0.548732\n",
            "Train Epoch: 3 [57600/60000 (96%)]\tLoss: 0.264620\n",
            "\n",
            "Validation set: Average loss: 0.2669, Accuracy: 9237/10000 (92%)\n",
            "\n",
            "CPU times: user 31 s, sys: 421 ms, total: 31.4 s\n",
            "Wall time: 31.6 s\n"
          ],
          "name": "stdout"
        }
      ]
    },
    {
      "cell_type": "markdown",
      "metadata": {
        "id": "nhG5ZvXIMpZ2",
        "colab_type": "text"
      },
      "source": [
        "Training with Batchnormalization"
      ]
    },
    {
      "cell_type": "code",
      "metadata": {
        "id": "IUWKOAvjM0QI",
        "colab_type": "code",
        "outputId": "3d6427fe-61c4-4eb1-cc5b-9fe71dd54c4f",
        "colab": {
          "base_uri": "https://localhost:8080/",
          "height": 714
        }
      },
      "source": [
        "%%time\n",
        "\n",
        "lossvBN, accvBN = [], []\n",
        "for epoch in range(1, epochs + 1):\n",
        "    train(modelBatchNorm, optimizerBatchNorm, epoch)\n",
        "    validate(modelBatchNorm, lossvBN, accvBN)"
      ],
      "execution_count": 12,
      "outputs": [
        {
          "output_type": "stream",
          "text": [
            "Train Epoch: 1 [0/60000 (0%)]\tLoss: 2.553545\n",
            "Train Epoch: 1 [6400/60000 (11%)]\tLoss: 0.226889\n",
            "Train Epoch: 1 [12800/60000 (21%)]\tLoss: 0.138051\n",
            "Train Epoch: 1 [19200/60000 (32%)]\tLoss: 0.325723\n",
            "Train Epoch: 1 [25600/60000 (43%)]\tLoss: 0.119005\n",
            "Train Epoch: 1 [32000/60000 (53%)]\tLoss: 0.171549\n",
            "Train Epoch: 1 [38400/60000 (64%)]\tLoss: 0.516999\n",
            "Train Epoch: 1 [44800/60000 (75%)]\tLoss: 0.154437\n",
            "Train Epoch: 1 [51200/60000 (85%)]\tLoss: 0.142799\n",
            "Train Epoch: 1 [57600/60000 (96%)]\tLoss: 0.141388\n",
            "\n",
            "Validation set: Average loss: 0.1253, Accuracy: 9637/10000 (96%)\n",
            "\n",
            "Train Epoch: 2 [0/60000 (0%)]\tLoss: 0.172534\n",
            "Train Epoch: 2 [6400/60000 (11%)]\tLoss: 0.082428\n",
            "Train Epoch: 2 [12800/60000 (21%)]\tLoss: 0.075447\n",
            "Train Epoch: 2 [19200/60000 (32%)]\tLoss: 0.015546\n",
            "Train Epoch: 2 [25600/60000 (43%)]\tLoss: 0.411683\n",
            "Train Epoch: 2 [32000/60000 (53%)]\tLoss: 0.029516\n",
            "Train Epoch: 2 [38400/60000 (64%)]\tLoss: 0.154284\n",
            "Train Epoch: 2 [44800/60000 (75%)]\tLoss: 0.087733\n",
            "Train Epoch: 2 [51200/60000 (85%)]\tLoss: 0.042072\n",
            "Train Epoch: 2 [57600/60000 (96%)]\tLoss: 0.216967\n",
            "\n",
            "Validation set: Average loss: 0.0920, Accuracy: 9726/10000 (97%)\n",
            "\n",
            "Train Epoch: 3 [0/60000 (0%)]\tLoss: 0.128225\n",
            "Train Epoch: 3 [6400/60000 (11%)]\tLoss: 0.039521\n",
            "Train Epoch: 3 [12800/60000 (21%)]\tLoss: 0.135532\n",
            "Train Epoch: 3 [19200/60000 (32%)]\tLoss: 0.195460\n",
            "Train Epoch: 3 [25600/60000 (43%)]\tLoss: 0.114619\n",
            "Train Epoch: 3 [32000/60000 (53%)]\tLoss: 0.046145\n",
            "Train Epoch: 3 [38400/60000 (64%)]\tLoss: 0.026443\n",
            "Train Epoch: 3 [44800/60000 (75%)]\tLoss: 0.276560\n",
            "Train Epoch: 3 [51200/60000 (85%)]\tLoss: 0.050426\n",
            "Train Epoch: 3 [57600/60000 (96%)]\tLoss: 0.036765\n",
            "\n",
            "Validation set: Average loss: 0.0827, Accuracy: 9763/10000 (98%)\n",
            "\n",
            "CPU times: user 33.2 s, sys: 470 ms, total: 33.6 s\n",
            "Wall time: 33.8 s\n"
          ],
          "name": "stdout"
        }
      ]
    },
    {
      "cell_type": "markdown",
      "metadata": {
        "id": "l0YZ4vNbQ3zI",
        "colab_type": "text"
      },
      "source": [
        "Let's now visualize how the training progressed. \n",
        "\n",
        "* *Loss* is a function of the difference of the network output and the target values.  We are minimizing the loss function during training so it should decrease over time.\n",
        "* *Accuracy* is the classification accuracy for the test data."
      ]
    },
    {
      "cell_type": "code",
      "metadata": {
        "id": "MN2LcmsHQ3zJ",
        "colab_type": "code",
        "outputId": "5069f228-7021-4f2b-847e-315c97549b98",
        "colab": {
          "base_uri": "https://localhost:8080/",
          "height": 465
        }
      },
      "source": [
        "plt.figure(figsize=(5,3))\n",
        "plt.plot(np.arange(1,epochs+1), lossv, label='no dropout')\n",
        "plt.plot(np.arange(1,epochs+1), lossvDrop, label='with dropout')\n",
        "plt.plot(np.arange(1,epochs+1), lossvBN, label='with batchnormalization')\n",
        "plt.legend(loc='upper left');\n",
        "plt.xlabel('epoch')\n",
        "plt.title('validation loss')\n",
        "plt.show()\n",
        "\n",
        "plt.figure(figsize=(5,3))\n",
        "plt.plot(np.arange(1,epochs+1), accv, label='no dropout')\n",
        "plt.plot(np.arange(1,epochs+1), accvDrop, label='with dropout')\n",
        "plt.plot(np.arange(1,epochs+1), accvBN, label='with batchnormalization')\n",
        "plt.legend(loc='upper left');\n",
        "plt.xlabel('epoch')\n",
        "plt.title('validation accuracy');"
      ],
      "execution_count": 13,
      "outputs": [
        {
          "output_type": "display_data",
          "data": {
            "image/png": "[encoded data removed]",
            "text/plain": [
              "<Figure size 360x216 with 1 Axes>"
            ]
          },
          "metadata": {
            "tags": [],
            "needs_background": "light"
          }
        },
        {
          "output_type": "display_data",
          "data": {
            "image/png": "[encoded data removed]",
            "text/plain": [
              "<Figure size 360x216 with 1 Axes>"
            ]
          },
          "metadata": {
            "tags": [],
            "needs_background": "light"
          }
        }
      ]
    },
    {
      "cell_type": "markdown",
      "metadata": {
        "id": "1-o8iKwlQ3zM",
        "colab_type": "text"
      },
      "source": [
        "### Question (model tuning): compare the gain when the first layer has less neurons (50 instead of 256)\n",
        "\n"
      ]
    },
    {
      "cell_type": "markdown",
      "metadata": {
        "id": "8E1SmvXmOcMn",
        "colab_type": "text"
      },
      "source": [
        "### Question (model tuning): increase the number of epochs for the training (10 instead of 3)"
      ]
    }
  ]
}