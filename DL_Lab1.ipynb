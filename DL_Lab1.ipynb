{
  "nbformat": 4,
  "nbformat_minor": 0,
  "metadata": {
    "kernelspec": {
      "name": "python3",
      "display_name": "Python 3"
    },
    "language_info": {
      "codemirror_mode": {
        "name": "ipython",
        "version": 3
      },
      "file_extension": ".py",
      "mimetype": "text/x-python",
      "name": "python",
      "nbconvert_exporter": "python",
      "pygments_lexer": "ipython3",
      "version": "3.7.3"
    },
    "colab": {
      "name": "DSTI_DL_Lab1_March2020.ipynb",
      "provenance": [],
      "collapsed_sections": [],
      "toc_visible": true
    },
    "accelerator": "GPU"
  },
  "cells": [
    {
      "cell_type": "markdown",
      "metadata": {
        "id": "mYjIe2Y5gC9e",
        "colab_type": "text"
      },
      "source": [
        "# Torch basics"
      ]
    },
    {
      "cell_type": "code",
      "metadata": {
        "id": "Hh6cps5cgC9g",
        "colab_type": "code",
        "colab": {}
      },
      "source": [
        "import matplotlib.pyplot as plt\n",
        "%matplotlib inline\n",
        "import torch\n",
        "import numpy as np"
      ],
      "execution_count": 0,
      "outputs": []
    },
    {
      "cell_type": "code",
      "metadata": {
        "id": "Pe1KgPFqgC9m",
        "colab_type": "code",
        "outputId": "5cd0885a-27dc-4f16-d3d7-810b7cf879aa",
        "colab": {
          "base_uri": "https://localhost:8080/",
          "height": 34
        }
      },
      "source": [
        "torch.__version__"
      ],
      "execution_count": 2,
      "outputs": [
        {
          "output_type": "execute_result",
          "data": {
            "text/plain": [
              "'1.5.0+cu101'"
            ]
          },
          "metadata": {
            "tags": []
          },
          "execution_count": 2
        }
      ]
    },
    {
      "cell_type": "markdown",
      "metadata": {
        "id": "lMn2UjdXgC9r",
        "colab_type": "text"
      },
      "source": [
        "Largely inspired from the tutorial [What is PyTorch?](https://pytorch.org/tutorials/beginner/former_torchies/tensor_tutorial.html)\n",
        "\n",
        "Tensors are used to encode the signal to process, but also the internal states and parameters of models.\n",
        "\n",
        "Manipulating data through this constrained structure allows to use CPUs and GPUs at peak performance.\n",
        "\n"
      ]
    },
    {
      "cell_type": "markdown",
      "metadata": {
        "id": "loUAlh7dyVpN",
        "colab_type": "text"
      },
      "source": [
        "## Tensors"
      ]
    },
    {
      "cell_type": "markdown",
      "metadata": {
        "id": "hlUFi857xt6Q",
        "colab_type": "text"
      },
      "source": [
        "Construct a 3x5 matrix, uninitialized:"
      ]
    },
    {
      "cell_type": "code",
      "metadata": {
        "id": "2kLcNt8IgC9r",
        "colab_type": "code",
        "colab": {}
      },
      "source": [
        "# Sets the default floating point dtype. \n",
        "# This type will be used as default floating point type for type inference in torch.tensor().\n",
        "torch.set_default_tensor_type('torch.FloatTensor') "
      ],
      "execution_count": 0,
      "outputs": []
    },
    {
      "cell_type": "code",
      "metadata": {
        "id": "RjUhHCJMgC9u",
        "colab_type": "code",
        "outputId": "7a6fa531-fda7-43d1-9a40-2e722a34a2fa",
        "colab": {
          "base_uri": "https://localhost:8080/",
          "height": 85
        }
      },
      "source": [
        "x = torch.empty(3,5)\n",
        "print(x.type())\n",
        "print(x)"
      ],
      "execution_count": 4,
      "outputs": [
        {
          "output_type": "stream",
          "text": [
            "torch.FloatTensor\n",
            "tensor([[1.6606e-35, 0.0000e+00, 3.3631e-44, 0.0000e+00,        nan],\n",
            "        [0.0000e+00, 1.1578e+27, 1.1362e+30, 7.1547e+22, 4.5828e+30],\n",
            "        [1.2121e+04, 7.1846e+22, 9.2198e-39, 7.0374e+22, 0.0000e+00]])\n"
          ],
          "name": "stdout"
        }
      ]
    },
    {
      "cell_type": "code",
      "metadata": {
        "id": "MnRsrLh5gC9w",
        "colab_type": "code",
        "outputId": "a18ef98f-6224-4dc6-fff5-e626534c459b",
        "colab": {
          "base_uri": "https://localhost:8080/",
          "height": 68
        }
      },
      "source": [
        "x = torch.randn(3,5)\n",
        "print(x)"
      ],
      "execution_count": 5,
      "outputs": [
        {
          "output_type": "stream",
          "text": [
            "tensor([[ 0.7307, -0.1070,  0.6416,  0.2062, -0.3901],\n",
            "        [-0.6680,  0.9241,  0.4242, -0.1721, -0.6571],\n",
            "        [-1.2163, -0.9682,  1.2214, -0.1376,  0.1078]])\n"
          ],
          "name": "stdout"
        }
      ]
    },
    {
      "cell_type": "code",
      "metadata": {
        "id": "lfgpO7kUgC9z",
        "colab_type": "code",
        "outputId": "c31e96e9-3ec8-44fd-d590-b4d2f9d3fefb",
        "colab": {
          "base_uri": "https://localhost:8080/",
          "height": 34
        }
      },
      "source": [
        "print(x.size())"
      ],
      "execution_count": 6,
      "outputs": [
        {
          "output_type": "stream",
          "text": [
            "torch.Size([3, 5])\n"
          ],
          "name": "stdout"
        }
      ]
    },
    {
      "cell_type": "markdown",
      "metadata": {
        "id": "NNLzvVKigC92",
        "colab_type": "text"
      },
      "source": [
        "torch.Size is in fact a [tuple](https://docs.python.org/3/tutorial/datastructures.html#tuples-and-sequences), so it supports the same operations."
      ]
    },
    {
      "cell_type": "code",
      "metadata": {
        "id": "W-o3sFH3gC92",
        "colab_type": "code",
        "outputId": "64da22c2-6594-43bd-a19e-b35e97baf923",
        "colab": {
          "base_uri": "https://localhost:8080/",
          "height": 34
        }
      },
      "source": [
        "x.size()[1]"
      ],
      "execution_count": 7,
      "outputs": [
        {
          "output_type": "execute_result",
          "data": {
            "text/plain": [
              "5"
            ]
          },
          "metadata": {
            "tags": []
          },
          "execution_count": 7
        }
      ]
    },
    {
      "cell_type": "code",
      "metadata": {
        "id": "LkQAasgtgC95",
        "colab_type": "code",
        "outputId": "3205126b-2ad6-4c28-9f5a-25dc974fac9f",
        "colab": {
          "base_uri": "https://localhost:8080/",
          "height": 34
        }
      },
      "source": [
        "x.size() == (3,5)"
      ],
      "execution_count": 8,
      "outputs": [
        {
          "output_type": "execute_result",
          "data": {
            "text/plain": [
              "True"
            ]
          },
          "metadata": {
            "tags": []
          },
          "execution_count": 8
        }
      ]
    },
    {
      "cell_type": "markdown",
      "metadata": {
        "id": "GDufwT0Kstxv",
        "colab_type": "text"
      },
      "source": [
        "Importance of the brackets when defining a tensor"
      ]
    },
    {
      "cell_type": "code",
      "metadata": {
        "id": "wa9IPaaqsaPg",
        "colab_type": "code",
        "outputId": "c69efb7e-753e-493c-eb0e-72d073cb1493",
        "colab": {
          "base_uri": "https://localhost:8080/",
          "height": 119
        }
      },
      "source": [
        "a = torch.tensor([2.0])\n",
        "print(type(a))\n",
        "print(a.dtype)\n",
        "print(a.size())\n",
        "\n",
        "b = torch.tensor(2.0)\n",
        "print(type(b))\n",
        "print(b.dtype)\n",
        "print(b.size())"
      ],
      "execution_count": 9,
      "outputs": [
        {
          "output_type": "stream",
          "text": [
            "<class 'torch.Tensor'>\n",
            "torch.float32\n",
            "torch.Size([1])\n",
            "<class 'torch.Tensor'>\n",
            "torch.float32\n",
            "torch.Size([])\n"
          ],
          "name": "stdout"
        }
      ]
    },
    {
      "cell_type": "markdown",
      "metadata": {
        "id": "XeAg1TcMhyf4",
        "colab_type": "text"
      },
      "source": [
        "Select some columns"
      ]
    },
    {
      "cell_type": "code",
      "metadata": {
        "id": "DZaC-fXlgY6G",
        "colab_type": "code",
        "outputId": "337e1abf-556e-4efb-8a4a-4859192b65e9",
        "colab": {
          "base_uri": "https://localhost:8080/",
          "height": 102
        }
      },
      "source": [
        "cols = torch.zeros(5, dtype=torch.bool)\n",
        "print(cols)\n",
        "cols[1] = True\n",
        "cols[4] = True\n",
        "print(cols)\n",
        "c = x[:, cols]  # selects all rows, 4th column and  5th column from a\n",
        "print(c)"
      ],
      "execution_count": 10,
      "outputs": [
        {
          "output_type": "stream",
          "text": [
            "tensor([False, False, False, False, False])\n",
            "tensor([False,  True, False, False,  True])\n",
            "tensor([[-0.1070, -0.3901],\n",
            "        [ 0.9241, -0.6571],\n",
            "        [-0.9682,  0.1078]])\n"
          ],
          "name": "stdout"
        }
      ]
    },
    {
      "cell_type": "markdown",
      "metadata": {
        "id": "t9v3syrRf-13",
        "colab_type": "text"
      },
      "source": [
        "All operations on the tensor that operate in-place on it will have an _ postfix. "
      ]
    },
    {
      "cell_type": "code",
      "metadata": {
        "id": "zr3PP5oVf1SV",
        "colab_type": "code",
        "outputId": "41eb3d42-3ad2-4e72-92bb-6b70f71d168c",
        "colab": {
          "base_uri": "https://localhost:8080/",
          "height": 68
        }
      },
      "source": [
        "# x will be filled with the value 3.5\n",
        "x.fill_(3.5)\n",
        "print(x)"
      ],
      "execution_count": 11,
      "outputs": [
        {
          "output_type": "stream",
          "text": [
            "tensor([[3.5000, 3.5000, 3.5000, 3.5000, 3.5000],\n",
            "        [3.5000, 3.5000, 3.5000, 3.5000, 3.5000],\n",
            "        [3.5000, 3.5000, 3.5000, 3.5000, 3.5000]])\n"
          ],
          "name": "stdout"
        }
      ]
    },
    {
      "cell_type": "markdown",
      "metadata": {
        "id": "SXPtlUXsgC96",
        "colab_type": "text"
      },
      "source": [
        "## Bridge to numpy"
      ]
    },
    {
      "cell_type": "code",
      "metadata": {
        "id": "61srdUzCgC97",
        "colab_type": "code",
        "outputId": "64cad911-e8a9-40d1-d961-5283927ab899",
        "colab": {
          "base_uri": "https://localhost:8080/",
          "height": 68
        }
      },
      "source": [
        "y = x.numpy()\n",
        "print(y)"
      ],
      "execution_count": 12,
      "outputs": [
        {
          "output_type": "stream",
          "text": [
            "[[3.5 3.5 3.5 3.5 3.5]\n",
            " [3.5 3.5 3.5 3.5 3.5]\n",
            " [3.5 3.5 3.5 3.5 3.5]]\n"
          ],
          "name": "stdout"
        }
      ]
    },
    {
      "cell_type": "code",
      "metadata": {
        "id": "tFv5BzYsgC99",
        "colab_type": "code",
        "outputId": "d47a27f1-703a-4d92-874e-7363d4e5b381",
        "colab": {
          "base_uri": "https://localhost:8080/",
          "height": 34
        }
      },
      "source": [
        "a = np.ones(5)\n",
        "b = torch.from_numpy(a)\n",
        "print(b)\n",
        " "
      ],
      "execution_count": 13,
      "outputs": [
        {
          "output_type": "stream",
          "text": [
            "tensor([1., 1., 1., 1., 1.], dtype=torch.float64)\n"
          ],
          "name": "stdout"
        }
      ]
    },
    {
      "cell_type": "code",
      "metadata": {
        "id": "lfpk2tfpgC9-",
        "colab_type": "code",
        "outputId": "87267c08-465e-410d-dc0a-94016b3ca9ec",
        "colab": {
          "base_uri": "https://localhost:8080/",
          "height": 85
        }
      },
      "source": [
        "xr = torch.randn(3, 5)\n",
        "a = np.ones(5).astype(int)\n",
        "b = torch.from_numpy(a)\n",
        "print(xr)\n",
        "print(b)"
      ],
      "execution_count": 14,
      "outputs": [
        {
          "output_type": "stream",
          "text": [
            "tensor([[ 0.4542,  0.1754, -0.0622, -0.6777, -0.3007],\n",
            "        [ 0.3431, -0.5162, -1.5766,  1.1187,  0.5464],\n",
            "        [-0.0619,  0.1343,  1.4393,  0.6656, -0.3027]])\n",
            "tensor([1, 1, 1, 1, 1])\n"
          ],
          "name": "stdout"
        }
      ]
    },
    {
      "cell_type": "markdown",
      "metadata": {
        "id": "C6sKTTlZ0RmP",
        "colab_type": "text"
      },
      "source": [
        "### Question: print the type of the content (data) of variables a, b and xr"
      ]
    },
    {
      "cell_type": "code",
      "metadata": {
        "id": "k07dBWLRxARt",
        "colab_type": "code",
        "colab": {}
      },
      "source": [
        "# COMPLETE THE CELL\n",
        "# ..."
      ],
      "execution_count": 0,
      "outputs": []
    },
    {
      "cell_type": "markdown",
      "metadata": {
        "id": "7fwWdAYjUuiN",
        "colab_type": "text"
      },
      "source": [
        "## Operations\n",
        "\n",
        "There are multiple syntaxes for operations. In the following\n",
        "example, we will take a look at the addition operation.\n",
        "\n",
        "Addition: syntax 1"
      ]
    },
    {
      "cell_type": "code",
      "metadata": {
        "id": "4iASmmTAUxG0",
        "colab_type": "code",
        "outputId": "099d843f-0d52-4866-f2c1-43bc0ebbb67c",
        "colab": {
          "base_uri": "https://localhost:8080/",
          "height": 102
        }
      },
      "source": [
        "x = torch.rand(5, 3) \n",
        "y = torch.rand(5, 3)\n",
        "print(x + y)"
      ],
      "execution_count": 16,
      "outputs": [
        {
          "output_type": "stream",
          "text": [
            "tensor([[0.4940, 1.5534, 0.9714],\n",
            "        [1.5305, 1.5431, 0.9653],\n",
            "        [0.9274, 1.0833, 1.0865],\n",
            "        [0.4058, 0.4745, 1.0851],\n",
            "        [1.1196, 1.8290, 1.0088]])\n"
          ],
          "name": "stdout"
        }
      ]
    },
    {
      "cell_type": "markdown",
      "metadata": {
        "id": "H5NxjdPhVQP8",
        "colab_type": "text"
      },
      "source": [
        "Addition: syntax 2"
      ]
    },
    {
      "cell_type": "code",
      "metadata": {
        "id": "GwCo8DOcVRHq",
        "colab_type": "code",
        "outputId": "b00d8591-cdf8-4e93-d228-8f0626148a7f",
        "colab": {
          "base_uri": "https://localhost:8080/",
          "height": 102
        }
      },
      "source": [
        "print(torch.add(x, y))"
      ],
      "execution_count": 17,
      "outputs": [
        {
          "output_type": "stream",
          "text": [
            "tensor([[0.4940, 1.5534, 0.9714],\n",
            "        [1.5305, 1.5431, 0.9653],\n",
            "        [0.9274, 1.0833, 1.0865],\n",
            "        [0.4058, 0.4745, 1.0851],\n",
            "        [1.1196, 1.8290, 1.0088]])\n"
          ],
          "name": "stdout"
        }
      ]
    },
    {
      "cell_type": "markdown",
      "metadata": {
        "id": "wNuL3H61VZvS",
        "colab_type": "text"
      },
      "source": [
        "Addition: providing an output tensor as argument"
      ]
    },
    {
      "cell_type": "code",
      "metadata": {
        "id": "hX1ffSunVail",
        "colab_type": "code",
        "outputId": "c171e470-4784-49fe-e606-03f7a8d43480",
        "colab": {
          "base_uri": "https://localhost:8080/",
          "height": 102
        }
      },
      "source": [
        "result = torch.empty(5, 3)\n",
        "torch.add(x, y, out=result)\n",
        "print(result)"
      ],
      "execution_count": 18,
      "outputs": [
        {
          "output_type": "stream",
          "text": [
            "tensor([[0.4940, 1.5534, 0.9714],\n",
            "        [1.5305, 1.5431, 0.9653],\n",
            "        [0.9274, 1.0833, 1.0865],\n",
            "        [0.4058, 0.4745, 1.0851],\n",
            "        [1.1196, 1.8290, 1.0088]])\n"
          ],
          "name": "stdout"
        }
      ]
    },
    {
      "cell_type": "markdown",
      "metadata": {
        "id": "-VK0_f0rVejB",
        "colab_type": "text"
      },
      "source": [
        "Addition: in-place"
      ]
    },
    {
      "cell_type": "code",
      "metadata": {
        "id": "rj0GKMgSVlGV",
        "colab_type": "code",
        "outputId": "ef080388-38aa-44a5-d81f-382977f7b1de",
        "colab": {
          "base_uri": "https://localhost:8080/",
          "height": 102
        }
      },
      "source": [
        "# adds x to y\n",
        "y.add_(x)\n",
        "print(y)"
      ],
      "execution_count": 19,
      "outputs": [
        {
          "output_type": "stream",
          "text": [
            "tensor([[0.4940, 1.5534, 0.9714],\n",
            "        [1.5305, 1.5431, 0.9653],\n",
            "        [0.9274, 1.0833, 1.0865],\n",
            "        [0.4058, 0.4745, 1.0851],\n",
            "        [1.1196, 1.8290, 1.0088]])\n"
          ],
          "name": "stdout"
        }
      ]
    },
    {
      "cell_type": "markdown",
      "metadata": {
        "id": "EgNBadgeVscS",
        "colab_type": "text"
      },
      "source": [
        "**Note:** Any operation that mutates a tensor in-place is post-fixed with an ``_``.\n",
        "    For example: ``x.copy_(y)``, ``x.t_()``, will change ``x``.\n",
        "\n"
      ]
    },
    {
      "cell_type": "markdown",
      "metadata": {
        "id": "kOPtMoOkgC-G",
        "colab_type": "text"
      },
      "source": [
        "Any operation that mutates a tensor in-place is post-fixed with an ```_```\n",
        "\n",
        "For example: ```x.copy_(y)```, ```x.t_()```, will change ```x```."
      ]
    },
    {
      "cell_type": "code",
      "metadata": {
        "id": "hrOV0mQIgC-G",
        "colab_type": "code",
        "outputId": "9256122f-b9e5-4402-bbbc-6b6746d6206a",
        "colab": {
          "base_uri": "https://localhost:8080/",
          "height": 68
        }
      },
      "source": [
        "print(x.t())"
      ],
      "execution_count": 20,
      "outputs": [
        {
          "output_type": "stream",
          "text": [
            "tensor([[0.2338, 0.6979, 0.3759, 0.3582, 0.5833],\n",
            "        [0.7699, 0.9401, 0.6465, 0.3723, 0.8417],\n",
            "        [0.5318, 0.2236, 0.5788, 0.3893, 0.5269]])\n"
          ],
          "name": "stdout"
        }
      ]
    },
    {
      "cell_type": "code",
      "metadata": {
        "id": "LfNnD4vSgC-H",
        "colab_type": "code",
        "outputId": "0ea0c138-7e39-4c2e-be67-23a7b3f9c921",
        "colab": {
          "base_uri": "https://localhost:8080/",
          "height": 102
        }
      },
      "source": [
        "print(x)"
      ],
      "execution_count": 21,
      "outputs": [
        {
          "output_type": "stream",
          "text": [
            "tensor([[0.2338, 0.7699, 0.5318],\n",
            "        [0.6979, 0.9401, 0.2236],\n",
            "        [0.3759, 0.6465, 0.5788],\n",
            "        [0.3582, 0.3723, 0.3893],\n",
            "        [0.5833, 0.8417, 0.5269]])\n"
          ],
          "name": "stdout"
        }
      ]
    },
    {
      "cell_type": "code",
      "metadata": {
        "id": "5YdHeI8lgC-I",
        "colab_type": "code",
        "outputId": "09b91007-06d6-469b-b8eb-6db8e2dd7e43",
        "colab": {
          "base_uri": "https://localhost:8080/",
          "height": 68
        }
      },
      "source": [
        "x.t_()\n",
        "print(x)"
      ],
      "execution_count": 22,
      "outputs": [
        {
          "output_type": "stream",
          "text": [
            "tensor([[0.2338, 0.6979, 0.3759, 0.3582, 0.5833],\n",
            "        [0.7699, 0.9401, 0.6465, 0.3723, 0.8417],\n",
            "        [0.5318, 0.2236, 0.5788, 0.3893, 0.5269]])\n"
          ],
          "name": "stdout"
        }
      ]
    },
    {
      "cell_type": "markdown",
      "metadata": {
        "id": "UfxHIL-mWyZl",
        "colab_type": "text"
      },
      "source": [
        "You can use standard NumPy-like indexing with all bells and whistles!"
      ]
    },
    {
      "cell_type": "code",
      "metadata": {
        "id": "Cz4M97B2Wtyu",
        "colab_type": "code",
        "outputId": "e30b0efb-0717-40be-c269-b6619fd87afd",
        "colab": {
          "base_uri": "https://localhost:8080/",
          "height": 34
        }
      },
      "source": [
        "print(x[:, 1])"
      ],
      "execution_count": 23,
      "outputs": [
        {
          "output_type": "stream",
          "text": [
            "tensor([0.6979, 0.9401, 0.2236])\n"
          ],
          "name": "stdout"
        }
      ]
    },
    {
      "cell_type": "markdown",
      "metadata": {
        "id": "M6tsVH8zW8yB",
        "colab_type": "text"
      },
      "source": [
        "Resizing (very useful): If you want to resize/reshape tensor, you can use ``torch.view``:"
      ]
    },
    {
      "cell_type": "code",
      "metadata": {
        "id": "k0qjaFPDW_3I",
        "colab_type": "code",
        "outputId": "ca016d3b-3446-4cbb-f9f6-e720ab2671d0",
        "colab": {
          "base_uri": "https://localhost:8080/",
          "height": 34
        }
      },
      "source": [
        "x = torch.randn(4, 4)\n",
        "y = x.view(16)\n",
        "z = x.view(-1, 8)  # the size -1 is inferred from other dimensions\n",
        "print(x.size(), y.size(), z.size())"
      ],
      "execution_count": 24,
      "outputs": [
        {
          "output_type": "stream",
          "text": [
            "torch.Size([4, 4]) torch.Size([16]) torch.Size([2, 8])\n"
          ],
          "name": "stdout"
        }
      ]
    },
    {
      "cell_type": "markdown",
      "metadata": {
        "id": "fP8sTTCgXRak",
        "colab_type": "text"
      },
      "source": [
        "If you have a one element tensor, use ``.item()`` to get the value as a\n",
        "Python number"
      ]
    },
    {
      "cell_type": "code",
      "metadata": {
        "id": "zaG9x6SHXSPw",
        "colab_type": "code",
        "outputId": "0d177b1c-944e-4aef-c79f-7271982b266f",
        "colab": {
          "base_uri": "https://localhost:8080/",
          "height": 51
        }
      },
      "source": [
        "x = torch.randn(1)\n",
        "print(x)\n",
        "print(x.item())"
      ],
      "execution_count": 25,
      "outputs": [
        {
          "output_type": "stream",
          "text": [
            "tensor([0.2693])\n",
            "0.26926329731941223\n"
          ],
          "name": "stdout"
        }
      ]
    },
    {
      "cell_type": "markdown",
      "metadata": {
        "id": "mqCvPrp-XmZQ",
        "colab_type": "text"
      },
      "source": [
        "**Read later:**\n",
        "\n",
        "\n",
        "  100+ Tensor operations, including transposing, indexing, slicing,\n",
        "  mathematical operations, linear algebra, random numbers, etc.,\n",
        "  are described\n",
        "  [here](https://pytorch.org/docs/torch)."
      ]
    },
    {
      "cell_type": "markdown",
      "metadata": {
        "id": "8Jk-JGYpeCNz",
        "colab_type": "text"
      },
      "source": [
        "## 3D Tensors"
      ]
    },
    {
      "cell_type": "markdown",
      "metadata": {
        "id": "RTGbU2E-eLWF",
        "colab_type": "text"
      },
      "source": [
        "### Question: What is the size of the following tensor?"
      ]
    },
    {
      "cell_type": "code",
      "metadata": {
        "id": "d-Dg4nyOeD4f",
        "colab_type": "code",
        "outputId": "a894722a-a773-48c9-c27e-b5dec23bff3c",
        "colab": {
          "base_uri": "https://localhost:8080/",
          "height": 153
        }
      },
      "source": [
        "y = torch.tensor([\n",
        "     [\n",
        "       [1, 2, 3],\n",
        "       [4, 5, 6]\n",
        "     ],\n",
        "     [\n",
        "       [1, 2, 3],\n",
        "       [4, 5, 6]\n",
        "     ],\n",
        "     [\n",
        "       [1, 2, 3],\n",
        "       [4, 5, 6]\n",
        "     ]\n",
        "   ])\n",
        "print(y)"
      ],
      "execution_count": 26,
      "outputs": [
        {
          "output_type": "stream",
          "text": [
            "tensor([[[1, 2, 3],\n",
            "         [4, 5, 6]],\n",
            "\n",
            "        [[1, 2, 3],\n",
            "         [4, 5, 6]],\n",
            "\n",
            "        [[1, 2, 3],\n",
            "         [4, 5, 6]]])\n"
          ],
          "name": "stdout"
        }
      ]
    },
    {
      "cell_type": "code",
      "metadata": {
        "id": "2gBU82BTe0_y",
        "colab_type": "code",
        "colab": {}
      },
      "source": [
        "# COMPLETE THE CELL\n",
        "# ..."
      ],
      "execution_count": 0,
      "outputs": []
    },
    {
      "cell_type": "markdown",
      "metadata": {
        "id": "dOUGbVEUe9DC",
        "colab_type": "text"
      },
      "source": [
        "### Question: Explain the result of the next cell"
      ]
    },
    {
      "cell_type": "code",
      "metadata": {
        "id": "14O04VMTe9eg",
        "colab_type": "code",
        "outputId": "e5a1cc70-9b58-4090-d61c-f2578663dea9",
        "colab": {
          "base_uri": "https://localhost:8080/",
          "height": 51
        }
      },
      "source": [
        "torch.sum(y, dim=0)"
      ],
      "execution_count": 28,
      "outputs": [
        {
          "output_type": "execute_result",
          "data": {
            "text/plain": [
              "tensor([[ 3,  6,  9],\n",
              "        [12, 15, 18]])"
            ]
          },
          "metadata": {
            "tags": []
          },
          "execution_count": 28
        }
      ]
    },
    {
      "cell_type": "markdown",
      "metadata": {
        "id": "Ev68h5j1ZUNH",
        "colab_type": "text"
      },
      "source": [
        "## Broadcasting semantics\n",
        "\n",
        "In short, if a PyTorch operation supports broadcast, then its Tensor arguments can be automatically expanded to be of equal sizes (without making copies of the data).\n",
        "\n",
        "Two tensors are “broadcastable” if the following rules hold:\n",
        "\n",
        "*   Each tensor has at least one dimension.\n",
        "*   When iterating over the dimension sizes, **starting at the trailing dimension**, the dimension sizes must either be equal, one of them is 1, or one of them does not exist.\n",
        "\n",
        "If two tensors x, y are “broadcastable”, the resulting tensor size is calculated as follows:\n",
        "* If the number of dimensions of x and y are not equal, prepend 1 to the dimensions of the tensor with fewer dimensions to make them equal length.\n",
        "* Then, for each dimension size, the resulting dimension size is the max of the sizes of x and y along that dimension.\n",
        "\n",
        "More details [here](https://pytorch.org/docs/stable/notes/broadcasting.html)\n",
        "\n"
      ]
    },
    {
      "cell_type": "code",
      "metadata": {
        "id": "P3f9hXLxZXQa",
        "colab_type": "code",
        "outputId": "52662897-846d-46ed-8121-ee6c87c1b7bb",
        "colab": {
          "base_uri": "https://localhost:8080/",
          "height": 34
        }
      },
      "source": [
        "# can line up trailing dimensions to make reading easier\n",
        "x=torch.empty(5,1,4,1)\n",
        "y=torch.empty(  3,1,1)\n",
        "print((x+y).size())\n",
        "\n"
      ],
      "execution_count": 29,
      "outputs": [
        {
          "output_type": "stream",
          "text": [
            "torch.Size([5, 3, 4, 1])\n"
          ],
          "name": "stdout"
        }
      ]
    },
    {
      "cell_type": "code",
      "metadata": {
        "id": "LsYo7aBqaJ5F",
        "colab_type": "code",
        "outputId": "53605d08-cec4-4de5-89fb-9438088fedd7",
        "colab": {
          "base_uri": "https://localhost:8080/",
          "height": 34
        }
      },
      "source": [
        "# but not necessary:\n",
        "x=torch.empty(1)\n",
        "y=torch.empty(3,1,7)\n",
        "print((x+y).size())\n",
        "\n"
      ],
      "execution_count": 30,
      "outputs": [
        {
          "output_type": "stream",
          "text": [
            "torch.Size([3, 1, 7])\n"
          ],
          "name": "stdout"
        }
      ]
    },
    {
      "cell_type": "markdown",
      "metadata": {
        "id": "0n_Y_hY6fxeL",
        "colab_type": "text"
      },
      "source": [
        "### Question: The following command does not work. Why?\n",
        "\n"
      ]
    },
    {
      "cell_type": "code",
      "metadata": {
        "id": "Vq3SqanjaO6U",
        "colab_type": "code",
        "outputId": "a76165ea-3164-4678-a352-422a911c3a15",
        "colab": {
          "base_uri": "https://localhost:8080/",
          "height": 198
        }
      },
      "source": [
        "x=torch.empty(5,2,4,1)\n",
        "y=torch.empty(  3,1,1)\n",
        "print((x+y).size())\n"
      ],
      "execution_count": 31,
      "outputs": [
        {
          "output_type": "error",
          "ename": "RuntimeError",
          "evalue": "ignored",
          "traceback": [
            "\u001b[0;31m---------------------------------------------------------------------------\u001b[0m",
            "\u001b[0;31mRuntimeError\u001b[0m                              Traceback (most recent call last)",
            "\u001b[0;32m<ipython-input-31-b8d3fcc0b74d>\u001b[0m in \u001b[0;36m<module>\u001b[0;34m()\u001b[0m\n\u001b[1;32m      1\u001b[0m \u001b[0mx\u001b[0m\u001b[0;34m=\u001b[0m\u001b[0mtorch\u001b[0m\u001b[0;34m.\u001b[0m\u001b[0mempty\u001b[0m\u001b[0;34m(\u001b[0m\u001b[0;36m5\u001b[0m\u001b[0;34m,\u001b[0m\u001b[0;36m2\u001b[0m\u001b[0;34m,\u001b[0m\u001b[0;36m4\u001b[0m\u001b[0;34m,\u001b[0m\u001b[0;36m1\u001b[0m\u001b[0;34m)\u001b[0m\u001b[0;34m\u001b[0m\u001b[0;34m\u001b[0m\u001b[0m\n\u001b[1;32m      2\u001b[0m \u001b[0my\u001b[0m\u001b[0;34m=\u001b[0m\u001b[0mtorch\u001b[0m\u001b[0;34m.\u001b[0m\u001b[0mempty\u001b[0m\u001b[0;34m(\u001b[0m  \u001b[0;36m3\u001b[0m\u001b[0;34m,\u001b[0m\u001b[0;36m1\u001b[0m\u001b[0;34m,\u001b[0m\u001b[0;36m1\u001b[0m\u001b[0;34m)\u001b[0m\u001b[0;34m\u001b[0m\u001b[0;34m\u001b[0m\u001b[0m\n\u001b[0;32m----> 3\u001b[0;31m \u001b[0mprint\u001b[0m\u001b[0;34m(\u001b[0m\u001b[0;34m(\u001b[0m\u001b[0mx\u001b[0m\u001b[0;34m+\u001b[0m\u001b[0my\u001b[0m\u001b[0;34m)\u001b[0m\u001b[0;34m.\u001b[0m\u001b[0msize\u001b[0m\u001b[0;34m(\u001b[0m\u001b[0;34m)\u001b[0m\u001b[0;34m)\u001b[0m\u001b[0;34m\u001b[0m\u001b[0;34m\u001b[0m\u001b[0m\n\u001b[0m",
            "\u001b[0;31mRuntimeError\u001b[0m: The size of tensor a (2) must match the size of tensor b (3) at non-singleton dimension 1"
          ]
        }
      ]
    },
    {
      "cell_type": "code",
      "metadata": {
        "id": "ha4-WRJ0g4l9",
        "colab_type": "code",
        "outputId": "da46b1b6-e630-4239-9bb8-c0209fbb0a44",
        "colab": {
          "base_uri": "https://localhost:8080/",
          "height": 153
        }
      },
      "source": [
        "x=2*torch.ones(  2,4)\n",
        "y=torch.ones(3,2,4)\n",
        "print(x+y)"
      ],
      "execution_count": 32,
      "outputs": [
        {
          "output_type": "stream",
          "text": [
            "tensor([[[3., 3., 3., 3.],\n",
            "         [3., 3., 3., 3.]],\n",
            "\n",
            "        [[3., 3., 3., 3.],\n",
            "         [3., 3., 3., 3.]],\n",
            "\n",
            "        [[3., 3., 3., 3.],\n",
            "         [3., 3., 3., 3.]]])\n"
          ],
          "name": "stdout"
        }
      ]
    },
    {
      "cell_type": "markdown",
      "metadata": {
        "id": "Afol8pk8VPUn",
        "colab_type": "text"
      },
      "source": [
        "### Question: What is the diffence between \"x = xr\" and \"x = xr.clone()\"? "
      ]
    },
    {
      "cell_type": "code",
      "metadata": {
        "id": "ROIvJcOngC-E",
        "colab_type": "code",
        "outputId": "26a718c9-7d1c-4af2-8efd-e8ff362f186d",
        "colab": {
          "base_uri": "https://localhost:8080/",
          "height": 119
        }
      },
      "source": [
        "x = xr.clone()\n",
        "x.add_(-xr)\n",
        "print(x)\n",
        "print(xr)"
      ],
      "execution_count": 33,
      "outputs": [
        {
          "output_type": "stream",
          "text": [
            "tensor([[0., 0., 0., 0., 0.],\n",
            "        [0., 0., 0., 0., 0.],\n",
            "        [0., 0., 0., 0., 0.]])\n",
            "tensor([[ 0.4542,  0.1754, -0.0622, -0.6777, -0.3007],\n",
            "        [ 0.3431, -0.5162, -1.5766,  1.1187,  0.5464],\n",
            "        [-0.0619,  0.1343,  1.4393,  0.6656, -0.3027]])\n"
          ],
          "name": "stdout"
        }
      ]
    },
    {
      "cell_type": "markdown",
      "metadata": {
        "id": "UWxZLzMrgC-J",
        "colab_type": "text"
      },
      "source": [
        "Also be careful, changing the torch tensor modify the numpy array and vice-versa..."
      ]
    },
    {
      "cell_type": "code",
      "metadata": {
        "id": "lkcW43iugC-J",
        "colab_type": "code",
        "outputId": "a0c0566f-10bb-40d1-9fcc-c193bc445275",
        "colab": {
          "base_uri": "https://localhost:8080/",
          "height": 85
        }
      },
      "source": [
        "y=torch.ones(2,4)\n",
        "print(y)\n",
        "z = y.numpy()\n",
        "print(z)"
      ],
      "execution_count": 34,
      "outputs": [
        {
          "output_type": "stream",
          "text": [
            "tensor([[1., 1., 1., 1.],\n",
            "        [1., 1., 1., 1.]])\n",
            "[[1. 1. 1. 1.]\n",
            " [1. 1. 1. 1.]]\n"
          ],
          "name": "stdout"
        }
      ]
    },
    {
      "cell_type": "code",
      "metadata": {
        "id": "qvRrtvz1gC-K",
        "colab_type": "code",
        "outputId": "f9745ee0-d22d-4421-a396-aad411e473c5",
        "colab": {
          "base_uri": "https://localhost:8080/",
          "height": 170
        }
      },
      "source": [
        "np.add(z, 1, out=z)\n",
        "print(\"z=\", z)\n",
        "print(\"y=\", y,\"\\n\")\n",
        "torch.add(y, -4, out=y)\n",
        "print(\"z=\",z)\n",
        "print(\"y=\",y)"
      ],
      "execution_count": 35,
      "outputs": [
        {
          "output_type": "stream",
          "text": [
            "z= [[2. 2. 2. 2.]\n",
            " [2. 2. 2. 2.]]\n",
            "y= tensor([[2., 2., 2., 2.],\n",
            "        [2., 2., 2., 2.]]) \n",
            "\n",
            "z= [[-2. -2. -2. -2.]\n",
            " [-2. -2. -2. -2.]]\n",
            "y= tensor([[-2., -2., -2., -2.],\n",
            "        [-2., -2., -2., -2.]])\n"
          ],
          "name": "stdout"
        }
      ]
    },
    {
      "cell_type": "markdown",
      "metadata": {
        "id": "AmGizC3pMbm8",
        "colab_type": "text"
      },
      "source": [
        "## Computational graphs"
      ]
    },
    {
      "cell_type": "code",
      "metadata": {
        "colab_type": "code",
        "id": "O5Kw7MQpMxWB",
        "colab": {}
      },
      "source": [
        "import matplotlib.pyplot as plt\n",
        "%matplotlib inline\n",
        "import torch"
      ],
      "execution_count": 0,
      "outputs": []
    },
    {
      "cell_type": "code",
      "metadata": {
        "id": "2Gza10WeM10G",
        "colab_type": "code",
        "outputId": "c9dff881-0753-4e5c-8d84-3fd15520b855",
        "colab": {
          "base_uri": "https://localhost:8080/",
          "height": 102
        }
      },
      "source": [
        "!pip install torchviz"
      ],
      "execution_count": 37,
      "outputs": [
        {
          "output_type": "stream",
          "text": [
            "Requirement already satisfied: torchviz in /usr/local/lib/python3.6/dist-packages (0.0.1)\n",
            "Requirement already satisfied: graphviz in /usr/local/lib/python3.6/dist-packages (from torchviz) (0.10.1)\n",
            "Requirement already satisfied: torch in /usr/local/lib/python3.6/dist-packages (from torchviz) (1.5.0+cu101)\n",
            "Requirement already satisfied: future in /usr/local/lib/python3.6/dist-packages (from torch->torchviz) (0.16.0)\n",
            "Requirement already satisfied: numpy in /usr/local/lib/python3.6/dist-packages (from torch->torchviz) (1.18.4)\n"
          ],
          "name": "stdout"
        }
      ]
    },
    {
      "cell_type": "code",
      "metadata": {
        "id": "1nEbmC7TM1mw",
        "colab_type": "code",
        "colab": {}
      },
      "source": [
        "import torchviz"
      ],
      "execution_count": 0,
      "outputs": []
    },
    {
      "cell_type": "code",
      "metadata": {
        "id": "5Z2dMtEOMuWb",
        "colab_type": "code",
        "outputId": "384f5c4f-b484-4bec-fe32-98208504000c",
        "colab": {
          "base_uri": "https://localhost:8080/",
          "height": 315
        }
      },
      "source": [
        "x = torch.ones(2, 2, requires_grad=True)\n",
        "w = torch.rand(1, 1, requires_grad=True)\n",
        "print(x)\n",
        "print(w)\n",
        "y = w * x + 2\n",
        "print(y)\n",
        "torchviz.make_dot(y)"
      ],
      "execution_count": 39,
      "outputs": [
        {
          "output_type": "stream",
          "text": [
            "tensor([[1., 1.],\n",
            "        [1., 1.]], requires_grad=True)\n",
            "tensor([[0.1140]], requires_grad=True)\n",
            "tensor([[2.1140, 2.1140],\n",
            "        [2.1140, 2.1140]], grad_fn=<AddBackward0>)\n"
          ],
          "name": "stdout"
        },
        {
          "output_type": "execute_result",
          "data": {
            "text/plain": [
              "<graphviz.dot.Digraph at 0x7fdb30641e80>"
            ],
            "image/svg+xml": "<?xml version=\"1.0\" encoding=\"UTF-8\" standalone=\"no\"?>\n<!DOCTYPE svg PUBLIC \"-//W3C//DTD SVG 1.1//EN\"\n \"http://www.w3.org/Graphics/SVG/1.1/DTD/svg11.dtd\">\n<!-- Generated by graphviz version 2.40.1 (20161225.0304)\n -->\n<!-- Title: %3 Pages: 1 -->\n<svg width=\"134pt\" height=\"157pt\"\n viewBox=\"0.00 0.00 134.00 157.00\" xmlns=\"http://www.w3.org/2000/svg\" xmlns:xlink=\"http://www.w3.org/1999/xlink\">\n<g id=\"graph0\" class=\"graph\" transform=\"scale(1 1) rotate(0) translate(4 153)\">\n<title>%3</title>\n<polygon fill=\"#ffffff\" stroke=\"transparent\" points=\"-4,4 -4,-153 130,-153 130,4 -4,4\"/>\n<!-- 140579381626640 -->\n<g id=\"node1\" class=\"node\">\n<title>140579381626640</title>\n<polygon fill=\"#caff70\" stroke=\"#000000\" points=\"109,-21 17,-21 17,0 109,0 109,-21\"/>\n<text text-anchor=\"middle\" x=\"63\" y=\"-7.4\" font-family=\"Times,serif\" font-size=\"12.00\" fill=\"#000000\">AddBackward0</text>\n</g>\n<!-- 140579381626584 -->\n<g id=\"node2\" class=\"node\">\n<title>140579381626584</title>\n<polygon fill=\"#d3d3d3\" stroke=\"#000000\" points=\"108.5,-78 17.5,-78 17.5,-57 108.5,-57 108.5,-78\"/>\n<text text-anchor=\"middle\" x=\"63\" y=\"-64.4\" font-family=\"Times,serif\" font-size=\"12.00\" fill=\"#000000\">MulBackward0</text>\n</g>\n<!-- 140579381626584&#45;&gt;140579381626640 -->\n<g id=\"edge1\" class=\"edge\">\n<title>140579381626584&#45;&gt;140579381626640</title>\n<path fill=\"none\" stroke=\"#000000\" d=\"M63,-56.7787C63,-49.6134 63,-39.9517 63,-31.3097\"/>\n<polygon fill=\"#000000\" stroke=\"#000000\" points=\"66.5001,-31.1732 63,-21.1732 59.5001,-31.1732 66.5001,-31.1732\"/>\n</g>\n<!-- 140579381626752 -->\n<g id=\"node3\" class=\"node\">\n<title>140579381626752</title>\n<polygon fill=\"#add8e6\" stroke=\"#000000\" points=\"54,-149 0,-149 0,-114 54,-114 54,-149\"/>\n<text text-anchor=\"middle\" x=\"27\" y=\"-121.4\" font-family=\"Times,serif\" font-size=\"12.00\" fill=\"#000000\"> (1, 1)</text>\n</g>\n<!-- 140579381626752&#45;&gt;140579381626584 -->\n<g id=\"edge2\" class=\"edge\">\n<title>140579381626752&#45;&gt;140579381626584</title>\n<path fill=\"none\" stroke=\"#000000\" d=\"M37.028,-113.6724C41.6838,-105.3956 47.2312,-95.5334 52.0015,-87.053\"/>\n<polygon fill=\"#000000\" stroke=\"#000000\" points=\"55.1159,-88.6551 56.9681,-78.2234 49.0149,-85.2233 55.1159,-88.6551\"/>\n</g>\n<!-- 140579381626696 -->\n<g id=\"node4\" class=\"node\">\n<title>140579381626696</title>\n<polygon fill=\"#add8e6\" stroke=\"#000000\" points=\"126,-149 72,-149 72,-114 126,-114 126,-149\"/>\n<text text-anchor=\"middle\" x=\"99\" y=\"-121.4\" font-family=\"Times,serif\" font-size=\"12.00\" fill=\"#000000\"> (2, 2)</text>\n</g>\n<!-- 140579381626696&#45;&gt;140579381626584 -->\n<g id=\"edge3\" class=\"edge\">\n<title>140579381626696&#45;&gt;140579381626584</title>\n<path fill=\"none\" stroke=\"#000000\" d=\"M88.972,-113.6724C84.3162,-105.3956 78.7688,-95.5334 73.9985,-87.053\"/>\n<polygon fill=\"#000000\" stroke=\"#000000\" points=\"76.9851,-85.2233 69.0319,-78.2234 70.8841,-88.6551 76.9851,-85.2233\"/>\n</g>\n</g>\n</svg>\n"
          },
          "metadata": {
            "tags": []
          },
          "execution_count": 39
        }
      ]
    },
    {
      "cell_type": "markdown",
      "metadata": {
        "id": "uSvS2bdKidcc",
        "colab_type": "text"
      },
      "source": [
        "\n",
        "## Playing with pytorch: linear regression"
      ]
    },
    {
      "cell_type": "markdown",
      "metadata": {
        "id": "UzjNRT-OSCzL",
        "colab_type": "text"
      },
      "source": [
        "Code for plotting the surface"
      ]
    },
    {
      "cell_type": "code",
      "metadata": {
        "id": "KhuyxIm1Rd0W",
        "colab_type": "code",
        "colab": {}
      },
      "source": [
        "import matplotlib.pyplot as plt\n",
        "import numpy as np\n",
        "from mpl_toolkits.mplot3d import Axes3D\n",
        "\n",
        "def plot_figs(fig_num, elev, azim, x, y, weights, bias):\n",
        "    fig = plt.figure(fig_num, figsize=(4, 3))\n",
        "    plt.clf()\n",
        "    ax = Axes3D(fig, elev=elev, azim=azim)\n",
        "    ax.scatter(x[:, 0], x[:, 1], y)\n",
        "    ax.plot_surface(np.array([[0, 0], [1, 1]]),\n",
        "                    np.array([[0, 1], [0, 1]]),\n",
        "                    (np.dot(np.array([[0, 0, 1, 1],[0, 1, 0, 1]]).T, weights) + bias)\n",
        "                    .reshape((2, 2)),alpha=.5)\n",
        "    ax.set_xlabel('x_1')\n",
        "    ax.set_ylabel('x_2')\n",
        "    ax.set_zlabel('y')\n",
        "    \n",
        "def plot_views(x, y, w, b):\n",
        "    # Generate the different figures from different views\n",
        "    elev = 43.5\n",
        "    azim = -110\n",
        "    plot_figs(1, elev, azim, x, y, w, b[0])\n",
        "\n",
        "    plt.show()"
      ],
      "execution_count": 0,
      "outputs": []
    },
    {
      "cell_type": "markdown",
      "metadata": {
        "id": "Bkt2h0X6SFmR",
        "colab_type": "text"
      },
      "source": [
        "Code for generating the 2D points"
      ]
    },
    {
      "cell_type": "code",
      "metadata": {
        "id": "14tvkKCyMwYD",
        "colab_type": "code",
        "outputId": "24906389-898f-48f2-c3b1-b0bd3abd252c",
        "colab": {
          "base_uri": "https://localhost:8080/",
          "height": 85
        }
      },
      "source": [
        "#Data generation (2D points)\n",
        "w_source = torch.tensor([2., -3.], dtype=torch.float).view(-1,1)\n",
        "b_source = torch.tensor([1.], dtype=torch.float)\n",
        "x = torch.empty(30, 2).uniform_(0, 1) # input of the regression model\n",
        "y = torch.matmul(x,w_source)+b_source # output of the regression model\n",
        "\n",
        "print(w_source.shape)\n",
        "print(b_source.shape)\n",
        "print(x.shape)\n",
        "print(y.shape)"
      ],
      "execution_count": 41,
      "outputs": [
        {
          "output_type": "stream",
          "text": [
            "torch.Size([2, 1])\n",
            "torch.Size([1])\n",
            "torch.Size([30, 2])\n",
            "torch.Size([30, 1])\n"
          ],
          "name": "stdout"
        }
      ]
    },
    {
      "cell_type": "markdown",
      "metadata": {
        "id": "KW6YMS6tSMVr",
        "colab_type": "text"
      },
      "source": [
        "Plot the dataset"
      ]
    },
    {
      "cell_type": "code",
      "metadata": {
        "id": "rMRbqdZaRjCz",
        "colab_type": "code",
        "outputId": "408951ba-07b8-47b3-de85-a9ceaecb7c10",
        "colab": {
          "base_uri": "https://localhost:8080/",
          "height": 247
        }
      },
      "source": [
        "plot_views(x.numpy(), y.numpy(), w_source.numpy(), b_source.numpy())"
      ],
      "execution_count": 42,
      "outputs": [
        {
          "output_type": "display_data",
          "data": {
            "image/png": "[encoded data removed]",
            "text/plain": [
              "<Figure size 288x216 with 1 Axes>"
            ]
          },
          "metadata": {
            "tags": [],
            "needs_background": "light"
          }
        }
      ]
    },
    {
      "cell_type": "code",
      "metadata": {
        "id": "bsGaEFPRiduc",
        "colab_type": "code",
        "outputId": "6774618b-7e36-428a-cfcd-66012a8c7e3a",
        "colab": {
          "base_uri": "https://localhost:8080/",
          "height": 85
        }
      },
      "source": [
        "# randomly initialize learnable weights and bias\n",
        "w_t_init = torch.empty(2, 1).uniform_(-1, 1) \n",
        "b_t_init = torch.empty(1, 1).uniform_(-1, 1)\n",
        "\n",
        "print(\"Initial values of the parameters:\")\n",
        "print(w_t_init) \n",
        "print(b_t_init)\n",
        "\n"
      ],
      "execution_count": 43,
      "outputs": [
        {
          "output_type": "stream",
          "text": [
            "Initial values of the parameters:\n",
            "tensor([[-0.6527],\n",
            "        [-0.5070]])\n",
            "tensor([[-0.3934]])\n"
          ],
          "name": "stdout"
        }
      ]
    },
    {
      "cell_type": "markdown",
      "metadata": {
        "id": "y2GD_KIBUTgS",
        "colab_type": "text"
      },
      "source": [
        "### Question: calculate the gradient of the loss and code it."
      ]
    },
    {
      "cell_type": "markdown",
      "metadata": {
        "id": "CDEXKHBf2hQc",
        "colab_type": "text"
      },
      "source": [
        "Criterion to minimize:\n",
        "\n",
        "$$\n",
        "J(w_t,b_t)=\\sum_{i=1}^{30}{(\\hat{y}_i-y_i)}^2=\\sum_{i=1}^{30}{(x_iw_t+b_t-y_i)}^2={\\parallel x w_t+b_t 1_{30}-y\\parallel}^2\n",
        "$$\n",
        "\n",
        "Gradient:\n",
        "\n",
        "$$\n",
        "\\frac{\\partial J(w_t,b_t)}{\\partial w_t}=2x^Txw_t+2x^T 1_{30} b_t-2x^T y=2x^T(xw_t+1_{30} b_t-y)\n",
        "$$\n",
        "\n",
        "$$\n",
        "\\frac{\\partial J(w_t,b_t)}{\\partial b_t}=2\\sum_{i=1}^{30}{(x_iw_t+b_t-y_i)}\n",
        "$$"
      ]
    },
    {
      "cell_type": "code",
      "metadata": {
        "id": "xSwsgVkpPE2i",
        "colab_type": "code",
        "colab": {}
      },
      "source": [
        "# our model forward pass\n",
        "def forward_t(x):\n",
        "    return x.mm(w_t)+b_t\n",
        "\n",
        "# Loss function\n",
        "def loss_t(x, y):\n",
        "    y_pred = forward_t(x)\n",
        "    return (y_pred - y).pow(2).sum()\n",
        "\n",
        "# compute gradient\n",
        "def gradient_t(x, y):  # d_loss/d_w, d_loss/d_c\n",
        "    return 2*torch.mm(torch.t(x),x.mm(w_t)+b_t - y), 2*(x.mm(w_t)+b_t - y).sum()\n",
        "    \n",
        "\n"
      ],
      "execution_count": 0,
      "outputs": []
    },
    {
      "cell_type": "markdown",
      "metadata": {
        "id": "7x8wNpUISp88",
        "colab_type": "text"
      },
      "source": [
        "Main loop for computing the estimate (gradient descent)"
      ]
    },
    {
      "cell_type": "markdown",
      "metadata": {
        "colab_type": "text",
        "id": "pAAxsXCqUSuR"
      },
      "source": [
        "### Question: code the gradient descent algorithm within the main loop."
      ]
    },
    {
      "cell_type": "code",
      "metadata": {
        "id": "zmh-_IHaidxp",
        "colab_type": "code",
        "colab": {
          "base_uri": "https://localhost:8080/",
          "height": 187
        },
        "outputId": "8175e0b8-089a-4277-da3f-87eaa4d2b5ba"
      },
      "source": [
        "learning_rate = 1e-2\n",
        "\n",
        "w_t = w_t_init.clone()\n",
        "b_t = b_t_init.clone()\n",
        "\n",
        "for epoch in range(10):\n",
        "    l = loss_t(x,y)\n",
        "    grad_w, grad_b = gradient_t(x,y)\n",
        "    w_t = w_t - learning_rate*grad_w\n",
        "    b_t = b_t - learning_rate*grad_b\n",
        "    print(\"progress:\", \"epoch:\", epoch, \"loss\",l)"
      ],
      "execution_count": 45,
      "outputs": [
        {
          "output_type": "stream",
          "text": [
            "progress: epoch: 0 loss tensor(78.2804)\n",
            "progress: epoch: 1 loss tensor(34.2729)\n",
            "progress: epoch: 2 loss tensor(30.3590)\n",
            "progress: epoch: 3 loss tensor(27.2327)\n",
            "progress: epoch: 4 loss tensor(24.4322)\n",
            "progress: epoch: 5 loss tensor(21.9199)\n",
            "progress: epoch: 6 loss tensor(19.6659)\n",
            "progress: epoch: 7 loss tensor(17.6439)\n",
            "progress: epoch: 8 loss tensor(15.8298)\n",
            "progress: epoch: 9 loss tensor(14.2023)\n"
          ],
          "name": "stdout"
        }
      ]
    },
    {
      "cell_type": "code",
      "metadata": {
        "id": "87XspCGIid0t",
        "colab_type": "code",
        "colab": {
          "base_uri": "https://localhost:8080/",
          "height": 85
        },
        "outputId": "0593a466-d69b-49b3-f477-43babf2d50c5"
      },
      "source": [
        "# After training\n",
        "print(\"Estimation of the parameters:\")\n",
        "print(w_t)\n",
        "print(b_t)"
      ],
      "execution_count": 46,
      "outputs": [
        {
          "output_type": "stream",
          "text": [
            "Estimation of the parameters:\n",
            "tensor([[ 0.6812],\n",
            "        [-1.2830]])\n",
            "tensor([[0.6206]])\n"
          ],
          "name": "stdout"
        }
      ]
    },
    {
      "cell_type": "markdown",
      "metadata": {
        "id": "sceg1L15TqSy",
        "colab_type": "text"
      },
      "source": [
        "### Question: Test a higger learning rate (e.g., learning_rate = 1). Explain what you observe."
      ]
    },
    {
      "cell_type": "code",
      "metadata": {
        "id": "-EGEoLgmwQZV",
        "colab_type": "code",
        "colab": {
          "base_uri": "https://localhost:8080/",
          "height": 187
        },
        "outputId": "f18c402b-c20a-43e4-a5fd-a64f236dd480"
      },
      "source": [
        "learning_rate = 1\n",
        "\n",
        "w_t = w_t_init.clone()\n",
        "b_t = b_t_init.clone()\n",
        "\n",
        "for epoch in range(10):\n",
        "    l = loss_t(x,y)\n",
        "    grad_w, grad_b = gradient_t(x,y)\n",
        "    w_t = w_t - learning_rate*grad_w\n",
        "    b_t = b_t - learning_rate*grad_b\n",
        "    print(\"progress:\", \"epoch:\", epoch, \"loss\",l)"
      ],
      "execution_count": 47,
      "outputs": [
        {
          "output_type": "stream",
          "text": [
            "progress: epoch: 0 loss tensor(78.2804)\n",
            "progress: epoch: 1 loss tensor(319124.3750)\n",
            "progress: epoch: 2 loss tensor(2.4995e+09)\n",
            "progress: epoch: 3 loss tensor(1.9619e+13)\n",
            "progress: epoch: 4 loss tensor(1.5400e+17)\n",
            "progress: epoch: 5 loss tensor(1.2088e+21)\n",
            "progress: epoch: 6 loss tensor(9.4882e+24)\n",
            "progress: epoch: 7 loss tensor(7.4477e+28)\n",
            "progress: epoch: 8 loss tensor(5.8459e+32)\n",
            "progress: epoch: 9 loss tensor(4.5887e+36)\n"
          ],
          "name": "stdout"
        }
      ]
    },
    {
      "cell_type": "markdown",
      "metadata": {
        "id": "gqWJFYZSTX_m",
        "colab_type": "text"
      },
      "source": [
        "### Question: How to improve the quality of the estimate?"
      ]
    }
  ]
}