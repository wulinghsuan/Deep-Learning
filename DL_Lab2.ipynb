{
  "nbformat": 4,
  "nbformat_minor": 0,
  "metadata": {
    "kernelspec": {
      "name": "python3",
      "display_name": "Python 3"
    },
    "language_info": {
      "codemirror_mode": {
        "name": "ipython",
        "version": 3
      },
      "file_extension": ".py",
      "mimetype": "text/x-python",
      "name": "python",
      "nbconvert_exporter": "python",
      "pygments_lexer": "ipython3",
      "version": "3.7.3"
    },
    "colab": {
      "name": "DSTI_DL_Lab2_March2020.ipynb",
      "provenance": [],
      "collapsed_sections": [],
      "toc_visible": true
    },
    "accelerator": "GPU"
  },
  "cells": [
    {
      "cell_type": "markdown",
      "metadata": {
        "id": "Zt3nY3xZgC-Q",
        "colab_type": "text"
      },
      "source": [
        "# Autograd: automatic differentiation\n",
        "\n",
        "When executing tensor operations, PyTorch can automatically construct on-the-fly the graph of operations to compute the gradient of any quantity with respect to any tensor involved.\n",
        "\n",
        "More information on autotomatic differentiation in Pytorch [here](https://pytorch.org/tutorials/beginner/blitz/autograd_tutorial.html#sphx-glr-beginner-blitz-autograd-tutorial-py)"
      ]
    },
    {
      "cell_type": "markdown",
      "metadata": {
        "id": "FznlXGW9NvPq",
        "colab_type": "text"
      },
      "source": [
        "## Visualizing the computational graph"
      ]
    },
    {
      "cell_type": "code",
      "metadata": {
        "id": "Hh6cps5cgC9g",
        "colab_type": "code",
        "colab": {}
      },
      "source": [
        "import matplotlib.pyplot as plt\n",
        "%matplotlib inline\n",
        "import torch"
      ],
      "execution_count": 0,
      "outputs": []
    },
    {
      "cell_type": "markdown",
      "metadata": {
        "id": "UUvKk98Snblr",
        "colab_type": "text"
      },
      "source": [
        "PyTorchViz is a small package to create visualizations of PyTorch execution graphs and traces."
      ]
    },
    {
      "cell_type": "code",
      "metadata": {
        "id": "_V6Sd1VEnKxQ",
        "colab_type": "code",
        "outputId": "abdd9a9e-54f1-4315-9973-8a71df74f714",
        "colab": {
          "base_uri": "https://localhost:8080/",
          "height": 102
        }
      },
      "source": [
        "!pip install torchviz\n"
      ],
      "execution_count": 2,
      "outputs": [
        {
          "output_type": "stream",
          "text": [
            "Requirement already satisfied: torchviz in /usr/local/lib/python3.6/dist-packages (0.0.1)\n",
            "Requirement already satisfied: torch in /usr/local/lib/python3.6/dist-packages (from torchviz) (1.5.0+cu101)\n",
            "Requirement already satisfied: graphviz in /usr/local/lib/python3.6/dist-packages (from torchviz) (0.10.1)\n",
            "Requirement already satisfied: future in /usr/local/lib/python3.6/dist-packages (from torch->torchviz) (0.16.0)\n",
            "Requirement already satisfied: numpy in /usr/local/lib/python3.6/dist-packages (from torch->torchviz) (1.18.4)\n"
          ],
          "name": "stdout"
        }
      ]
    },
    {
      "cell_type": "code",
      "metadata": {
        "id": "Htgg-1C1ChI1",
        "colab_type": "code",
        "colab": {}
      },
      "source": [
        "import torchviz"
      ],
      "execution_count": 0,
      "outputs": []
    },
    {
      "cell_type": "markdown",
      "metadata": {
        "id": "wYsJ94KYrquH",
        "colab_type": "text"
      },
      "source": [
        "Inn order to enable automatic differentiation, PyTorch keeps track of all operations involving tensors for which the gradient may need to be computed (i.e., require_grad is True). The operations are recorded as a directed graph. \n",
        "\n",
        "Torch tensors are recalled [here](https://pytorch.org/docs/stable/tensors.html) \n",
        "\n"
      ]
    },
    {
      "cell_type": "code",
      "metadata": {
        "colab_type": "code",
        "outputId": "38d52d06-1bfb-43ad-ab7e-53ed3f597dcc",
        "id": "xJQfkBHxsPLF",
        "colab": {
          "base_uri": "https://localhost:8080/",
          "height": 51
        }
      },
      "source": [
        "x = torch.ones(2, 2)\n",
        "print(x)"
      ],
      "execution_count": 4,
      "outputs": [
        {
          "output_type": "stream",
          "text": [
            "tensor([[1., 1.],\n",
            "        [1., 1.]])\n"
          ],
          "name": "stdout"
        }
      ]
    },
    {
      "cell_type": "markdown",
      "metadata": {
        "id": "onirJsB5gC-R",
        "colab_type": "text"
      },
      "source": [
        "A Tensor has a Boolean field *requires_grad*, set to False by default, which states if PyTorch should build the graph of operations so that gradients wrt to it can be computed."
      ]
    },
    {
      "cell_type": "code",
      "metadata": {
        "id": "7KOHka8fgC-R",
        "colab_type": "code",
        "outputId": "fd2533f2-1d2e-4ecb-dcec-ae049b4906ab",
        "colab": {
          "base_uri": "https://localhost:8080/",
          "height": 34
        }
      },
      "source": [
        "x.requires_grad"
      ],
      "execution_count": 5,
      "outputs": [
        {
          "output_type": "execute_result",
          "data": {
            "text/plain": [
              "False"
            ]
          },
          "metadata": {
            "tags": []
          },
          "execution_count": 5
        }
      ]
    },
    {
      "cell_type": "code",
      "metadata": {
        "id": "qCupY_tygC-S",
        "colab_type": "code",
        "outputId": "123f86d1-ec26-4349-baef-5ad28b51eb6e",
        "colab": {
          "base_uri": "https://localhost:8080/",
          "height": 51
        }
      },
      "source": [
        "x.numpy()"
      ],
      "execution_count": 6,
      "outputs": [
        {
          "output_type": "execute_result",
          "data": {
            "text/plain": [
              "array([[1., 1.],\n",
              "       [1., 1.]], dtype=float32)"
            ]
          },
          "metadata": {
            "tags": []
          },
          "execution_count": 6
        }
      ]
    },
    {
      "cell_type": "code",
      "metadata": {
        "id": "hWF-cjdugC-T",
        "colab_type": "code",
        "outputId": "60660192-3c91-4311-d237-499590f015c7",
        "colab": {
          "base_uri": "https://localhost:8080/",
          "height": 34
        }
      },
      "source": [
        "x.requires_grad_(True)\n",
        "x.requires_grad"
      ],
      "execution_count": 7,
      "outputs": [
        {
          "output_type": "execute_result",
          "data": {
            "text/plain": [
              "True"
            ]
          },
          "metadata": {
            "tags": []
          },
          "execution_count": 7
        }
      ]
    },
    {
      "cell_type": "markdown",
      "metadata": {
        "id": "E8UvVzIDsgy-",
        "colab_type": "text"
      },
      "source": [
        "### Question: The following cell gives an error. Why?"
      ]
    },
    {
      "cell_type": "code",
      "metadata": {
        "id": "-3hhJbzSsbKT",
        "colab_type": "code",
        "outputId": "021b4086-ef36-453a-d776-cc49dd321efd",
        "colab": {
          "base_uri": "https://localhost:8080/",
          "height": 164
        }
      },
      "source": [
        "x.numpy()"
      ],
      "execution_count": 8,
      "outputs": [
        {
          "output_type": "error",
          "ename": "RuntimeError",
          "evalue": "ignored",
          "traceback": [
            "\u001b[0;31m---------------------------------------------------------------------------\u001b[0m",
            "\u001b[0;31mRuntimeError\u001b[0m                              Traceback (most recent call last)",
            "\u001b[0;32m<ipython-input-8-2527552080a3>\u001b[0m in \u001b[0;36m<module>\u001b[0;34m()\u001b[0m\n\u001b[0;32m----> 1\u001b[0;31m \u001b[0mx\u001b[0m\u001b[0;34m.\u001b[0m\u001b[0mnumpy\u001b[0m\u001b[0;34m(\u001b[0m\u001b[0;34m)\u001b[0m\u001b[0;34m\u001b[0m\u001b[0;34m\u001b[0m\u001b[0m\n\u001b[0m",
            "\u001b[0;31mRuntimeError\u001b[0m: Can't call numpy() on Variable that requires grad. Use var.detach().numpy() instead."
          ]
        }
      ]
    },
    {
      "cell_type": "markdown",
      "metadata": {
        "id": "ZbK4X5CFr0f2",
        "colab_type": "text"
      },
      "source": [
        "The detach() method constructs a new view on a tensor which is declared not to need gradients, i.e., it is to be excluded from further tracking of operations, and therefore the subgraph involving this view is not recorded."
      ]
    },
    {
      "cell_type": "code",
      "metadata": {
        "id": "4tbWCPc5gC-T",
        "colab_type": "code",
        "outputId": "3792526d-8bbd-472e-d4ef-d8aa3c547570",
        "colab": {
          "base_uri": "https://localhost:8080/",
          "height": 51
        }
      },
      "source": [
        "x.detach().numpy()"
      ],
      "execution_count": 9,
      "outputs": [
        {
          "output_type": "execute_result",
          "data": {
            "text/plain": [
              "array([[1., 1.],\n",
              "       [1., 1.]], dtype=float32)"
            ]
          },
          "metadata": {
            "tags": []
          },
          "execution_count": 9
        }
      ]
    },
    {
      "cell_type": "code",
      "metadata": {
        "id": "raHZBNwMgC-U",
        "colab_type": "code",
        "outputId": "24d567ba-f701-4425-cf93-99a55c4b02a4",
        "colab": {
          "base_uri": "https://localhost:8080/",
          "height": 51
        }
      },
      "source": [
        "x.data.numpy() # Torch.data returns the \"data\" (array_like) stored in the tensor"
      ],
      "execution_count": 10,
      "outputs": [
        {
          "output_type": "execute_result",
          "data": {
            "text/plain": [
              "array([[1., 1.],\n",
              "       [1., 1.]], dtype=float32)"
            ]
          },
          "metadata": {
            "tags": []
          },
          "execution_count": 10
        }
      ]
    },
    {
      "cell_type": "code",
      "metadata": {
        "id": "6TWE8h-ygC-V",
        "colab_type": "code",
        "outputId": "b4d040be-ecb2-49f3-dd47-cd442785b947",
        "colab": {
          "base_uri": "https://localhost:8080/",
          "height": 34
        }
      },
      "source": [
        "x.requires_grad"
      ],
      "execution_count": 11,
      "outputs": [
        {
          "output_type": "execute_result",
          "data": {
            "text/plain": [
              "True"
            ]
          },
          "metadata": {
            "tags": []
          },
          "execution_count": 11
        }
      ]
    },
    {
      "cell_type": "code",
      "metadata": {
        "id": "gACeHMOegC-W",
        "colab_type": "code",
        "outputId": "2b9591de-c256-47e7-868e-90d31ca48dab",
        "colab": {
          "base_uri": "https://localhost:8080/",
          "height": 188
        }
      },
      "source": [
        "y = x + 2\n",
        "print(y)\n",
        "torchviz.make_dot(y)"
      ],
      "execution_count": 12,
      "outputs": [
        {
          "output_type": "stream",
          "text": [
            "tensor([[3., 3.],\n",
            "        [3., 3.]], grad_fn=<AddBackward0>)\n"
          ],
          "name": "stdout"
        },
        {
          "output_type": "execute_result",
          "data": {
            "text/plain": [
              "<graphviz.dot.Digraph at 0x7fd2822cff60>"
            ],
            "image/svg+xml": "<?xml version=\"1.0\" encoding=\"UTF-8\" standalone=\"no\"?>\n<!DOCTYPE svg PUBLIC \"-//W3C//DTD SVG 1.1//EN\"\n \"http://www.w3.org/Graphics/SVG/1.1/DTD/svg11.dtd\">\n<!-- Generated by graphviz version 2.40.1 (20161225.0304)\n -->\n<!-- Title: %3 Pages: 1 -->\n<svg width=\"100pt\" height=\"100pt\"\n viewBox=\"0.00 0.00 100.00 100.00\" xmlns=\"http://www.w3.org/2000/svg\" xmlns:xlink=\"http://www.w3.org/1999/xlink\">\n<g id=\"graph0\" class=\"graph\" transform=\"scale(1 1) rotate(0) translate(4 96)\">\n<title>%3</title>\n<polygon fill=\"#ffffff\" stroke=\"transparent\" points=\"-4,4 -4,-96 96,-96 96,4 -4,4\"/>\n<!-- 140542103845856 -->\n<g id=\"node1\" class=\"node\">\n<title>140542103845856</title>\n<polygon fill=\"#caff70\" stroke=\"#000000\" points=\"92,-21 0,-21 0,0 92,0 92,-21\"/>\n<text text-anchor=\"middle\" x=\"46\" y=\"-7.4\" font-family=\"Times,serif\" font-size=\"12.00\" fill=\"#000000\">AddBackward0</text>\n</g>\n<!-- 140542103845128 -->\n<g id=\"node2\" class=\"node\">\n<title>140542103845128</title>\n<polygon fill=\"#add8e6\" stroke=\"#000000\" points=\"73,-92 19,-92 19,-57 73,-57 73,-92\"/>\n<text text-anchor=\"middle\" x=\"46\" y=\"-64.4\" font-family=\"Times,serif\" font-size=\"12.00\" fill=\"#000000\"> (2, 2)</text>\n</g>\n<!-- 140542103845128&#45;&gt;140542103845856 -->\n<g id=\"edge1\" class=\"edge\">\n<title>140542103845128&#45;&gt;140542103845856</title>\n<path fill=\"none\" stroke=\"#000000\" d=\"M46,-56.6724C46,-48.8405 46,-39.5893 46,-31.4323\"/>\n<polygon fill=\"#000000\" stroke=\"#000000\" points=\"49.5001,-31.2234 46,-21.2234 42.5001,-31.2235 49.5001,-31.2234\"/>\n</g>\n</g>\n</svg>\n"
          },
          "metadata": {
            "tags": []
          },
          "execution_count": 12
        }
      ]
    },
    {
      "cell_type": "markdown",
      "metadata": {
        "id": "GnSYGWNcgC-W",
        "colab_type": "text"
      },
      "source": [
        "**Broadcasting**\n",
        "\n",
        "Recall: Broadcasting **automatically** expands dimensions by replicating coefficients, when it is necessary to perform operations.\n",
        "\n",
        "1. If one of the tensors has fewer dimensions than the other, it is reshaped by adding as many dimensions of size 1 as necessary in the front; then\n",
        "2. for every mismatch, if one of the two tensor is of size one, it is expanded along this axis by replicating  coefficients.\n",
        "\n",
        "If there is a tensor size mismatch for one of the dimension and neither of them is one, the operation fails."
      ]
    },
    {
      "cell_type": "code",
      "metadata": {
        "id": "2CtszgyZgC-X",
        "colab_type": "code",
        "outputId": "ece69c21-1367-4b07-abc7-54059565346b",
        "colab": {
          "base_uri": "https://localhost:8080/",
          "height": 204
        }
      },
      "source": [
        "A = torch.tensor([[1.], [2.], [3.], [4.]])\n",
        "print(A.size())\n",
        "print(A)\n",
        "B = torch.tensor([[5., -5., 5., -5., 5.]])\n",
        "print(B.size())\n",
        "print(B)\n",
        "C = A + B\n",
        "print(C)"
      ],
      "execution_count": 13,
      "outputs": [
        {
          "output_type": "stream",
          "text": [
            "torch.Size([4, 1])\n",
            "tensor([[1.],\n",
            "        [2.],\n",
            "        [3.],\n",
            "        [4.]])\n",
            "torch.Size([1, 5])\n",
            "tensor([[ 5., -5.,  5., -5.,  5.]])\n",
            "tensor([[ 6., -4.,  6., -4.,  6.],\n",
            "        [ 7., -3.,  7., -3.,  7.],\n",
            "        [ 8., -2.,  8., -2.,  8.],\n",
            "        [ 9., -1.,  9., -1.,  9.]])\n"
          ],
          "name": "stdout"
        }
      ]
    },
    {
      "cell_type": "markdown",
      "metadata": {
        "id": "cVCkQQeRgC-Y",
        "colab_type": "text"
      },
      "source": [
        "Back to Autograd!"
      ]
    },
    {
      "cell_type": "code",
      "metadata": {
        "id": "hja6OM24gC-b",
        "colab_type": "code",
        "outputId": "45811502-21d6-465f-ec66-d9f4cc20010c",
        "colab": {
          "base_uri": "https://localhost:8080/",
          "height": 51
        }
      },
      "source": [
        "x = torch.ones(2, 2)\n",
        "x.requires_grad_(True)\n",
        "y = x+2\n",
        "print(y)"
      ],
      "execution_count": 14,
      "outputs": [
        {
          "output_type": "stream",
          "text": [
            "tensor([[3., 3.],\n",
            "        [3., 3.]], grad_fn=<AddBackward0>)\n"
          ],
          "name": "stdout"
        }
      ]
    },
    {
      "cell_type": "code",
      "metadata": {
        "id": "NI3ikwlogC-Y",
        "colab_type": "code",
        "outputId": "fabf88e3-bccf-4590-9b7c-bb3a0cd6f903",
        "colab": {
          "base_uri": "https://localhost:8080/",
          "height": 34
        }
      },
      "source": [
        "y.requires_grad"
      ],
      "execution_count": 15,
      "outputs": [
        {
          "output_type": "execute_result",
          "data": {
            "text/plain": [
              "True"
            ]
          },
          "metadata": {
            "tags": []
          },
          "execution_count": 15
        }
      ]
    },
    {
      "cell_type": "markdown",
      "metadata": {
        "id": "w5XJD5O13vPw",
        "colab_type": "text"
      },
      "source": [
        "Tensor and Function are interconnected and build up an acyclic graph, that encodes a complete history of computation. \n",
        "\n",
        "Each tensor has a .grad_fn attribute that references a Function that has created the Tensor (except for Tensors created by the user - their grad_fn is None)."
      ]
    },
    {
      "cell_type": "code",
      "metadata": {
        "id": "EOt8d0S0gC-Z",
        "colab_type": "code",
        "outputId": "bc193a26-7e14-420f-b45b-9797cb0491f9",
        "colab": {
          "base_uri": "https://localhost:8080/",
          "height": 256
        }
      },
      "source": [
        "print(x)\n",
        "print(x.grad_fn)\n",
        "print(y)\n",
        "print(y.grad_fn)\n",
        "torchviz.make_dot(y) "
      ],
      "execution_count": 16,
      "outputs": [
        {
          "output_type": "stream",
          "text": [
            "tensor([[1., 1.],\n",
            "        [1., 1.]], requires_grad=True)\n",
            "None\n",
            "tensor([[3., 3.],\n",
            "        [3., 3.]], grad_fn=<AddBackward0>)\n",
            "<AddBackward0 object at 0x7fd2822633c8>\n"
          ],
          "name": "stdout"
        },
        {
          "output_type": "execute_result",
          "data": {
            "text/plain": [
              "<graphviz.dot.Digraph at 0x7fd282263470>"
            ],
            "image/svg+xml": "<?xml version=\"1.0\" encoding=\"UTF-8\" standalone=\"no\"?>\n<!DOCTYPE svg PUBLIC \"-//W3C//DTD SVG 1.1//EN\"\n \"http://www.w3.org/Graphics/SVG/1.1/DTD/svg11.dtd\">\n<!-- Generated by graphviz version 2.40.1 (20161225.0304)\n -->\n<!-- Title: %3 Pages: 1 -->\n<svg width=\"100pt\" height=\"100pt\"\n viewBox=\"0.00 0.00 100.00 100.00\" xmlns=\"http://www.w3.org/2000/svg\" xmlns:xlink=\"http://www.w3.org/1999/xlink\">\n<g id=\"graph0\" class=\"graph\" transform=\"scale(1 1) rotate(0) translate(4 96)\">\n<title>%3</title>\n<polygon fill=\"#ffffff\" stroke=\"transparent\" points=\"-4,4 -4,-96 96,-96 96,4 -4,4\"/>\n<!-- 140542103401640 -->\n<g id=\"node1\" class=\"node\">\n<title>140542103401640</title>\n<polygon fill=\"#caff70\" stroke=\"#000000\" points=\"92,-21 0,-21 0,0 92,0 92,-21\"/>\n<text text-anchor=\"middle\" x=\"46\" y=\"-7.4\" font-family=\"Times,serif\" font-size=\"12.00\" fill=\"#000000\">AddBackward0</text>\n</g>\n<!-- 140542103401472 -->\n<g id=\"node2\" class=\"node\">\n<title>140542103401472</title>\n<polygon fill=\"#add8e6\" stroke=\"#000000\" points=\"73,-92 19,-92 19,-57 73,-57 73,-92\"/>\n<text text-anchor=\"middle\" x=\"46\" y=\"-64.4\" font-family=\"Times,serif\" font-size=\"12.00\" fill=\"#000000\"> (2, 2)</text>\n</g>\n<!-- 140542103401472&#45;&gt;140542103401640 -->\n<g id=\"edge1\" class=\"edge\">\n<title>140542103401472&#45;&gt;140542103401640</title>\n<path fill=\"none\" stroke=\"#000000\" d=\"M46,-56.6724C46,-48.8405 46,-39.5893 46,-31.4323\"/>\n<polygon fill=\"#000000\" stroke=\"#000000\" points=\"49.5001,-31.2234 46,-21.2234 42.5001,-31.2235 49.5001,-31.2234\"/>\n</g>\n</g>\n</svg>\n"
          },
          "metadata": {
            "tags": []
          },
          "execution_count": 16
        }
      ]
    },
    {
      "cell_type": "code",
      "metadata": {
        "id": "x5vVEet32cC_",
        "colab_type": "code",
        "outputId": "385ba0a4-81cc-45bd-ccc6-427159680b73",
        "colab": {
          "base_uri": "https://localhost:8080/",
          "height": 340
        }
      },
      "source": [
        "z = y * y * 3\n",
        "print(z)\n",
        "torchviz.make_dot(z) "
      ],
      "execution_count": 17,
      "outputs": [
        {
          "output_type": "stream",
          "text": [
            "tensor([[27., 27.],\n",
            "        [27., 27.]], grad_fn=<MulBackward0>)\n"
          ],
          "name": "stdout"
        },
        {
          "output_type": "execute_result",
          "data": {
            "text/plain": [
              "<graphviz.dot.Digraph at 0x7fd282263358>"
            ],
            "image/svg+xml": "<?xml version=\"1.0\" encoding=\"UTF-8\" standalone=\"no\"?>\n<!DOCTYPE svg PUBLIC \"-//W3C//DTD SVG 1.1//EN\"\n \"http://www.w3.org/Graphics/SVG/1.1/DTD/svg11.dtd\">\n<!-- Generated by graphviz version 2.40.1 (20161225.0304)\n -->\n<!-- Title: %3 Pages: 1 -->\n<svg width=\"100pt\" height=\"214pt\"\n viewBox=\"0.00 0.00 100.00 214.00\" xmlns=\"http://www.w3.org/2000/svg\" xmlns:xlink=\"http://www.w3.org/1999/xlink\">\n<g id=\"graph0\" class=\"graph\" transform=\"scale(1 1) rotate(0) translate(4 210)\">\n<title>%3</title>\n<polygon fill=\"#ffffff\" stroke=\"transparent\" points=\"-4,4 -4,-210 96,-210 96,4 -4,4\"/>\n<!-- 140542103401360 -->\n<g id=\"node1\" class=\"node\">\n<title>140542103401360</title>\n<polygon fill=\"#caff70\" stroke=\"#000000\" points=\"91.5,-21 .5,-21 .5,0 91.5,0 91.5,-21\"/>\n<text text-anchor=\"middle\" x=\"46\" y=\"-7.4\" font-family=\"Times,serif\" font-size=\"12.00\" fill=\"#000000\">MulBackward0</text>\n</g>\n<!-- 140542103400856 -->\n<g id=\"node2\" class=\"node\">\n<title>140542103400856</title>\n<polygon fill=\"#d3d3d3\" stroke=\"#000000\" points=\"91.5,-78 .5,-78 .5,-57 91.5,-57 91.5,-78\"/>\n<text text-anchor=\"middle\" x=\"46\" y=\"-64.4\" font-family=\"Times,serif\" font-size=\"12.00\" fill=\"#000000\">MulBackward0</text>\n</g>\n<!-- 140542103400856&#45;&gt;140542103401360 -->\n<g id=\"edge1\" class=\"edge\">\n<title>140542103400856&#45;&gt;140542103401360</title>\n<path fill=\"none\" stroke=\"#000000\" d=\"M46,-56.7787C46,-49.6134 46,-39.9517 46,-31.3097\"/>\n<polygon fill=\"#000000\" stroke=\"#000000\" points=\"49.5001,-31.1732 46,-21.1732 42.5001,-31.1732 49.5001,-31.1732\"/>\n</g>\n<!-- 140542103401640 -->\n<g id=\"node3\" class=\"node\">\n<title>140542103401640</title>\n<polygon fill=\"#d3d3d3\" stroke=\"#000000\" points=\"92,-135 0,-135 0,-114 92,-114 92,-135\"/>\n<text text-anchor=\"middle\" x=\"46\" y=\"-121.4\" font-family=\"Times,serif\" font-size=\"12.00\" fill=\"#000000\">AddBackward0</text>\n</g>\n<!-- 140542103401640&#45;&gt;140542103400856 -->\n<g id=\"edge2\" class=\"edge\">\n<title>140542103401640&#45;&gt;140542103400856</title>\n<path fill=\"none\" stroke=\"#000000\" d=\"M40.5885,-113.7787C39.3317,-106.6134 38.9599,-96.9517 39.4733,-88.3097\"/>\n<polygon fill=\"#000000\" stroke=\"#000000\" points=\"42.9738,-88.498 40.597,-78.1732 36.0164,-87.7267 42.9738,-88.498\"/>\n</g>\n<!-- 140542103401640&#45;&gt;140542103400856 -->\n<g id=\"edge4\" class=\"edge\">\n<title>140542103401640&#45;&gt;140542103400856</title>\n<path fill=\"none\" stroke=\"#000000\" d=\"M51.4115,-113.7787C52.6683,-106.6134 53.0401,-96.9517 52.5267,-88.3097\"/>\n<polygon fill=\"#000000\" stroke=\"#000000\" points=\"55.9836,-87.7267 51.403,-78.1732 49.0262,-88.498 55.9836,-87.7267\"/>\n</g>\n<!-- 140542103401472 -->\n<g id=\"node4\" class=\"node\">\n<title>140542103401472</title>\n<polygon fill=\"#add8e6\" stroke=\"#000000\" points=\"73,-206 19,-206 19,-171 73,-171 73,-206\"/>\n<text text-anchor=\"middle\" x=\"46\" y=\"-178.4\" font-family=\"Times,serif\" font-size=\"12.00\" fill=\"#000000\"> (2, 2)</text>\n</g>\n<!-- 140542103401472&#45;&gt;140542103401640 -->\n<g id=\"edge3\" class=\"edge\">\n<title>140542103401472&#45;&gt;140542103401640</title>\n<path fill=\"none\" stroke=\"#000000\" d=\"M46,-170.6724C46,-162.8405 46,-153.5893 46,-145.4323\"/>\n<polygon fill=\"#000000\" stroke=\"#000000\" points=\"49.5001,-145.2234 46,-135.2234 42.5001,-145.2235 49.5001,-145.2234\"/>\n</g>\n</g>\n</svg>\n"
          },
          "metadata": {
            "tags": []
          },
          "execution_count": 17
        }
      ]
    },
    {
      "cell_type": "code",
      "metadata": {
        "id": "kQlr3Z-HgC-b",
        "colab_type": "code",
        "outputId": "41f1d3cc-0425-41db-dd9c-a1b8306569f0",
        "colab": {
          "base_uri": "https://localhost:8080/",
          "height": 399
        }
      },
      "source": [
        "out = z.mean()\n",
        "print(out)\n",
        "torchviz.make_dot(out) "
      ],
      "execution_count": 18,
      "outputs": [
        {
          "output_type": "stream",
          "text": [
            "tensor(27., grad_fn=<MeanBackward0>)\n"
          ],
          "name": "stdout"
        },
        {
          "output_type": "execute_result",
          "data": {
            "text/plain": [
              "<graphviz.dot.Digraph at 0x7fd282263240>"
            ],
            "image/svg+xml": "<?xml version=\"1.0\" encoding=\"UTF-8\" standalone=\"no\"?>\n<!DOCTYPE svg PUBLIC \"-//W3C//DTD SVG 1.1//EN\"\n \"http://www.w3.org/Graphics/SVG/1.1/DTD/svg11.dtd\">\n<!-- Generated by graphviz version 2.40.1 (20161225.0304)\n -->\n<!-- Title: %3 Pages: 1 -->\n<svg width=\"106pt\" height=\"271pt\"\n viewBox=\"0.00 0.00 106.00 271.00\" xmlns=\"http://www.w3.org/2000/svg\" xmlns:xlink=\"http://www.w3.org/1999/xlink\">\n<g id=\"graph0\" class=\"graph\" transform=\"scale(1 1) rotate(0) translate(4 267)\">\n<title>%3</title>\n<polygon fill=\"#ffffff\" stroke=\"transparent\" points=\"-4,4 -4,-267 102,-267 102,4 -4,4\"/>\n<!-- 140542103401416 -->\n<g id=\"node1\" class=\"node\">\n<title>140542103401416</title>\n<polygon fill=\"#caff70\" stroke=\"#000000\" points=\"98,-21 0,-21 0,0 98,0 98,-21\"/>\n<text text-anchor=\"middle\" x=\"49\" y=\"-7.4\" font-family=\"Times,serif\" font-size=\"12.00\" fill=\"#000000\">MeanBackward0</text>\n</g>\n<!-- 140542103401360 -->\n<g id=\"node2\" class=\"node\">\n<title>140542103401360</title>\n<polygon fill=\"#d3d3d3\" stroke=\"#000000\" points=\"94.5,-78 3.5,-78 3.5,-57 94.5,-57 94.5,-78\"/>\n<text text-anchor=\"middle\" x=\"49\" y=\"-64.4\" font-family=\"Times,serif\" font-size=\"12.00\" fill=\"#000000\">MulBackward0</text>\n</g>\n<!-- 140542103401360&#45;&gt;140542103401416 -->\n<g id=\"edge1\" class=\"edge\">\n<title>140542103401360&#45;&gt;140542103401416</title>\n<path fill=\"none\" stroke=\"#000000\" d=\"M49,-56.7787C49,-49.6134 49,-39.9517 49,-31.3097\"/>\n<polygon fill=\"#000000\" stroke=\"#000000\" points=\"52.5001,-31.1732 49,-21.1732 45.5001,-31.1732 52.5001,-31.1732\"/>\n</g>\n<!-- 140542103400856 -->\n<g id=\"node3\" class=\"node\">\n<title>140542103400856</title>\n<polygon fill=\"#d3d3d3\" stroke=\"#000000\" points=\"94.5,-135 3.5,-135 3.5,-114 94.5,-114 94.5,-135\"/>\n<text text-anchor=\"middle\" x=\"49\" y=\"-121.4\" font-family=\"Times,serif\" font-size=\"12.00\" fill=\"#000000\">MulBackward0</text>\n</g>\n<!-- 140542103400856&#45;&gt;140542103401360 -->\n<g id=\"edge2\" class=\"edge\">\n<title>140542103400856&#45;&gt;140542103401360</title>\n<path fill=\"none\" stroke=\"#000000\" d=\"M49,-113.7787C49,-106.6134 49,-96.9517 49,-88.3097\"/>\n<polygon fill=\"#000000\" stroke=\"#000000\" points=\"52.5001,-88.1732 49,-78.1732 45.5001,-88.1732 52.5001,-88.1732\"/>\n</g>\n<!-- 140542103401640 -->\n<g id=\"node4\" class=\"node\">\n<title>140542103401640</title>\n<polygon fill=\"#d3d3d3\" stroke=\"#000000\" points=\"95,-192 3,-192 3,-171 95,-171 95,-192\"/>\n<text text-anchor=\"middle\" x=\"49\" y=\"-178.4\" font-family=\"Times,serif\" font-size=\"12.00\" fill=\"#000000\">AddBackward0</text>\n</g>\n<!-- 140542103401640&#45;&gt;140542103400856 -->\n<g id=\"edge3\" class=\"edge\">\n<title>140542103401640&#45;&gt;140542103400856</title>\n<path fill=\"none\" stroke=\"#000000\" d=\"M43.5885,-170.7787C42.3317,-163.6134 41.9599,-153.9517 42.4733,-145.3097\"/>\n<polygon fill=\"#000000\" stroke=\"#000000\" points=\"45.9738,-145.498 43.597,-135.1732 39.0164,-144.7267 45.9738,-145.498\"/>\n</g>\n<!-- 140542103401640&#45;&gt;140542103400856 -->\n<g id=\"edge5\" class=\"edge\">\n<title>140542103401640&#45;&gt;140542103400856</title>\n<path fill=\"none\" stroke=\"#000000\" d=\"M54.4115,-170.7787C55.6683,-163.6134 56.0401,-153.9517 55.5267,-145.3097\"/>\n<polygon fill=\"#000000\" stroke=\"#000000\" points=\"58.9836,-144.7267 54.403,-135.1732 52.0262,-145.498 58.9836,-144.7267\"/>\n</g>\n<!-- 140542103401472 -->\n<g id=\"node5\" class=\"node\">\n<title>140542103401472</title>\n<polygon fill=\"#add8e6\" stroke=\"#000000\" points=\"76,-263 22,-263 22,-228 76,-228 76,-263\"/>\n<text text-anchor=\"middle\" x=\"49\" y=\"-235.4\" font-family=\"Times,serif\" font-size=\"12.00\" fill=\"#000000\"> (2, 2)</text>\n</g>\n<!-- 140542103401472&#45;&gt;140542103401640 -->\n<g id=\"edge4\" class=\"edge\">\n<title>140542103401472&#45;&gt;140542103401640</title>\n<path fill=\"none\" stroke=\"#000000\" d=\"M49,-227.6724C49,-219.8405 49,-210.5893 49,-202.4323\"/>\n<polygon fill=\"#000000\" stroke=\"#000000\" points=\"52.5001,-202.2234 49,-192.2234 45.5001,-202.2235 52.5001,-202.2234\"/>\n</g>\n</g>\n</svg>\n"
          },
          "metadata": {
            "tags": []
          },
          "execution_count": 18
        }
      ]
    },
    {
      "cell_type": "markdown",
      "metadata": {
        "id": "mrBx5oslgC-c",
        "colab_type": "text"
      },
      "source": [
        "After the computation is finished, i.e. _forward pass_, you can call ```.backward()``` and have all the gradients computed automatically."
      ]
    },
    {
      "cell_type": "code",
      "metadata": {
        "id": "g5AzQ3qV5oti",
        "colab_type": "code",
        "colab": {}
      },
      "source": [
        "out.backward()"
      ],
      "execution_count": 0,
      "outputs": []
    },
    {
      "cell_type": "markdown",
      "metadata": {
        "id": "niaze4W4gC-d",
        "colab_type": "text"
      },
      "source": [
        "The gradients w.r.t. this variable is accumulated into ```.grad```."
      ]
    },
    {
      "cell_type": "code",
      "metadata": {
        "id": "OiDnd1jXgC-d",
        "colab_type": "code",
        "outputId": "b0cba711-3442-49da-e886-21ebb43aa051",
        "colab": {
          "base_uri": "https://localhost:8080/",
          "height": 51
        }
      },
      "source": [
        "print(x.grad)"
      ],
      "execution_count": 20,
      "outputs": [
        {
          "output_type": "stream",
          "text": [
            "tensor([[4.5000, 4.5000],\n",
            "        [4.5000, 4.5000]])\n"
          ],
          "name": "stdout"
        }
      ]
    },
    {
      "cell_type": "markdown",
      "metadata": {
        "id": "7kJrfEsF29yh",
        "colab_type": "text"
      },
      "source": [
        "### Question: Explain mathematically the value of \"x.grad\"\n"
      ]
    },
    {
      "cell_type": "markdown",
      "metadata": {
        "id": "HgscnWWurhA8",
        "colab_type": "text"
      },
      "source": [
        "Let’s call the ``out``\n",
        "*Variable* “$o$”.\n",
        "We have that:\n",
        "\n",
        "$y_i = x_i+2$\n",
        "\n",
        "$z_i = 3 y_i^2$ \n",
        "\n",
        "$o = \\frac{1}{4}\\sum_i z_i$ \n",
        "\n",
        "**Forward pass:**\n",
        "\n",
        "$y_i\\bigr\\rvert_{x_i=1} = 3$\n",
        "\n",
        "$z_i\\bigr\\rvert_{y_i=3} = 27$\n",
        "\n",
        "$o\\bigr\\rvert_{z_i=27} = 27$.\n",
        "\n",
        "Taking partial derivatives give:\n",
        "\n",
        "$\\frac{\\partial o}{\\partial z_i} = \\frac{1}{4}$\n",
        "\n",
        "$\\frac{\\partial z_i}{\\partial y_i} = 6 y_i$\n",
        "\n",
        "$\\frac{\\partial y_i}{\\partial x_i} =1$\n",
        "\n",
        "\n",
        "hence by the **chain-rule:**\n",
        "\n",
        "$\\frac{\\partial o}{\\partial x_i}\\bigr\\rvert_{x_i=1} = \\frac{\\partial o}{\\partial z_i}\\bigr\\rvert_{z_i=27}\\frac{\\partial z_i}{\\partial y_i}\\bigr\\rvert_{y_i=3}\\frac{\\partial y_i}{\\partial x_i}\\bigr\\rvert_{x_i=1} = \\frac{1}{4} * 18 * 1 = 4.5$."
      ]
    },
    {
      "cell_type": "markdown",
      "metadata": {
        "id": "UwJCU8Uo4ZvD",
        "colab_type": "text"
      },
      "source": [
        "[Why can I not see .grad of an intermediate variable?](https://discuss.pytorch.org/t/why-cant-i-see-grad-of-an-intermediate-variable/94)\n",
        "\n",
        "Gradients are only retained for leaf variables. \n",
        "\n",
        "Non-leaf variables’ gradients are not retained to be inspected later. This was done by design, to save memory."
      ]
    },
    {
      "cell_type": "code",
      "metadata": {
        "id": "16KkidoigC-e",
        "colab_type": "code",
        "outputId": "3c5b276f-4316-4aaa-d909-f7b93bae10c7",
        "colab": {
          "base_uri": "https://localhost:8080/",
          "height": 105
        }
      },
      "source": [
        "print(y.grad)\n",
        "print(out.grad)"
      ],
      "execution_count": 21,
      "outputs": [
        {
          "output_type": "stream",
          "text": [
            "None\n",
            "None\n"
          ],
          "name": "stdout"
        },
        {
          "output_type": "stream",
          "text": [
            "/usr/local/lib/python3.6/dist-packages/torch/tensor.py:746: UserWarning: The .grad attribute of a Tensor that is not a leaf Tensor is being accessed. Its .grad attribute won't be populated during autograd.backward(). If you indeed want the gradient for a non-leaf Tensor, use .retain_grad() on the non-leaf Tensor. If you access the non-leaf Tensor by mistake, make sure you access the leaf Tensor instead. See github.com/pytorch/pytorch/pull/30531 for more informations.\n",
            "  warnings.warn(\"The .grad attribute of a Tensor that is not a leaf Tensor is being accessed. Its .grad \"\n"
          ],
          "name": "stderr"
        }
      ]
    },
    {
      "cell_type": "code",
      "metadata": {
        "id": "YSb96GMy5IdW",
        "colab_type": "code",
        "outputId": "2d3f4f5e-bff7-4df5-bda4-c82a16658592",
        "colab": {
          "base_uri": "https://localhost:8080/",
          "height": 433
        }
      },
      "source": [
        "x = 2 * torch.ones(2, 2)\n",
        "print(x)\n",
        "x.requires_grad_(True)\n",
        "out = (x * x * x + 2 ).mean()\n",
        "print(out)\n",
        "torchviz.make_dot(out)"
      ],
      "execution_count": 22,
      "outputs": [
        {
          "output_type": "stream",
          "text": [
            "tensor([[2., 2.],\n",
            "        [2., 2.]])\n",
            "tensor(10., grad_fn=<MeanBackward0>)\n"
          ],
          "name": "stdout"
        },
        {
          "output_type": "execute_result",
          "data": {
            "text/plain": [
              "<graphviz.dot.Digraph at 0x7fd282263ac8>"
            ],
            "image/svg+xml": "<?xml version=\"1.0\" encoding=\"UTF-8\" standalone=\"no\"?>\n<!DOCTYPE svg PUBLIC \"-//W3C//DTD SVG 1.1//EN\"\n \"http://www.w3.org/Graphics/SVG/1.1/DTD/svg11.dtd\">\n<!-- Generated by graphviz version 2.40.1 (20161225.0304)\n -->\n<!-- Title: %3 Pages: 1 -->\n<svg width=\"140pt\" height=\"271pt\"\n viewBox=\"0.00 0.00 139.50 271.00\" xmlns=\"http://www.w3.org/2000/svg\" xmlns:xlink=\"http://www.w3.org/1999/xlink\">\n<g id=\"graph0\" class=\"graph\" transform=\"scale(1 1) rotate(0) translate(4 267)\">\n<title>%3</title>\n<polygon fill=\"#ffffff\" stroke=\"transparent\" points=\"-4,4 -4,-267 135.5,-267 135.5,4 -4,4\"/>\n<!-- 140542103403432 -->\n<g id=\"node1\" class=\"node\">\n<title>140542103403432</title>\n<polygon fill=\"#caff70\" stroke=\"#000000\" points=\"98,-21 0,-21 0,0 98,0 98,-21\"/>\n<text text-anchor=\"middle\" x=\"49\" y=\"-7.4\" font-family=\"Times,serif\" font-size=\"12.00\" fill=\"#000000\">MeanBackward0</text>\n</g>\n<!-- 140542103403264 -->\n<g id=\"node2\" class=\"node\">\n<title>140542103403264</title>\n<polygon fill=\"#d3d3d3\" stroke=\"#000000\" points=\"95,-78 3,-78 3,-57 95,-57 95,-78\"/>\n<text text-anchor=\"middle\" x=\"49\" y=\"-64.4\" font-family=\"Times,serif\" font-size=\"12.00\" fill=\"#000000\">AddBackward0</text>\n</g>\n<!-- 140542103403264&#45;&gt;140542103403432 -->\n<g id=\"edge1\" class=\"edge\">\n<title>140542103403264&#45;&gt;140542103403432</title>\n<path fill=\"none\" stroke=\"#000000\" d=\"M49,-56.7787C49,-49.6134 49,-39.9517 49,-31.3097\"/>\n<polygon fill=\"#000000\" stroke=\"#000000\" points=\"52.5001,-31.1732 49,-21.1732 45.5001,-31.1732 52.5001,-31.1732\"/>\n</g>\n<!-- 140542103403376 -->\n<g id=\"node3\" class=\"node\">\n<title>140542103403376</title>\n<polygon fill=\"#d3d3d3\" stroke=\"#000000\" points=\"94.5,-135 3.5,-135 3.5,-114 94.5,-114 94.5,-135\"/>\n<text text-anchor=\"middle\" x=\"49\" y=\"-121.4\" font-family=\"Times,serif\" font-size=\"12.00\" fill=\"#000000\">MulBackward0</text>\n</g>\n<!-- 140542103403376&#45;&gt;140542103403264 -->\n<g id=\"edge2\" class=\"edge\">\n<title>140542103403376&#45;&gt;140542103403264</title>\n<path fill=\"none\" stroke=\"#000000\" d=\"M49,-113.7787C49,-106.6134 49,-96.9517 49,-88.3097\"/>\n<polygon fill=\"#000000\" stroke=\"#000000\" points=\"52.5001,-88.1732 49,-78.1732 45.5001,-88.1732 52.5001,-88.1732\"/>\n</g>\n<!-- 140542103403600 -->\n<g id=\"node4\" class=\"node\">\n<title>140542103403600</title>\n<polygon fill=\"#d3d3d3\" stroke=\"#000000\" points=\"131.5,-192 40.5,-192 40.5,-171 131.5,-171 131.5,-192\"/>\n<text text-anchor=\"middle\" x=\"86\" y=\"-178.4\" font-family=\"Times,serif\" font-size=\"12.00\" fill=\"#000000\">MulBackward0</text>\n</g>\n<!-- 140542103403600&#45;&gt;140542103403376 -->\n<g id=\"edge3\" class=\"edge\">\n<title>140542103403600&#45;&gt;140542103403376</title>\n<path fill=\"none\" stroke=\"#000000\" d=\"M79.0406,-170.7787C74.0793,-163.1357 67.2744,-152.6524 61.3956,-143.596\"/>\n<polygon fill=\"#000000\" stroke=\"#000000\" points=\"64.3087,-141.6553 55.9282,-135.1732 58.4372,-145.4667 64.3087,-141.6553\"/>\n</g>\n<!-- 140542103403656 -->\n<g id=\"node5\" class=\"node\">\n<title>140542103403656</title>\n<polygon fill=\"#add8e6\" stroke=\"#000000\" points=\"113,-263 59,-263 59,-228 113,-228 113,-263\"/>\n<text text-anchor=\"middle\" x=\"86\" y=\"-235.4\" font-family=\"Times,serif\" font-size=\"12.00\" fill=\"#000000\"> (2, 2)</text>\n</g>\n<!-- 140542103403656&#45;&gt;140542103403376 -->\n<g id=\"edge6\" class=\"edge\">\n<title>140542103403656&#45;&gt;140542103403376</title>\n<path fill=\"none\" stroke=\"#000000\" d=\"M60.7835,-227.9148C49.732,-218.6511 37.942,-206.2514 32,-192 25.5633,-176.5621 31.0558,-158.0869 37.4598,-144.371\"/>\n<polygon fill=\"#000000\" stroke=\"#000000\" points=\"40.6468,-145.8274 42.1265,-135.3364 34.4275,-142.6149 40.6468,-145.8274\"/>\n</g>\n<!-- 140542103403656&#45;&gt;140542103403600 -->\n<g id=\"edge4\" class=\"edge\">\n<title>140542103403656&#45;&gt;140542103403600</title>\n<path fill=\"none\" stroke=\"#000000\" d=\"M79.8766,-227.6724C79.1368,-219.8405 79.0521,-210.5893 79.6224,-202.4323\"/>\n<polygon fill=\"#000000\" stroke=\"#000000\" points=\"83.131,-202.5601 80.8063,-192.2234 76.1776,-201.7537 83.131,-202.5601\"/>\n</g>\n<!-- 140542103403656&#45;&gt;140542103403600 -->\n<g id=\"edge5\" class=\"edge\">\n<title>140542103403656&#45;&gt;140542103403600</title>\n<path fill=\"none\" stroke=\"#000000\" d=\"M92.1234,-227.6724C92.8632,-219.8405 92.9479,-210.5893 92.3776,-202.4323\"/>\n<polygon fill=\"#000000\" stroke=\"#000000\" points=\"95.8224,-201.7537 91.1937,-192.2234 88.869,-202.5601 95.8224,-201.7537\"/>\n</g>\n</g>\n</svg>\n"
          },
          "metadata": {
            "tags": []
          },
          "execution_count": 22
        }
      ]
    },
    {
      "cell_type": "code",
      "metadata": {
        "id": "AEPS2hMfgC-g",
        "colab_type": "code",
        "colab": {}
      },
      "source": [
        "out.backward(torch.tensor(2.0))"
      ],
      "execution_count": 0,
      "outputs": []
    },
    {
      "cell_type": "markdown",
      "metadata": {
        "id": "_uzoqTqP7H2H",
        "colab_type": "text"
      },
      "source": [
        "### Question: Explain mathematically the value of \"x.grad\" in the following cell"
      ]
    },
    {
      "cell_type": "code",
      "metadata": {
        "id": "ngiu74HUgC-g",
        "colab_type": "code",
        "outputId": "62385a5a-0113-421b-972a-e1e95ee003d7",
        "colab": {
          "base_uri": "https://localhost:8080/",
          "height": 51
        }
      },
      "source": [
        "print(x.grad)"
      ],
      "execution_count": 24,
      "outputs": [
        {
          "output_type": "stream",
          "text": [
            "tensor([[6., 6.],\n",
            "        [6., 6.]])\n"
          ],
          "name": "stdout"
        }
      ]
    },
    {
      "cell_type": "markdown",
      "metadata": {
        "id": "ypBdAAq29Jcm",
        "colab_type": "text"
      },
      "source": [
        "## How to compute the gradient when I want?\n",
        "\n"
      ]
    },
    {
      "cell_type": "code",
      "metadata": {
        "id": "0QxJzcmqgC-h",
        "colab_type": "code",
        "outputId": "07ff39a3-f190-4074-831e-4806e8a71baf",
        "colab": {
          "base_uri": "https://localhost:8080/",
          "height": 51
        }
      },
      "source": [
        "x = torch.ones(2, 2)\n",
        "x.requires_grad_(True)\n",
        "y = x+2\n",
        "z = 3 * y ** 2 \n",
        "out = z.mean()\n",
        "\n",
        "out.backward(retain_graph=True)\n",
        "\n",
        "print(x.grad)"
      ],
      "execution_count": 25,
      "outputs": [
        {
          "output_type": "stream",
          "text": [
            "tensor([[4.5000, 4.5000],\n",
            "        [4.5000, 4.5000]])\n"
          ],
          "name": "stdout"
        }
      ]
    },
    {
      "cell_type": "markdown",
      "metadata": {
        "id": "UPWKUoHo9rwC",
        "colab_type": "text"
      },
      "source": [
        "Calling again the \"backward\" process does not launch an error. Furthermore, each time you run, each time sum accumulate."
      ]
    },
    {
      "cell_type": "markdown",
      "metadata": {
        "id": "j2ev8sTnxKWV",
        "colab_type": "text"
      },
      "source": [
        "$4.5 + 4.5 = 9$\n",
        "\n",
        "$9 + 4.5 = 13.5$\n",
        "\n",
        "..."
      ]
    },
    {
      "cell_type": "code",
      "metadata": {
        "id": "SNbrrv30gC-l",
        "colab_type": "code",
        "colab": {}
      },
      "source": [
        "out.backward(retain_graph=True)"
      ],
      "execution_count": 0,
      "outputs": []
    },
    {
      "cell_type": "code",
      "metadata": {
        "id": "20hB_GAkgC-i",
        "colab_type": "code",
        "outputId": "5a378f0d-1f16-4a2e-d9a8-463266b47a8c",
        "colab": {
          "base_uri": "https://localhost:8080/",
          "height": 51
        }
      },
      "source": [
        "print(x.grad)"
      ],
      "execution_count": 27,
      "outputs": [
        {
          "output_type": "stream",
          "text": [
            "tensor([[9., 9.],\n",
            "        [9., 9.]])\n"
          ],
          "name": "stdout"
        }
      ]
    },
    {
      "cell_type": "code",
      "metadata": {
        "id": "gXuFJckx-FFf",
        "colab_type": "code",
        "outputId": "e15c495f-8c42-4eda-f5d5-2002e341c08b",
        "colab": {
          "base_uri": "https://localhost:8080/",
          "height": 34
        }
      },
      "source": [
        "torch.autograd.grad(out, out, retain_graph=True)"
      ],
      "execution_count": 28,
      "outputs": [
        {
          "output_type": "execute_result",
          "data": {
            "text/plain": [
              "(tensor(1.),)"
            ]
          },
          "metadata": {
            "tags": []
          },
          "execution_count": 28
        }
      ]
    },
    {
      "cell_type": "code",
      "metadata": {
        "id": "swHcxn-CgC-j",
        "colab_type": "code",
        "outputId": "fdd51a85-a6f1-4652-e4fa-d1a28e7cfc22",
        "colab": {
          "base_uri": "https://localhost:8080/",
          "height": 51
        }
      },
      "source": [
        "torch.autograd.grad(out, z, retain_graph=True)"
      ],
      "execution_count": 29,
      "outputs": [
        {
          "output_type": "execute_result",
          "data": {
            "text/plain": [
              "(tensor([[0.2500, 0.2500],\n",
              "         [0.2500, 0.2500]]),)"
            ]
          },
          "metadata": {
            "tags": []
          },
          "execution_count": 29
        }
      ]
    },
    {
      "cell_type": "code",
      "metadata": {
        "id": "M_Ko7_y1gC-k",
        "colab_type": "code",
        "outputId": "c0572098-61f4-4a67-83fe-25aa750acab0",
        "colab": {
          "base_uri": "https://localhost:8080/",
          "height": 51
        }
      },
      "source": [
        "torch.autograd.grad(out, y, retain_graph=True)"
      ],
      "execution_count": 30,
      "outputs": [
        {
          "output_type": "execute_result",
          "data": {
            "text/plain": [
              "(tensor([[4.5000, 4.5000],\n",
              "         [4.5000, 4.5000]]),)"
            ]
          },
          "metadata": {
            "tags": []
          },
          "execution_count": 30
        }
      ]
    },
    {
      "cell_type": "code",
      "metadata": {
        "id": "OvjmLzDAgC-m",
        "colab_type": "code",
        "colab": {}
      },
      "source": [
        "out.backward(torch.tensor(2.0), retain_graph=True)"
      ],
      "execution_count": 0,
      "outputs": []
    },
    {
      "cell_type": "code",
      "metadata": {
        "id": "gctEXtYhgC-n",
        "colab_type": "code",
        "outputId": "ccb9c940-9406-4acc-c29f-d5b2c4e7572a",
        "colab": {
          "base_uri": "https://localhost:8080/",
          "height": 51
        }
      },
      "source": [
        "print(x.grad)"
      ],
      "execution_count": 32,
      "outputs": [
        {
          "output_type": "stream",
          "text": [
            "tensor([[18., 18.],\n",
            "        [18., 18.]])\n"
          ],
          "name": "stdout"
        }
      ]
    },
    {
      "cell_type": "markdown",
      "metadata": {
        "id": "vBtNQ8By_Aao",
        "colab_type": "text"
      },
      "source": [
        "## A last example"
      ]
    },
    {
      "cell_type": "code",
      "metadata": {
        "id": "Q_gpAR_6l_BC",
        "colab_type": "code",
        "outputId": "88ed7441-a2a1-4d34-8ebf-1843eb062b46",
        "colab": {
          "base_uri": "https://localhost:8080/",
          "height": 323
        }
      },
      "source": [
        "x=torch.ones(10, requires_grad=True)\n",
        "\n",
        "y=x**2\n",
        "z=x**3\n",
        "r=(y+z).sum()\n",
        "\n",
        "r.backward()\n",
        "print(x.grad)\n",
        "torchviz.make_dot(r) "
      ],
      "execution_count": 33,
      "outputs": [
        {
          "output_type": "stream",
          "text": [
            "tensor([5., 5., 5., 5., 5., 5., 5., 5., 5., 5.])\n"
          ],
          "name": "stdout"
        },
        {
          "output_type": "execute_result",
          "data": {
            "text/plain": [
              "<graphviz.dot.Digraph at 0x7fd282263e80>"
            ],
            "image/svg+xml": "<?xml version=\"1.0\" encoding=\"UTF-8\" standalone=\"no\"?>\n<!DOCTYPE svg PUBLIC \"-//W3C//DTD SVG 1.1//EN\"\n \"http://www.w3.org/Graphics/SVG/1.1/DTD/svg11.dtd\">\n<!-- Generated by graphviz version 2.40.1 (20161225.0304)\n -->\n<!-- Title: %3 Pages: 1 -->\n<svg width=\"212pt\" height=\"214pt\"\n viewBox=\"0.00 0.00 212.00 214.00\" xmlns=\"http://www.w3.org/2000/svg\" xmlns:xlink=\"http://www.w3.org/1999/xlink\">\n<g id=\"graph0\" class=\"graph\" transform=\"scale(1 1) rotate(0) translate(4 210)\">\n<title>%3</title>\n<polygon fill=\"#ffffff\" stroke=\"transparent\" points=\"-4,4 -4,-210 208,-210 208,4 -4,4\"/>\n<!-- 140542103403992 -->\n<g id=\"node1\" class=\"node\">\n<title>140542103403992</title>\n<polygon fill=\"#caff70\" stroke=\"#000000\" points=\"148,-21 55,-21 55,0 148,0 148,-21\"/>\n<text text-anchor=\"middle\" x=\"101.5\" y=\"-7.4\" font-family=\"Times,serif\" font-size=\"12.00\" fill=\"#000000\">SumBackward0</text>\n</g>\n<!-- 140542103403936 -->\n<g id=\"node2\" class=\"node\">\n<title>140542103403936</title>\n<polygon fill=\"#d3d3d3\" stroke=\"#000000\" points=\"147.5,-78 55.5,-78 55.5,-57 147.5,-57 147.5,-78\"/>\n<text text-anchor=\"middle\" x=\"101.5\" y=\"-64.4\" font-family=\"Times,serif\" font-size=\"12.00\" fill=\"#000000\">AddBackward0</text>\n</g>\n<!-- 140542103403936&#45;&gt;140542103403992 -->\n<g id=\"edge1\" class=\"edge\">\n<title>140542103403936&#45;&gt;140542103403992</title>\n<path fill=\"none\" stroke=\"#000000\" d=\"M101.5,-56.7787C101.5,-49.6134 101.5,-39.9517 101.5,-31.3097\"/>\n<polygon fill=\"#000000\" stroke=\"#000000\" points=\"105.0001,-31.1732 101.5,-21.1732 98.0001,-31.1732 105.0001,-31.1732\"/>\n</g>\n<!-- 140542103404272 -->\n<g id=\"node3\" class=\"node\">\n<title>140542103404272</title>\n<polygon fill=\"#d3d3d3\" stroke=\"#000000\" points=\"93,-135 0,-135 0,-114 93,-114 93,-135\"/>\n<text text-anchor=\"middle\" x=\"46.5\" y=\"-121.4\" font-family=\"Times,serif\" font-size=\"12.00\" fill=\"#000000\">PowBackward0</text>\n</g>\n<!-- 140542103404272&#45;&gt;140542103403936 -->\n<g id=\"edge2\" class=\"edge\">\n<title>140542103404272&#45;&gt;140542103403936</title>\n<path fill=\"none\" stroke=\"#000000\" d=\"M56.8451,-113.7787C64.5272,-105.8173 75.1831,-94.7739 84.1589,-85.4717\"/>\n<polygon fill=\"#000000\" stroke=\"#000000\" points=\"86.7763,-87.7997 91.2013,-78.1732 81.7389,-82.9391 86.7763,-87.7997\"/>\n</g>\n<!-- 140542103404496 -->\n<g id=\"node4\" class=\"node\">\n<title>140542103404496</title>\n<polygon fill=\"#add8e6\" stroke=\"#000000\" points=\"128.5,-206 74.5,-206 74.5,-171 128.5,-171 128.5,-206\"/>\n<text text-anchor=\"middle\" x=\"101.5\" y=\"-178.4\" font-family=\"Times,serif\" font-size=\"12.00\" fill=\"#000000\"> (10)</text>\n</g>\n<!-- 140542103404496&#45;&gt;140542103404272 -->\n<g id=\"edge3\" class=\"edge\">\n<title>140542103404496&#45;&gt;140542103404272</title>\n<path fill=\"none\" stroke=\"#000000\" d=\"M86.1794,-170.6724C78.7606,-162.0396 69.8597,-151.6821 62.3697,-142.9666\"/>\n<polygon fill=\"#000000\" stroke=\"#000000\" points=\"64.8876,-140.5265 55.7154,-135.2234 59.5787,-145.0888 64.8876,-140.5265\"/>\n</g>\n<!-- 140542103404384 -->\n<g id=\"node5\" class=\"node\">\n<title>140542103404384</title>\n<polygon fill=\"#d3d3d3\" stroke=\"#000000\" points=\"204,-135 111,-135 111,-114 204,-114 204,-135\"/>\n<text text-anchor=\"middle\" x=\"157.5\" y=\"-121.4\" font-family=\"Times,serif\" font-size=\"12.00\" fill=\"#000000\">PowBackward0</text>\n</g>\n<!-- 140542103404496&#45;&gt;140542103404384 -->\n<g id=\"edge5\" class=\"edge\">\n<title>140542103404496&#45;&gt;140542103404384</title>\n<path fill=\"none\" stroke=\"#000000\" d=\"M117.0991,-170.6724C124.6529,-162.0396 133.7156,-151.6821 141.3417,-142.9666\"/>\n<polygon fill=\"#000000\" stroke=\"#000000\" points=\"144.1659,-145.054 148.117,-135.2234 138.8979,-140.4444 144.1659,-145.054\"/>\n</g>\n<!-- 140542103404384&#45;&gt;140542103403936 -->\n<g id=\"edge4\" class=\"edge\">\n<title>140542103404384&#45;&gt;140542103403936</title>\n<path fill=\"none\" stroke=\"#000000\" d=\"M146.9668,-113.7787C139.145,-105.8173 128.2954,-94.7739 119.1564,-85.4717\"/>\n<polygon fill=\"#000000\" stroke=\"#000000\" points=\"121.4909,-82.8537 111.9859,-78.1732 116.4975,-87.7595 121.4909,-82.8537\"/>\n</g>\n</g>\n</svg>\n"
          },
          "metadata": {
            "tags": []
          },
          "execution_count": 33
        }
      ]
    },
    {
      "cell_type": "markdown",
      "metadata": {
        "id": "kTN0-Pm0gC-o",
        "colab_type": "text"
      },
      "source": [
        "## Gradient accumulation\n",
        "\n",
        "\n",
        "The gradients must be set to zero manually. Otherwise they will cumulate across several _.backward()_ calls. \n",
        "This accumulating behavior is desirable in particular to compute the gradient of a loss summed over several “mini-batches,” or the gradient of a sum of losses.\n"
      ]
    },
    {
      "cell_type": "code",
      "metadata": {
        "id": "ELCAEIdv_G3X",
        "colab_type": "code",
        "outputId": "0df954da-2e7d-44e5-c6a3-a60c5385ab49",
        "colab": {
          "base_uri": "https://localhost:8080/",
          "height": 34
        }
      },
      "source": [
        "x = torch.ones(1, 1,requires_grad = True)\n",
        "out = (x+1)**2\n",
        "print(out)"
      ],
      "execution_count": 34,
      "outputs": [
        {
          "output_type": "stream",
          "text": [
            "tensor([[4.]], grad_fn=<PowBackward0>)\n"
          ],
          "name": "stdout"
        }
      ]
    },
    {
      "cell_type": "code",
      "metadata": {
        "id": "lG7OEaY7gC-o",
        "colab_type": "code",
        "outputId": "81c62735-6fc0-49e7-fa71-d518682e3f13",
        "colab": {
          "base_uri": "https://localhost:8080/",
          "height": 68
        }
      },
      "source": [
        "out.backward(torch.ones(1,1),retain_graph=True)\n",
        "print(x.grad)\n",
        "out.backward(2 * torch.ones(1,1),retain_graph=True)\n",
        "print(x.grad)\n",
        "out.backward(retain_graph=True)\n",
        "print(x.grad)"
      ],
      "execution_count": 35,
      "outputs": [
        {
          "output_type": "stream",
          "text": [
            "tensor([[4.]])\n",
            "tensor([[12.]])\n",
            "tensor([[16.]])\n"
          ],
          "name": "stdout"
        }
      ]
    },
    {
      "cell_type": "code",
      "metadata": {
        "id": "64bGfnYegC-n",
        "colab_type": "code",
        "outputId": "8ae8e5d7-116d-4cd5-b6a5-5c650d91cd2a",
        "colab": {
          "base_uri": "https://localhost:8080/",
          "height": 34
        }
      },
      "source": [
        "# Manually zero the gradients after updating weights\n",
        "x.grad.data.zero_()"
      ],
      "execution_count": 36,
      "outputs": [
        {
          "output_type": "execute_result",
          "data": {
            "text/plain": [
              "tensor([[0.]])"
            ]
          },
          "metadata": {
            "tags": []
          },
          "execution_count": 36
        }
      ]
    },
    {
      "cell_type": "code",
      "metadata": {
        "id": "-7XNSIw9gC-p",
        "colab_type": "code",
        "outputId": "203f000a-ce6f-4932-e7c6-eb3ae165fcff",
        "colab": {
          "base_uri": "https://localhost:8080/",
          "height": 68
        }
      },
      "source": [
        "out.backward(torch.ones(1,1),retain_graph=True)\n",
        "print(x.grad)\n",
        "x.grad.data.zero_()\n",
        "out.backward(2 * torch.ones(1,1),retain_graph=True)\n",
        "print(x.grad)\n",
        "x.grad.data.zero_()\n",
        "out.backward(retain_graph=True)\n",
        "print(x.grad)\n"
      ],
      "execution_count": 37,
      "outputs": [
        {
          "output_type": "stream",
          "text": [
            "tensor([[4.]])\n",
            "tensor([[8.]])\n",
            "tensor([[4.]])\n"
          ],
          "name": "stdout"
        }
      ]
    },
    {
      "cell_type": "markdown",
      "metadata": {
        "id": "E-03ZcQggC-p",
        "colab_type": "text"
      },
      "source": [
        "If you want to come back to the difference between detach and data see [Differences between .data and .detach](https://github.com/pytorch/pytorch/issues/6990)"
      ]
    },
    {
      "cell_type": "markdown",
      "metadata": {
        "collapsed": true,
        "id": "yTdzGEodgC-p",
        "colab_type": "text"
      },
      "source": [
        "# Playing with a neural network in pytorch: non-linear regression"
      ]
    },
    {
      "cell_type": "markdown",
      "metadata": {
        "colab_type": "text",
        "id": "VMoz9H5VuC5B"
      },
      "source": [
        "## Non-linear regression with a neural network"
      ]
    },
    {
      "cell_type": "markdown",
      "metadata": {
        "id": "cZsTaZ2NgC-z",
        "colab_type": "text"
      },
      "source": [
        "An implementation of **(Batch) Gradient Descent** using the nn package. Here we have a super simple model with only one layer and no activation function!"
      ]
    },
    {
      "cell_type": "markdown",
      "metadata": {
        "id": "DDMmHyHmJfRC",
        "colab_type": "text"
      },
      "source": [
        "Generate the dataset and visualize it."
      ]
    },
    {
      "cell_type": "code",
      "metadata": {
        "id": "-mSHFwP337eD",
        "colab_type": "code",
        "outputId": "20a1cbc6-3afc-48a7-bdbb-8e94e29ab59f",
        "colab": {
          "base_uri": "https://localhost:8080/",
          "height": 248
        }
      },
      "source": [
        "from mpl_toolkits.mplot3d import Axes3D\n",
        "import matplotlib.pyplot as plt\n",
        "from matplotlib import cm\n",
        "from matplotlib.ticker import LinearLocator, FormatStrFormatter\n",
        "import numpy as np\n",
        "\n",
        "\n",
        "# Make data\n",
        "num_samples = 10\n",
        "X1 = np.linspace(-5, 5, num_samples) \n",
        "X2 = np.linspace(-5, 5, num_samples) \n",
        "X1grid, X2grid = np.meshgrid(X1, X2)\n",
        "Y = -(0.1*X1grid**2 + 3*np.sin(0.1*X2grid) + 0.1) \n",
        "\n",
        "#print(X1)\n",
        "#print(X1grid)\n",
        "#print(X2grid)\n",
        "#print(Y)\n",
        "\n",
        "# Plot the surface.\n",
        "fig = plt.figure()\n",
        "ax = fig.gca(projection='3d')\n",
        "surf = ax.plot_surface(X1grid, X2grid, Y, cmap=cm.coolwarm,\n",
        "                       linewidth=0, antialiased=False)\n",
        "\n",
        "# Add a color bar which maps values to colors.\n",
        "fig.colorbar(surf, shrink=0.5, aspect=5)\n",
        "plt.show()"
      ],
      "execution_count": 38,
      "outputs": [
        {
          "output_type": "display_data",
          "data": {
            "image/png": "[encoded data removed]",
            "text/plain": [
              "<Figure size 432x288 with 2 Axes>"
            ]
          },
          "metadata": {
            "tags": [],
            "needs_background": "light"
          }
        }
      ]
    },
    {
      "cell_type": "code",
      "metadata": {
        "id": "MMu65iQ17nPp",
        "colab_type": "code",
        "outputId": "3dc43d90-e397-4300-8f3c-24e1430fd9aa",
        "colab": {
          "base_uri": "https://localhost:8080/",
          "height": 68
        }
      },
      "source": [
        "x1n = X1grid.ravel().reshape(-1, 1)\n",
        "x2n = X2grid.ravel().reshape(-1, 1)\n",
        "xn = np.concatenate((x1n,x2n),axis=1)\n",
        "yn = Y.ravel().reshape(-1, 1)\n",
        "\n",
        "#print(x1n.shape)\n",
        "#print(x2n.shape)\n",
        "print(xn.shape)\n",
        "print(yn.shape)\n",
        "\n",
        "# Convert in pytorch tensors\n",
        "x = torch.from_numpy(xn).float()\n",
        "y = torch.from_numpy(yn).float()\n",
        "#print(x)\n",
        "#print(y)\n",
        "print(x.shape)"
      ],
      "execution_count": 39,
      "outputs": [
        {
          "output_type": "stream",
          "text": [
            "(100, 2)\n",
            "(100, 1)\n",
            "torch.Size([100, 2])\n"
          ],
          "name": "stdout"
        }
      ]
    },
    {
      "cell_type": "markdown",
      "metadata": {
        "id": "CkcyFiacL8fH",
        "colab_type": "text"
      },
      "source": [
        "## Neural network with full implementation (gradient computation and estimate update)"
      ]
    },
    {
      "cell_type": "code",
      "metadata": {
        "id": "T4se-BEixM3Z",
        "colab_type": "code",
        "outputId": "66220d24-25f0-47b8-88e5-4920dfdba286",
        "colab": {
          "base_uri": "https://localhost:8080/",
          "height": 204
        }
      },
      "source": [
        "import torch\n",
        "\n",
        "dtype = torch.float\n",
        "\n",
        "\n",
        "# N is batch size; D_in is input dimension;\n",
        "# H is hidden dimension; D_out is output dimension.\n",
        "N, D_in, H, D_out = num_samples**2, 2, 100, 1\n",
        "\n",
        "# Randomly initialize weights\n",
        "w1 = torch.randn(D_in, H, dtype=dtype)\n",
        "w2 = torch.randn(H, D_out,  dtype=dtype)\n",
        "\n",
        "learning_rate = 1e-6 \n",
        "for t in range(10001):\n",
        "    # Forward pass: compute predicted y\n",
        "    h = x.mm(w1)\n",
        "    \n",
        "    h_relu = h.clamp(min=0)\n",
        "    y_pred = h_relu.mm(w2)\n",
        "    #print(y_pred)\n",
        "\n",
        "    # Compute and print loss\n",
        "    loss = (y_pred - y).pow(2).sum().item()\n",
        "    if t % 1000 == 0:\n",
        "        print(t, loss)\n",
        "\n",
        "    # Backprop to compute gradients of w1 and w2 with respect to loss\n",
        "    grad_y_pred = 2.0 * (y_pred - y)\n",
        "    grad_w2 = h_relu.t().mm(grad_y_pred)\n",
        "    grad_h_relu = grad_y_pred.mm(w2.t())\n",
        "    grad_h = grad_h_relu.clone()\n",
        "    grad_h[h < 0] = 0\n",
        "    grad_w1 = x.t().mm(grad_h)\n",
        "\n",
        "    # Update weights using gradient descent\n",
        "    w1 -= learning_rate * grad_w1\n",
        "    w2 -= learning_rate * grad_w2"
      ],
      "execution_count": 40,
      "outputs": [
        {
          "output_type": "stream",
          "text": [
            "0 25747.078125\n",
            "1000 25.417776107788086\n",
            "2000 14.252472877502441\n",
            "3000 10.458600997924805\n",
            "4000 8.540343284606934\n",
            "5000 7.651550769805908\n",
            "6000 7.1416497230529785\n",
            "7000 6.692925930023193\n",
            "8000 6.3392181396484375\n",
            "9000 6.103318691253662\n",
            "10000 6.0123066902160645\n"
          ],
          "name": "stdout"
        }
      ]
    },
    {
      "cell_type": "markdown",
      "metadata": {
        "id": "xhipoBZvJJz7",
        "colab_type": "text"
      },
      "source": [
        "Compare the first values"
      ]
    },
    {
      "cell_type": "code",
      "metadata": {
        "id": "RDBc5npAAHzN",
        "colab_type": "code",
        "outputId": "5ce09df2-5b97-4d7d-f6df-4b4dfd03029b",
        "colab": {
          "base_uri": "https://localhost:8080/",
          "height": 187
        }
      },
      "source": [
        "print(y[0:5])\n",
        "print(y_pred[0:5])"
      ],
      "execution_count": 41,
      "outputs": [
        {
          "output_type": "stream",
          "text": [
            "tensor([[-1.1617],\n",
            "        [-0.1741],\n",
            "        [ 0.5667],\n",
            "        [ 1.0605],\n",
            "        [ 1.3074]])\n",
            "tensor([[-0.7436],\n",
            "        [-0.0678],\n",
            "        [ 0.6587],\n",
            "        [ 0.9505],\n",
            "        [ 1.4793]])\n"
          ],
          "name": "stdout"
        }
      ]
    },
    {
      "cell_type": "markdown",
      "metadata": {
        "id": "xA3rUb9XIhCc",
        "colab_type": "text"
      },
      "source": [
        "Plot the approximation in 1D"
      ]
    },
    {
      "cell_type": "code",
      "metadata": {
        "id": "q2rQUIq1OiiH",
        "colab_type": "code",
        "colab": {}
      },
      "source": [
        "def plotApproximation(y,y_pred):\n",
        "  plt.figure(figsize=(6, 4))\n",
        "  plt.plot(y.detach().numpy(),'b-')\n",
        "  plt.plot(y_pred.detach().numpy(),'r-*')\n",
        "  plt.xlabel('$x$')\n",
        "  plt.ylabel('$y$')\n",
        "  plt.title('Approximation with the neural network')\n",
        "  plt.show()"
      ],
      "execution_count": 0,
      "outputs": []
    },
    {
      "cell_type": "code",
      "metadata": {
        "id": "ibZbvbe3Otom",
        "colab_type": "code",
        "outputId": "fa205317-daad-40b8-bcab-7e6e5093a550",
        "colab": {
          "base_uri": "https://localhost:8080/",
          "height": 295
        }
      },
      "source": [
        "plotApproximation(y,y_pred)"
      ],
      "execution_count": 43,
      "outputs": [
        {
          "output_type": "display_data",
          "data": {
            "image/png": "[encoded data removed]",
            "text/plain": [
              "<Figure size 432x288 with 1 Axes>"
            ]
          },
          "metadata": {
            "tags": [],
            "needs_background": "light"
          }
        }
      ]
    },
    {
      "cell_type": "code",
      "metadata": {
        "id": "VzSSkdQq0sXr",
        "colab_type": "code",
        "outputId": "a2f5bb5e-63f6-42d2-a8d1-7bfc99f4619f",
        "colab": {
          "base_uri": "https://localhost:8080/",
          "height": 295
        }
      },
      "source": [
        "plt.figure(figsize=(6, 4))\n",
        "plt.plot(y.numpy()-y_pred.numpy())\n",
        "plt.title('Residuals')\n",
        "plt.xlabel('$x$')\n",
        "plt.ylabel('$y-\\hat{y}$')\n",
        "plt.show()"
      ],
      "execution_count": 44,
      "outputs": [
        {
          "output_type": "display_data",
          "data": {
            "image/png": "[encoded data removed]",
            "text/plain": [
              "<Figure size 432x288 with 1 Axes>"
            ]
          },
          "metadata": {
            "tags": [],
            "needs_background": "light"
          }
        }
      ]
    },
    {
      "cell_type": "markdown",
      "metadata": {
        "id": "Fqw-HzS5gC-0",
        "colab_type": "text"
      },
      "source": [
        "Last step, we use directly the optim package to update the weights and bias."
      ]
    },
    {
      "cell_type": "markdown",
      "metadata": {
        "id": "cKkd4LMWvX93",
        "colab_type": "text"
      },
      "source": [
        "## Neural network with automatic gradient computation (but still the explicit estimate update)\n",
        "\n",
        "\n",
        "A fully-connected ReLU network with one hidden layer, trained to predict y from x\n",
        "by minimizing squared Euclidean distance.\n",
        "\n",
        "This implementation uses the nn package from PyTorch to build the network.\n",
        "PyTorch autograd makes it easy to define computational graphs and take gradients,\n",
        "but raw autograd can be a bit too low-level for defining complex neural networks;\n",
        "this is where the nn package can help. The nn package defines a set of Modules,\n",
        "which you can think of as a neural network layer that has produces output from\n",
        "input and may have some trainable weights."
      ]
    },
    {
      "cell_type": "markdown",
      "metadata": {
        "id": "9aqqho33M21_",
        "colab_type": "text"
      },
      "source": [
        "### Question: use autograd to compute the gradient. You can start from the full implementation of the neural network."
      ]
    },
    {
      "cell_type": "code",
      "metadata": {
        "id": "9gm8w-aJvb0f",
        "colab_type": "code",
        "outputId": "ac12579d-9569-4373-d567-617f394d9ce7",
        "colab": {
          "base_uri": "https://localhost:8080/",
          "height": 204
        }
      },
      "source": [
        "import torch\n",
        "\n",
        "# N is batch size; D_in is input dimension;\n",
        "# H is hidden dimension; D_out is output dimension.\n",
        "N, D_in, H, D_out = num_samples**2, 2, 100, 1\n",
        "\n",
        "# Use the nn package to define our model as a sequence of layers. nn.Sequential\n",
        "# is a Module which contains other Modules, and applies them in sequence to\n",
        "# produce its output. Each Linear Module computes output from input using a\n",
        "# linear function, and holds internal Tensors for its weight and bias.\n",
        "model = torch.nn.Sequential(\n",
        "    torch.nn.Linear(D_in, H),\n",
        "    torch.nn.ReLU(),\n",
        "    torch.nn.Linear(H, D_out),\n",
        ")\n",
        "\n",
        "# The nn package also contains definitions of popular loss functions; in this\n",
        "# case we will use Mean Squared Error (MSE) as our loss function.\n",
        "loss_fn = torch.nn.MSELoss(reduction='sum')\n",
        "\n",
        "learning_rate = 1e-6\n",
        "for t in range(10001):\n",
        "    # Forward pass: compute predicted y by passing x to the model. Module objects\n",
        "    # override the __call__ operator so you can call them like functions. When\n",
        "    # doing so you pass a Tensor of input data to the Module and it produces\n",
        "    # a Tensor of output data.\n",
        "    y_pred = model(x)\n",
        "\n",
        "    # Compute and print loss. We pass Tensors containing the predicted and true\n",
        "    # values of y, and the loss function returns a Tensor containing the\n",
        "    # loss.\n",
        "    loss = loss_fn(y_pred, y)\n",
        "    if t % 1000 == 0:\n",
        "        print(t, loss.item())\n",
        "\n",
        "    \n",
        "    # COMPLETE THE CODE FROM HERE\n",
        "    # ..."
      ],
      "execution_count": 45,
      "outputs": [
        {
          "output_type": "stream",
          "text": [
            "0 187.08558654785156\n",
            "1000 187.08558654785156\n",
            "2000 187.08558654785156\n",
            "3000 187.08558654785156\n",
            "4000 187.08558654785156\n",
            "5000 187.08558654785156\n",
            "6000 187.08558654785156\n",
            "7000 187.08558654785156\n",
            "8000 187.08558654785156\n",
            "9000 187.08558654785156\n",
            "10000 187.08558654785156\n"
          ],
          "name": "stdout"
        }
      ]
    },
    {
      "cell_type": "code",
      "metadata": {
        "id": "j828Mw1pO_H1",
        "colab_type": "code",
        "outputId": "73a981ef-89db-4704-d348-60dd628f7259",
        "colab": {
          "base_uri": "https://localhost:8080/",
          "height": 295
        }
      },
      "source": [
        "plotApproximation(y,y_pred)"
      ],
      "execution_count": 46,
      "outputs": [
        {
          "output_type": "display_data",
          "data": {
            "image/png": "[encoded data removed]",
            "text/plain": [
              "<Figure size 432x288 with 1 Axes>"
            ]
          },
          "metadata": {
            "tags": [],
            "needs_background": "light"
          }
        }
      ]
    },
    {
      "cell_type": "markdown",
      "metadata": {
        "id": "xOJBAjFAMc63",
        "colab_type": "text"
      },
      "source": [
        "## Neural network with automatic gradient computation and automatic estimate update\n",
        "\n",
        "A fully-connected ReLU network with one hidden layer, trained to predict y from x\n",
        "by minimizing squared Euclidean distance.\n",
        "\n",
        "This implementation uses the nn package from PyTorch to build the network.\n",
        "\n",
        "Rather than manually updating the weights of the model as we have been doing,\n",
        "we use the optim package to define an Optimizer that will update the weights\n",
        "for us. The optim package defines many optimization algorithms that are commonly\n",
        "used for deep learning, including SGD+momentum, RMSProp, Adam, etc."
      ]
    },
    {
      "cell_type": "markdown",
      "metadata": {
        "id": "auFqUkCrNJPx",
        "colab_type": "text"
      },
      "source": [
        "### Question: use the Torch optimizer to do the gradient descent. You can start from the full implementation of the neural network with automatic differentiation.\n",
        "\n",
        "Details on Optimizer are [here](https://pytorch.org/docs/stable/optim.html)"
      ]
    },
    {
      "cell_type": "code",
      "metadata": {
        "id": "9dRfOhN3vnQN",
        "colab_type": "code",
        "outputId": "96edc75a-8d49-4599-8996-7cfbc71f863a",
        "colab": {
          "base_uri": "https://localhost:8080/",
          "height": 204
        }
      },
      "source": [
        "import torch\n",
        "\n",
        "# N is batch size; D_in is input dimension;\n",
        "# H is hidden dimension; D_out is output dimension.\n",
        "N, D_in, H, D_out = num_samples**2, 2, 100, 1\n",
        "\n",
        "# Use the nn package to define our model and loss function.\n",
        "model = torch.nn.Sequential(\n",
        "    torch.nn.Linear(D_in, H),\n",
        "    torch.nn.ReLU(),\n",
        "    torch.nn.Linear(H, D_out),\n",
        ")\n",
        "loss_fn = torch.nn.MSELoss(reduction='sum')\n",
        "\n",
        "# Use the optim package to define an Optimizer that will update the weights of\n",
        "# the model for us. Here we will use Adam; the optim package contains many other\n",
        "# optimization algoriths. The first argument to the Adam constructor tells the\n",
        "# optimizer which Tensors it should update.\n",
        "learning_rate = 1e-6\n",
        "#optimizer = torch.optim.Adam(model.parameters(), lr=learning_rate)\n",
        "optimizer = torch.optim.SGD(model.parameters(), lr=learning_rate)\n",
        "for t in range(10001):\n",
        "    # Forward pass: compute predicted y by passing x to the model.\n",
        "    y_pred = model(x)\n",
        "\n",
        "    # Compute and print loss.\n",
        "    loss = loss_fn(y_pred, y)\n",
        "    if t % 1000 == 0:\n",
        "        print(t, loss.item())\n",
        "\n",
        "    # COMPLETE THE CODE FROM HERE\n",
        "    # ..."
      ],
      "execution_count": 47,
      "outputs": [
        {
          "output_type": "stream",
          "text": [
            "0 262.1849365234375\n",
            "1000 262.1849365234375\n",
            "2000 262.1849365234375\n",
            "3000 262.1849365234375\n",
            "4000 262.1849365234375\n",
            "5000 262.1849365234375\n",
            "6000 262.1849365234375\n",
            "7000 262.1849365234375\n",
            "8000 262.1849365234375\n",
            "9000 262.1849365234375\n",
            "10000 262.1849365234375\n"
          ],
          "name": "stdout"
        }
      ]
    },
    {
      "cell_type": "code",
      "metadata": {
        "id": "l3wESBOnPAzx",
        "colab_type": "code",
        "outputId": "a7850451-9004-4a80-9fc5-44e9a7c26eed",
        "colab": {
          "base_uri": "https://localhost:8080/",
          "height": 295
        }
      },
      "source": [
        "plotApproximation(y,y_pred)"
      ],
      "execution_count": 48,
      "outputs": [
        {
          "output_type": "display_data",
          "data": {
            "image/png": "[encoded data removed]",
            "text/plain": [
              "<Figure size 432x288 with 1 Axes>"
            ]
          },
          "metadata": {
            "tags": [],
            "needs_background": "light"
          }
        }
      ]
    }
  ]
}